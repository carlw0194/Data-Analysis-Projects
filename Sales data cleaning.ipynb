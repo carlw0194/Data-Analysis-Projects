{
 "cells": [
  {
   "cell_type": "code",
   "execution_count": 1,
   "id": "76cfcb50",
   "metadata": {},
   "outputs": [],
   "source": [
    "import pandas as pd\n",
    "import numpy as np\n",
    "import datetime as dt"
   ]
  },
  {
   "cell_type": "code",
   "execution_count": 2,
   "id": "f06c0fce",
   "metadata": {},
   "outputs": [
    {
     "data": {
      "text/html": [
       "<div>\n",
       "<style scoped>\n",
       "    .dataframe tbody tr th:only-of-type {\n",
       "        vertical-align: middle;\n",
       "    }\n",
       "\n",
       "    .dataframe tbody tr th {\n",
       "        vertical-align: top;\n",
       "    }\n",
       "\n",
       "    .dataframe thead th {\n",
       "        text-align: right;\n",
       "    }\n",
       "</style>\n",
       "<table border=\"1\" class=\"dataframe\">\n",
       "  <thead>\n",
       "    <tr style=\"text-align: right;\">\n",
       "      <th></th>\n",
       "      <th>RetailerCountry</th>\n",
       "      <th>OrderMethod</th>\n",
       "      <th>RetailerType</th>\n",
       "      <th>ProductLine</th>\n",
       "      <th>ProductType</th>\n",
       "      <th>Product</th>\n",
       "      <th>Year</th>\n",
       "      <th>Quarter</th>\n",
       "      <th>Revenue</th>\n",
       "      <th>Quantity</th>\n",
       "      <th>GrossMargin</th>\n",
       "    </tr>\n",
       "    <tr>\n",
       "      <th>SaleID</th>\n",
       "      <th></th>\n",
       "      <th></th>\n",
       "      <th></th>\n",
       "      <th></th>\n",
       "      <th></th>\n",
       "      <th></th>\n",
       "      <th></th>\n",
       "      <th></th>\n",
       "      <th></th>\n",
       "      <th></th>\n",
       "      <th></th>\n",
       "    </tr>\n",
       "  </thead>\n",
       "  <tbody>\n",
       "    <tr>\n",
       "      <th>SaleID_1</th>\n",
       "      <td>United States</td>\n",
       "      <td>Fax</td>\n",
       "      <td>Outdoors Shop</td>\n",
       "      <td>Personal Accessories</td>\n",
       "      <td>Cooking Gear</td>\n",
       "      <td>TrailChef Deluxe Cook Set</td>\n",
       "      <td>2018.0</td>\n",
       "      <td>Q1 2018</td>\n",
       "      <td>59728.66</td>\n",
       "      <td>491.0</td>\n",
       "      <td>0.357548</td>\n",
       "    </tr>\n",
       "    <tr>\n",
       "      <th>SaleID_2</th>\n",
       "      <td>United States</td>\n",
       "      <td>Fax</td>\n",
       "      <td>Outdoors Shop</td>\n",
       "      <td>Sports Equipment</td>\n",
       "      <td>Cooking Gear</td>\n",
       "      <td>TrailChef Double Flame</td>\n",
       "      <td>2018.0</td>\n",
       "      <td>Q1 2018</td>\n",
       "      <td>36050.32</td>\n",
       "      <td>254.0</td>\n",
       "      <td>0.484274</td>\n",
       "    </tr>\n",
       "    <tr>\n",
       "      <th>SaleID_3</th>\n",
       "      <td>United States</td>\n",
       "      <td>Fax</td>\n",
       "      <td>Outdoors Shop</td>\n",
       "      <td>NaN</td>\n",
       "      <td>Tents</td>\n",
       "      <td>Star Dome</td>\n",
       "      <td>2018.0</td>\n",
       "      <td>Q1 2018</td>\n",
       "      <td>90040.48</td>\n",
       "      <td>149.0</td>\n",
       "      <td>NaN</td>\n",
       "    </tr>\n",
       "    <tr>\n",
       "      <th>SaleID_4</th>\n",
       "      <td>United States</td>\n",
       "      <td>Fax</td>\n",
       "      <td>Outdoors Shop</td>\n",
       "      <td>NaN</td>\n",
       "      <td>Tents</td>\n",
       "      <td>Star Gazer 2</td>\n",
       "      <td>2018.0</td>\n",
       "      <td>Q1 2018</td>\n",
       "      <td>NaN</td>\n",
       "      <td>305.0</td>\n",
       "      <td>0.292938</td>\n",
       "    </tr>\n",
       "    <tr>\n",
       "      <th>SaleID_5</th>\n",
       "      <td>United States</td>\n",
       "      <td>NaN</td>\n",
       "      <td>Outdoors Shop</td>\n",
       "      <td>Personal Accessories</td>\n",
       "      <td>First Aid</td>\n",
       "      <td>Compact Relief Kit</td>\n",
       "      <td>2018.0</td>\n",
       "      <td>Q1 2018</td>\n",
       "      <td>NaN</td>\n",
       "      <td>182.0</td>\n",
       "      <td>0.610710</td>\n",
       "    </tr>\n",
       "  </tbody>\n",
       "</table>\n",
       "</div>"
      ],
      "text/plain": [
       "         RetailerCountry OrderMethod   RetailerType           ProductLine  \\\n",
       "SaleID                                                                      \n",
       "SaleID_1   United States         Fax  Outdoors Shop  Personal Accessories   \n",
       "SaleID_2   United States         Fax  Outdoors Shop      Sports Equipment   \n",
       "SaleID_3   United States         Fax  Outdoors Shop                   NaN   \n",
       "SaleID_4   United States         Fax  Outdoors Shop                   NaN   \n",
       "SaleID_5   United States         NaN  Outdoors Shop  Personal Accessories   \n",
       "\n",
       "           ProductType                    Product    Year  Quarter   Revenue  \\\n",
       "SaleID                                                                         \n",
       "SaleID_1  Cooking Gear  TrailChef Deluxe Cook Set  2018.0  Q1 2018  59728.66   \n",
       "SaleID_2  Cooking Gear     TrailChef Double Flame  2018.0  Q1 2018  36050.32   \n",
       "SaleID_3         Tents                  Star Dome  2018.0  Q1 2018  90040.48   \n",
       "SaleID_4         Tents               Star Gazer 2  2018.0  Q1 2018       NaN   \n",
       "SaleID_5     First Aid         Compact Relief Kit  2018.0  Q1 2018       NaN   \n",
       "\n",
       "          Quantity  GrossMargin  \n",
       "SaleID                           \n",
       "SaleID_1     491.0     0.357548  \n",
       "SaleID_2     254.0     0.484274  \n",
       "SaleID_3     149.0          NaN  \n",
       "SaleID_4     305.0     0.292938  \n",
       "SaleID_5     182.0     0.610710  "
      ]
     },
     "execution_count": 2,
     "metadata": {},
     "output_type": "execute_result"
    }
   ],
   "source": [
    "data = pd.read_csv('Sales-products.csv',index_col=\"SaleID\")\n",
    "sales_products_data = data.copy()\n",
    "sales_products_data.head()"
   ]
  },
  {
   "cell_type": "code",
   "execution_count": 3,
   "id": "e60bc5c5",
   "metadata": {},
   "outputs": [
    {
     "data": {
      "text/html": [
       "<div>\n",
       "<style scoped>\n",
       "    .dataframe tbody tr th:only-of-type {\n",
       "        vertical-align: middle;\n",
       "    }\n",
       "\n",
       "    .dataframe tbody tr th {\n",
       "        vertical-align: top;\n",
       "    }\n",
       "\n",
       "    .dataframe thead th {\n",
       "        text-align: right;\n",
       "    }\n",
       "</style>\n",
       "<table border=\"1\" class=\"dataframe\">\n",
       "  <thead>\n",
       "    <tr style=\"text-align: right;\">\n",
       "      <th></th>\n",
       "      <th>RetailerCountry</th>\n",
       "      <th>OrderMethod</th>\n",
       "      <th>RetailerType</th>\n",
       "      <th>ProductLine</th>\n",
       "      <th>ProductType</th>\n",
       "      <th>Product</th>\n",
       "      <th>Year</th>\n",
       "      <th>Quarter</th>\n",
       "      <th>Revenue</th>\n",
       "      <th>Quantity</th>\n",
       "      <th>GrossMargin</th>\n",
       "    </tr>\n",
       "    <tr>\n",
       "      <th>SaleID</th>\n",
       "      <th></th>\n",
       "      <th></th>\n",
       "      <th></th>\n",
       "      <th></th>\n",
       "      <th></th>\n",
       "      <th></th>\n",
       "      <th></th>\n",
       "      <th></th>\n",
       "      <th></th>\n",
       "      <th></th>\n",
       "      <th></th>\n",
       "    </tr>\n",
       "  </thead>\n",
       "  <tbody>\n",
       "    <tr>\n",
       "      <th>SaleID_1272</th>\n",
       "      <td>Spain</td>\n",
       "      <td>Sales visit</td>\n",
       "      <td>Outdoors Shop</td>\n",
       "      <td>Personal Accessories</td>\n",
       "      <td>Rope</td>\n",
       "      <td>Husky Rope 60</td>\n",
       "      <td>2020.0</td>\n",
       "      <td>Q3 2020</td>\n",
       "      <td>30916.50</td>\n",
       "      <td>173.0</td>\n",
       "      <td>0.298114</td>\n",
       "    </tr>\n",
       "    <tr>\n",
       "      <th>SaleID_1273</th>\n",
       "      <td>Spain</td>\n",
       "      <td>Sales visit</td>\n",
       "      <td>Outdoors Shop</td>\n",
       "      <td>Outdoor Protection</td>\n",
       "      <td>Climbing Accessories</td>\n",
       "      <td>Firefly Climbing Lamp</td>\n",
       "      <td>2020.0</td>\n",
       "      <td>Q3 2020</td>\n",
       "      <td>7536.29</td>\n",
       "      <td>193.0</td>\n",
       "      <td>0.445287</td>\n",
       "    </tr>\n",
       "    <tr>\n",
       "      <th>SaleID_1274</th>\n",
       "      <td>Spain</td>\n",
       "      <td>Sales visit</td>\n",
       "      <td>Outdoors Shop</td>\n",
       "      <td>Personal Accessories</td>\n",
       "      <td>Climbing Accessories</td>\n",
       "      <td>Firefly Charger</td>\n",
       "      <td>2020.0</td>\n",
       "      <td>Q3 2020</td>\n",
       "      <td>12306.48</td>\n",
       "      <td>238.0</td>\n",
       "      <td>0.568420</td>\n",
       "    </tr>\n",
       "    <tr>\n",
       "      <th>SaleID_1275</th>\n",
       "      <td>Spain</td>\n",
       "      <td>Sales visit</td>\n",
       "      <td>Outdoors Shop</td>\n",
       "      <td>Personal Accessories</td>\n",
       "      <td>Tools</td>\n",
       "      <td>Granite Axe</td>\n",
       "      <td>2020.0</td>\n",
       "      <td>Q3 2020</td>\n",
       "      <td>56499.00</td>\n",
       "      <td>1472.0</td>\n",
       "      <td>0.490667</td>\n",
       "    </tr>\n",
       "    <tr>\n",
       "      <th>SaleID_1276</th>\n",
       "      <td>Spain</td>\n",
       "      <td>Sales visit</td>\n",
       "      <td>Outdoors Shop</td>\n",
       "      <td>Camping Equipment</td>\n",
       "      <td>Tools</td>\n",
       "      <td>Granite Extreme</td>\n",
       "      <td>2020.0</td>\n",
       "      <td>Q3 2020</td>\n",
       "      <td>89427.00</td>\n",
       "      <td>1178.0</td>\n",
       "      <td>0.386895</td>\n",
       "    </tr>\n",
       "  </tbody>\n",
       "</table>\n",
       "</div>"
      ],
      "text/plain": [
       "            RetailerCountry  OrderMethod   RetailerType           ProductLine  \\\n",
       "SaleID                                                                          \n",
       "SaleID_1272           Spain  Sales visit  Outdoors Shop  Personal Accessories   \n",
       "SaleID_1273           Spain  Sales visit  Outdoors Shop    Outdoor Protection   \n",
       "SaleID_1274           Spain  Sales visit  Outdoors Shop  Personal Accessories   \n",
       "SaleID_1275           Spain  Sales visit  Outdoors Shop  Personal Accessories   \n",
       "SaleID_1276           Spain  Sales visit  Outdoors Shop     Camping Equipment   \n",
       "\n",
       "                      ProductType                Product    Year  Quarter  \\\n",
       "SaleID                                                                      \n",
       "SaleID_1272                  Rope          Husky Rope 60  2020.0  Q3 2020   \n",
       "SaleID_1273  Climbing Accessories  Firefly Climbing Lamp  2020.0  Q3 2020   \n",
       "SaleID_1274  Climbing Accessories        Firefly Charger  2020.0  Q3 2020   \n",
       "SaleID_1275                 Tools            Granite Axe  2020.0  Q3 2020   \n",
       "SaleID_1276                 Tools        Granite Extreme  2020.0  Q3 2020   \n",
       "\n",
       "              Revenue  Quantity  GrossMargin  \n",
       "SaleID                                        \n",
       "SaleID_1272  30916.50     173.0     0.298114  \n",
       "SaleID_1273   7536.29     193.0     0.445287  \n",
       "SaleID_1274  12306.48     238.0     0.568420  \n",
       "SaleID_1275  56499.00    1472.0     0.490667  \n",
       "SaleID_1276  89427.00    1178.0     0.386895  "
      ]
     },
     "execution_count": 3,
     "metadata": {},
     "output_type": "execute_result"
    }
   ],
   "source": [
    "sales_products_data.tail()"
   ]
  },
  {
   "cell_type": "code",
   "execution_count": 80,
   "id": "71e252ae",
   "metadata": {},
   "outputs": [
    {
     "data": {
      "text/html": [
       "<div>\n",
       "<style scoped>\n",
       "    .dataframe tbody tr th:only-of-type {\n",
       "        vertical-align: middle;\n",
       "    }\n",
       "\n",
       "    .dataframe tbody tr th {\n",
       "        vertical-align: top;\n",
       "    }\n",
       "\n",
       "    .dataframe thead th {\n",
       "        text-align: right;\n",
       "    }\n",
       "</style>\n",
       "<table border=\"1\" class=\"dataframe\">\n",
       "  <thead>\n",
       "    <tr style=\"text-align: right;\">\n",
       "      <th></th>\n",
       "      <th>RetailerCountry</th>\n",
       "      <th>OrderMethod</th>\n",
       "      <th>RetailerType</th>\n",
       "      <th>ProductLine</th>\n",
       "      <th>ProductType</th>\n",
       "      <th>Product</th>\n",
       "      <th>Year</th>\n",
       "      <th>Quarter</th>\n",
       "      <th>Revenue</th>\n",
       "      <th>Quantity</th>\n",
       "      <th>GrossMargin</th>\n",
       "    </tr>\n",
       "    <tr>\n",
       "      <th>SaleID</th>\n",
       "      <th></th>\n",
       "      <th></th>\n",
       "      <th></th>\n",
       "      <th></th>\n",
       "      <th></th>\n",
       "      <th></th>\n",
       "      <th></th>\n",
       "      <th></th>\n",
       "      <th></th>\n",
       "      <th></th>\n",
       "      <th></th>\n",
       "    </tr>\n",
       "  </thead>\n",
       "  <tbody>\n",
       "    <tr>\n",
       "      <th>SaleID_1</th>\n",
       "      <td>United States</td>\n",
       "      <td>Fax</td>\n",
       "      <td>Outdoors Shop</td>\n",
       "      <td>Personal Accessories</td>\n",
       "      <td>Cooking Gear</td>\n",
       "      <td>TrailChef Deluxe Cook Set</td>\n",
       "      <td>2018-01-01</td>\n",
       "      <td>Q1 2018</td>\n",
       "      <td>59728.66</td>\n",
       "      <td>491.0</td>\n",
       "      <td>0.357548</td>\n",
       "    </tr>\n",
       "    <tr>\n",
       "      <th>SaleID_562</th>\n",
       "      <td>Finland</td>\n",
       "      <td>Sales visit</td>\n",
       "      <td>Outdoors Shop</td>\n",
       "      <td>Personal Accessories</td>\n",
       "      <td>Climbing Accessories</td>\n",
       "      <td>Granite Chalk Bag</td>\n",
       "      <td>2018-01-01</td>\n",
       "      <td>Q3 2018</td>\n",
       "      <td>3857.32</td>\n",
       "      <td>215.0</td>\n",
       "      <td>0.515440</td>\n",
       "    </tr>\n",
       "    <tr>\n",
       "      <th>SaleID_561</th>\n",
       "      <td>Finland</td>\n",
       "      <td>Sales visit</td>\n",
       "      <td>Outdoors Shop</td>\n",
       "      <td>Camping Equipment</td>\n",
       "      <td>Climbing Accessories</td>\n",
       "      <td>Firefly Rechargeable Battery</td>\n",
       "      <td>2018-01-01</td>\n",
       "      <td>Q3 2018</td>\n",
       "      <td>11367.52</td>\n",
       "      <td>1454.0</td>\n",
       "      <td>0.593072</td>\n",
       "    </tr>\n",
       "    <tr>\n",
       "      <th>SaleID_560</th>\n",
       "      <td>Finland</td>\n",
       "      <td>Sales visit</td>\n",
       "      <td>Outdoors Shop</td>\n",
       "      <td>Mountaineering Equipment</td>\n",
       "      <td>Climbing Accessories</td>\n",
       "      <td>Firefly Charger</td>\n",
       "      <td>2018-01-01</td>\n",
       "      <td>Q3 2018</td>\n",
       "      <td>16856.40</td>\n",
       "      <td>328.0</td>\n",
       "      <td>0.563981</td>\n",
       "    </tr>\n",
       "    <tr>\n",
       "      <th>SaleID_56</th>\n",
       "      <td>Canada</td>\n",
       "      <td>Web</td>\n",
       "      <td>Sports Store</td>\n",
       "      <td>Camping Equipment</td>\n",
       "      <td>Navigation</td>\n",
       "      <td>Glacier Deluxe</td>\n",
       "      <td>2018-01-01</td>\n",
       "      <td>Q1 2018</td>\n",
       "      <td>7895.90</td>\n",
       "      <td>88.0</td>\n",
       "      <td>0.389702</td>\n",
       "    </tr>\n",
       "    <tr>\n",
       "      <th>...</th>\n",
       "      <td>...</td>\n",
       "      <td>...</td>\n",
       "      <td>...</td>\n",
       "      <td>...</td>\n",
       "      <td>...</td>\n",
       "      <td>...</td>\n",
       "      <td>...</td>\n",
       "      <td>...</td>\n",
       "      <td>...</td>\n",
       "      <td>...</td>\n",
       "      <td>...</td>\n",
       "    </tr>\n",
       "    <tr>\n",
       "      <th>SaleID_1164</th>\n",
       "      <td>United Kingdom</td>\n",
       "      <td>E-mail</td>\n",
       "      <td>Outdoors Shop</td>\n",
       "      <td>Personal Accessories</td>\n",
       "      <td>Cooking Gear</td>\n",
       "      <td>TrailChef Water Bag</td>\n",
       "      <td>2020-01-01</td>\n",
       "      <td>Q2 2020</td>\n",
       "      <td>20433.56</td>\n",
       "      <td>3258.0</td>\n",
       "      <td>0.518169</td>\n",
       "    </tr>\n",
       "    <tr>\n",
       "      <th>SaleID_1165</th>\n",
       "      <td>United Kingdom</td>\n",
       "      <td>E-mail</td>\n",
       "      <td>Outdoors Shop</td>\n",
       "      <td>Mountaineering Equipment</td>\n",
       "      <td>Cooking Gear</td>\n",
       "      <td>TrailChef Canteen</td>\n",
       "      <td>2020-01-01</td>\n",
       "      <td>Q2 2020</td>\n",
       "      <td>10351.54</td>\n",
       "      <td>708.0</td>\n",
       "      <td>0.442454</td>\n",
       "    </tr>\n",
       "    <tr>\n",
       "      <th>SaleID_1166</th>\n",
       "      <td>United Kingdom</td>\n",
       "      <td>E-mail</td>\n",
       "      <td>Outdoors Shop</td>\n",
       "      <td>Camping Equipment</td>\n",
       "      <td>Cooking Gear</td>\n",
       "      <td>TrailChef Cook Set</td>\n",
       "      <td>2020-01-01</td>\n",
       "      <td>Q2 2020</td>\n",
       "      <td>49175.16</td>\n",
       "      <td>924.0</td>\n",
       "      <td>0.342656</td>\n",
       "    </tr>\n",
       "    <tr>\n",
       "      <th>SaleID_1158</th>\n",
       "      <td>Germany</td>\n",
       "      <td>Phone</td>\n",
       "      <td>Outdoors Shop</td>\n",
       "      <td>Personal Accessories</td>\n",
       "      <td>Climbing Accessories</td>\n",
       "      <td>Granite Pulley</td>\n",
       "      <td>2020-01-01</td>\n",
       "      <td>Q1 2020</td>\n",
       "      <td>20950.62</td>\n",
       "      <td>569.0</td>\n",
       "      <td>0.501170</td>\n",
       "    </tr>\n",
       "    <tr>\n",
       "      <th>SaleID_1220</th>\n",
       "      <td>Germany</td>\n",
       "      <td>E-mail</td>\n",
       "      <td>Sports Store</td>\n",
       "      <td>Sports Equipment</td>\n",
       "      <td>Cooking Gear</td>\n",
       "      <td>TrailChef Double Flame</td>\n",
       "      <td>2020-01-01</td>\n",
       "      <td>Q3 2020</td>\n",
       "      <td>27589.38</td>\n",
       "      <td>193.0</td>\n",
       "      <td>0.478817</td>\n",
       "    </tr>\n",
       "  </tbody>\n",
       "</table>\n",
       "<p>1276 rows × 11 columns</p>\n",
       "</div>"
      ],
      "text/plain": [
       "            RetailerCountry  OrderMethod   RetailerType  \\\n",
       "SaleID                                                    \n",
       "SaleID_1      United States          Fax  Outdoors Shop   \n",
       "SaleID_562          Finland  Sales visit  Outdoors Shop   \n",
       "SaleID_561          Finland  Sales visit  Outdoors Shop   \n",
       "SaleID_560          Finland  Sales visit  Outdoors Shop   \n",
       "SaleID_56            Canada          Web   Sports Store   \n",
       "...                     ...          ...            ...   \n",
       "SaleID_1164  United Kingdom       E-mail  Outdoors Shop   \n",
       "SaleID_1165  United Kingdom       E-mail  Outdoors Shop   \n",
       "SaleID_1166  United Kingdom       E-mail  Outdoors Shop   \n",
       "SaleID_1158         Germany        Phone  Outdoors Shop   \n",
       "SaleID_1220         Germany       E-mail   Sports Store   \n",
       "\n",
       "                          ProductLine           ProductType  \\\n",
       "SaleID                                                        \n",
       "SaleID_1         Personal Accessories          Cooking Gear   \n",
       "SaleID_562       Personal Accessories  Climbing Accessories   \n",
       "SaleID_561          Camping Equipment  Climbing Accessories   \n",
       "SaleID_560   Mountaineering Equipment  Climbing Accessories   \n",
       "SaleID_56           Camping Equipment            Navigation   \n",
       "...                               ...                   ...   \n",
       "SaleID_1164      Personal Accessories          Cooking Gear   \n",
       "SaleID_1165  Mountaineering Equipment          Cooking Gear   \n",
       "SaleID_1166         Camping Equipment          Cooking Gear   \n",
       "SaleID_1158      Personal Accessories  Climbing Accessories   \n",
       "SaleID_1220          Sports Equipment          Cooking Gear   \n",
       "\n",
       "                                  Product       Year  Quarter   Revenue  \\\n",
       "SaleID                                                                    \n",
       "SaleID_1        TrailChef Deluxe Cook Set 2018-01-01  Q1 2018  59728.66   \n",
       "SaleID_562              Granite Chalk Bag 2018-01-01  Q3 2018   3857.32   \n",
       "SaleID_561   Firefly Rechargeable Battery 2018-01-01  Q3 2018  11367.52   \n",
       "SaleID_560                Firefly Charger 2018-01-01  Q3 2018  16856.40   \n",
       "SaleID_56                  Glacier Deluxe 2018-01-01  Q1 2018   7895.90   \n",
       "...                                   ...        ...      ...       ...   \n",
       "SaleID_1164           TrailChef Water Bag 2020-01-01  Q2 2020  20433.56   \n",
       "SaleID_1165             TrailChef Canteen 2020-01-01  Q2 2020  10351.54   \n",
       "SaleID_1166            TrailChef Cook Set 2020-01-01  Q2 2020  49175.16   \n",
       "SaleID_1158                Granite Pulley 2020-01-01  Q1 2020  20950.62   \n",
       "SaleID_1220        TrailChef Double Flame 2020-01-01  Q3 2020  27589.38   \n",
       "\n",
       "             Quantity  GrossMargin  \n",
       "SaleID                              \n",
       "SaleID_1        491.0     0.357548  \n",
       "SaleID_562      215.0     0.515440  \n",
       "SaleID_561     1454.0     0.593072  \n",
       "SaleID_560      328.0     0.563981  \n",
       "SaleID_56        88.0     0.389702  \n",
       "...               ...          ...  \n",
       "SaleID_1164    3258.0     0.518169  \n",
       "SaleID_1165     708.0     0.442454  \n",
       "SaleID_1166     924.0     0.342656  \n",
       "SaleID_1158     569.0     0.501170  \n",
       "SaleID_1220     193.0     0.478817  \n",
       "\n",
       "[1276 rows x 11 columns]"
      ]
     },
     "execution_count": 80,
     "metadata": {},
     "output_type": "execute_result"
    }
   ],
   "source": [
    "sales_products_data.sort_index().sort_values([\"Year\"]) # sorting by SaleID column and then by Year\n"
   ]
  },
  {
   "cell_type": "code",
   "execution_count": 79,
   "id": "43eee07b",
   "metadata": {},
   "outputs": [
    {
     "name": "stderr",
     "output_type": "stream",
     "text": [
      "C:\\Users\\DC\\AppData\\Local\\Temp\\ipykernel_22512\\1296538192.py:1: FutureWarning: Treating datetime data as categorical rather than numeric in `.describe` is deprecated and will be removed in a future version of pandas. Specify `datetime_is_numeric=True` to silence this warning and adopt the future behavior now.\n",
      "  sales_products_data.describe(include='all') # Getting a general understanding of all the columns\n"
     ]
    },
    {
     "data": {
      "text/html": [
       "<div>\n",
       "<style scoped>\n",
       "    .dataframe tbody tr th:only-of-type {\n",
       "        vertical-align: middle;\n",
       "    }\n",
       "\n",
       "    .dataframe tbody tr th {\n",
       "        vertical-align: top;\n",
       "    }\n",
       "\n",
       "    .dataframe thead th {\n",
       "        text-align: right;\n",
       "    }\n",
       "</style>\n",
       "<table border=\"1\" class=\"dataframe\">\n",
       "  <thead>\n",
       "    <tr style=\"text-align: right;\">\n",
       "      <th></th>\n",
       "      <th>RetailerCountry</th>\n",
       "      <th>OrderMethod</th>\n",
       "      <th>RetailerType</th>\n",
       "      <th>ProductLine</th>\n",
       "      <th>ProductType</th>\n",
       "      <th>Product</th>\n",
       "      <th>Year</th>\n",
       "      <th>Quarter</th>\n",
       "      <th>Revenue</th>\n",
       "      <th>Quantity</th>\n",
       "      <th>GrossMargin</th>\n",
       "    </tr>\n",
       "  </thead>\n",
       "  <tbody>\n",
       "    <tr>\n",
       "      <th>count</th>\n",
       "      <td>1276</td>\n",
       "      <td>1276</td>\n",
       "      <td>1276</td>\n",
       "      <td>1276</td>\n",
       "      <td>1276</td>\n",
       "      <td>1276</td>\n",
       "      <td>1276</td>\n",
       "      <td>1276</td>\n",
       "      <td>1276.000000</td>\n",
       "      <td>1276.000000</td>\n",
       "      <td>1276.000000</td>\n",
       "    </tr>\n",
       "    <tr>\n",
       "      <th>unique</th>\n",
       "      <td>21</td>\n",
       "      <td>7</td>\n",
       "      <td>8</td>\n",
       "      <td>5</td>\n",
       "      <td>21</td>\n",
       "      <td>143</td>\n",
       "      <td>3</td>\n",
       "      <td>10</td>\n",
       "      <td>NaN</td>\n",
       "      <td>NaN</td>\n",
       "      <td>NaN</td>\n",
       "    </tr>\n",
       "    <tr>\n",
       "      <th>top</th>\n",
       "      <td>United States</td>\n",
       "      <td>Web</td>\n",
       "      <td>Outdoors Shop</td>\n",
       "      <td>Personal Accessories</td>\n",
       "      <td>Cooking Gear</td>\n",
       "      <td>Venue</td>\n",
       "      <td>2018-01-01 00:00:00</td>\n",
       "      <td>Q3 2018</td>\n",
       "      <td>NaN</td>\n",
       "      <td>NaN</td>\n",
       "      <td>NaN</td>\n",
       "    </tr>\n",
       "    <tr>\n",
       "      <th>freq</th>\n",
       "      <td>163</td>\n",
       "      <td>436</td>\n",
       "      <td>443</td>\n",
       "      <td>423</td>\n",
       "      <td>160</td>\n",
       "      <td>29</td>\n",
       "      <td>903</td>\n",
       "      <td>612</td>\n",
       "      <td>NaN</td>\n",
       "      <td>NaN</td>\n",
       "      <td>NaN</td>\n",
       "    </tr>\n",
       "    <tr>\n",
       "      <th>first</th>\n",
       "      <td>NaN</td>\n",
       "      <td>NaN</td>\n",
       "      <td>NaN</td>\n",
       "      <td>NaN</td>\n",
       "      <td>NaN</td>\n",
       "      <td>NaN</td>\n",
       "      <td>2018-01-01 00:00:00</td>\n",
       "      <td>NaN</td>\n",
       "      <td>NaN</td>\n",
       "      <td>NaN</td>\n",
       "      <td>NaN</td>\n",
       "    </tr>\n",
       "    <tr>\n",
       "      <th>last</th>\n",
       "      <td>NaN</td>\n",
       "      <td>NaN</td>\n",
       "      <td>NaN</td>\n",
       "      <td>NaN</td>\n",
       "      <td>NaN</td>\n",
       "      <td>NaN</td>\n",
       "      <td>2020-01-01 00:00:00</td>\n",
       "      <td>NaN</td>\n",
       "      <td>NaN</td>\n",
       "      <td>NaN</td>\n",
       "      <td>NaN</td>\n",
       "    </tr>\n",
       "    <tr>\n",
       "      <th>mean</th>\n",
       "      <td>NaN</td>\n",
       "      <td>NaN</td>\n",
       "      <td>NaN</td>\n",
       "      <td>NaN</td>\n",
       "      <td>NaN</td>\n",
       "      <td>NaN</td>\n",
       "      <td>NaN</td>\n",
       "      <td>NaN</td>\n",
       "      <td>31416.916794</td>\n",
       "      <td>600.657502</td>\n",
       "      <td>0.459638</td>\n",
       "    </tr>\n",
       "    <tr>\n",
       "      <th>std</th>\n",
       "      <td>NaN</td>\n",
       "      <td>NaN</td>\n",
       "      <td>NaN</td>\n",
       "      <td>NaN</td>\n",
       "      <td>NaN</td>\n",
       "      <td>NaN</td>\n",
       "      <td>NaN</td>\n",
       "      <td>NaN</td>\n",
       "      <td>50802.657023</td>\n",
       "      <td>976.572576</td>\n",
       "      <td>0.111421</td>\n",
       "    </tr>\n",
       "    <tr>\n",
       "      <th>min</th>\n",
       "      <td>NaN</td>\n",
       "      <td>NaN</td>\n",
       "      <td>NaN</td>\n",
       "      <td>NaN</td>\n",
       "      <td>NaN</td>\n",
       "      <td>NaN</td>\n",
       "      <td>NaN</td>\n",
       "      <td>NaN</td>\n",
       "      <td>0.000000</td>\n",
       "      <td>1.000000</td>\n",
       "      <td>0.058709</td>\n",
       "    </tr>\n",
       "    <tr>\n",
       "      <th>25%</th>\n",
       "      <td>NaN</td>\n",
       "      <td>NaN</td>\n",
       "      <td>NaN</td>\n",
       "      <td>NaN</td>\n",
       "      <td>NaN</td>\n",
       "      <td>NaN</td>\n",
       "      <td>NaN</td>\n",
       "      <td>NaN</td>\n",
       "      <td>7492.935000</td>\n",
       "      <td>108.000000</td>\n",
       "      <td>0.377222</td>\n",
       "    </tr>\n",
       "    <tr>\n",
       "      <th>50%</th>\n",
       "      <td>NaN</td>\n",
       "      <td>NaN</td>\n",
       "      <td>NaN</td>\n",
       "      <td>NaN</td>\n",
       "      <td>NaN</td>\n",
       "      <td>NaN</td>\n",
       "      <td>NaN</td>\n",
       "      <td>NaN</td>\n",
       "      <td>16242.180000</td>\n",
       "      <td>268.000000</td>\n",
       "      <td>0.459638</td>\n",
       "    </tr>\n",
       "    <tr>\n",
       "      <th>75%</th>\n",
       "      <td>NaN</td>\n",
       "      <td>NaN</td>\n",
       "      <td>NaN</td>\n",
       "      <td>NaN</td>\n",
       "      <td>NaN</td>\n",
       "      <td>NaN</td>\n",
       "      <td>NaN</td>\n",
       "      <td>NaN</td>\n",
       "      <td>39197.400000</td>\n",
       "      <td>640.000000</td>\n",
       "      <td>0.525656</td>\n",
       "    </tr>\n",
       "    <tr>\n",
       "      <th>max</th>\n",
       "      <td>NaN</td>\n",
       "      <td>NaN</td>\n",
       "      <td>NaN</td>\n",
       "      <td>NaN</td>\n",
       "      <td>NaN</td>\n",
       "      <td>NaN</td>\n",
       "      <td>NaN</td>\n",
       "      <td>NaN</td>\n",
       "      <td>944436.750000</td>\n",
       "      <td>13758.000000</td>\n",
       "      <td>0.780476</td>\n",
       "    </tr>\n",
       "  </tbody>\n",
       "</table>\n",
       "</div>"
      ],
      "text/plain": [
       "       RetailerCountry OrderMethod   RetailerType           ProductLine  \\\n",
       "count             1276        1276           1276                  1276   \n",
       "unique              21           7              8                     5   \n",
       "top      United States         Web  Outdoors Shop  Personal Accessories   \n",
       "freq               163         436            443                   423   \n",
       "first              NaN         NaN            NaN                   NaN   \n",
       "last               NaN         NaN            NaN                   NaN   \n",
       "mean               NaN         NaN            NaN                   NaN   \n",
       "std                NaN         NaN            NaN                   NaN   \n",
       "min                NaN         NaN            NaN                   NaN   \n",
       "25%                NaN         NaN            NaN                   NaN   \n",
       "50%                NaN         NaN            NaN                   NaN   \n",
       "75%                NaN         NaN            NaN                   NaN   \n",
       "max                NaN         NaN            NaN                   NaN   \n",
       "\n",
       "         ProductType Product                 Year  Quarter        Revenue  \\\n",
       "count           1276    1276                 1276     1276    1276.000000   \n",
       "unique            21     143                    3       10            NaN   \n",
       "top     Cooking Gear   Venue  2018-01-01 00:00:00  Q3 2018            NaN   \n",
       "freq             160      29                  903      612            NaN   \n",
       "first            NaN     NaN  2018-01-01 00:00:00      NaN            NaN   \n",
       "last             NaN     NaN  2020-01-01 00:00:00      NaN            NaN   \n",
       "mean             NaN     NaN                  NaN      NaN   31416.916794   \n",
       "std              NaN     NaN                  NaN      NaN   50802.657023   \n",
       "min              NaN     NaN                  NaN      NaN       0.000000   \n",
       "25%              NaN     NaN                  NaN      NaN    7492.935000   \n",
       "50%              NaN     NaN                  NaN      NaN   16242.180000   \n",
       "75%              NaN     NaN                  NaN      NaN   39197.400000   \n",
       "max              NaN     NaN                  NaN      NaN  944436.750000   \n",
       "\n",
       "            Quantity  GrossMargin  \n",
       "count    1276.000000  1276.000000  \n",
       "unique           NaN          NaN  \n",
       "top              NaN          NaN  \n",
       "freq             NaN          NaN  \n",
       "first            NaN          NaN  \n",
       "last             NaN          NaN  \n",
       "mean      600.657502     0.459638  \n",
       "std       976.572576     0.111421  \n",
       "min         1.000000     0.058709  \n",
       "25%       108.000000     0.377222  \n",
       "50%       268.000000     0.459638  \n",
       "75%       640.000000     0.525656  \n",
       "max     13758.000000     0.780476  "
      ]
     },
     "execution_count": 79,
     "metadata": {},
     "output_type": "execute_result"
    }
   ],
   "source": [
    "sales_products_data.describe(include='all') # Getting a general understanding of all the columns"
   ]
  },
  {
   "cell_type": "markdown",
   "id": "5272cca1",
   "metadata": {},
   "source": [
    " ### Checking Data types"
   ]
  },
  {
   "cell_type": "code",
   "execution_count": 6,
   "id": "2d1f95e6",
   "metadata": {},
   "outputs": [
    {
     "name": "stdout",
     "output_type": "stream",
     "text": [
      "<class 'pandas.core.frame.DataFrame'>\n",
      "Index: 1276 entries, SaleID_1 to SaleID_1276\n",
      "Data columns (total 11 columns):\n",
      " #   Column           Non-Null Count  Dtype  \n",
      "---  ------           --------------  -----  \n",
      " 0   RetailerCountry  1276 non-null   object \n",
      " 1   OrderMethod      1271 non-null   object \n",
      " 2   RetailerType     1273 non-null   object \n",
      " 3   ProductLine      1273 non-null   object \n",
      " 4   ProductType      1273 non-null   object \n",
      " 5   Product          1272 non-null   object \n",
      " 6   Year             1275 non-null   float64\n",
      " 7   Quarter          1276 non-null   object \n",
      " 8   Revenue          1260 non-null   float64\n",
      " 9   Quantity         1273 non-null   float64\n",
      " 10  GrossMargin      1250 non-null   float64\n",
      "dtypes: float64(4), object(7)\n",
      "memory usage: 119.6+ KB\n"
     ]
    }
   ],
   "source": [
    "sales_products_data.info() # get the metadata about the table. (6)Year must be changed to datetime."
   ]
  },
  {
   "cell_type": "code",
   "execution_count": 8,
   "id": "a0ed263f",
   "metadata": {},
   "outputs": [
    {
     "data": {
      "text/plain": [
       "SaleID\n",
       "SaleID_1      2018-01-01\n",
       "SaleID_2      2018-01-01\n",
       "SaleID_3      2018-01-01\n",
       "SaleID_4      2018-01-01\n",
       "SaleID_5      2018-01-01\n",
       "                 ...    \n",
       "SaleID_1272   2020-01-01\n",
       "SaleID_1273   2020-01-01\n",
       "SaleID_1274   2020-01-01\n",
       "SaleID_1275   2020-01-01\n",
       "SaleID_1276   2020-01-01\n",
       "Name: Year, Length: 1276, dtype: datetime64[ns]"
      ]
     },
     "execution_count": 8,
     "metadata": {},
     "output_type": "execute_result"
    }
   ],
   "source": [
    "# Convert Year to datetime format\n",
    "sales_products_data[\"Year\"] = pd.to_datetime(sales_products_data[\"Year\"],format='%Y')\n",
    "sales_products_data[\"Year\"]"
   ]
  },
  {
   "cell_type": "code",
   "execution_count": 12,
   "id": "8ca7eb1b",
   "metadata": {},
   "outputs": [
    {
     "data": {
      "text/plain": [
       "pandas.core.series.Series"
      ]
     },
     "execution_count": 12,
     "metadata": {},
     "output_type": "execute_result"
    }
   ],
   "source": [
    "type(sales_products_data[\"Year\"])"
   ]
  },
  {
   "cell_type": "markdown",
   "id": "64db040c",
   "metadata": {},
   "source": [
    "### Filling missing values\n",
    "### OrderMethod Column"
   ]
  },
  {
   "cell_type": "code",
   "execution_count": 13,
   "id": "bc6152dd",
   "metadata": {},
   "outputs": [
    {
     "data": {
      "text/plain": [
       "RetailerCountry     0\n",
       "OrderMethod         5\n",
       "RetailerType        3\n",
       "ProductLine         3\n",
       "ProductType         3\n",
       "Product             4\n",
       "Year                1\n",
       "Quarter             0\n",
       "Revenue            16\n",
       "Quantity            3\n",
       "GrossMargin        26\n",
       "dtype: int64"
      ]
     },
     "execution_count": 13,
     "metadata": {},
     "output_type": "execute_result"
    }
   ],
   "source": [
    "sales_products_data.isnull().sum()"
   ]
  },
  {
   "cell_type": "code",
   "execution_count": 15,
   "id": "c4fabe50",
   "metadata": {},
   "outputs": [
    {
     "data": {
      "text/plain": [
       "count     1271\n",
       "unique       7\n",
       "top        Web\n",
       "freq       431\n",
       "Name: OrderMethod, dtype: object"
      ]
     },
     "execution_count": 15,
     "metadata": {},
     "output_type": "execute_result"
    }
   ],
   "source": [
    "sales_products_data[\"OrderMethod\"].describe()"
   ]
  },
  {
   "cell_type": "code",
   "execution_count": 19,
   "id": "a9e3f0da",
   "metadata": {},
   "outputs": [
    {
     "data": {
      "text/plain": [
       "5"
      ]
     },
     "execution_count": 19,
     "metadata": {},
     "output_type": "execute_result"
    }
   ],
   "source": [
    "sales_products_data[\"OrderMethod\"].isna().sum()"
   ]
  },
  {
   "cell_type": "code",
   "execution_count": 28,
   "id": "828f619a",
   "metadata": {},
   "outputs": [
    {
     "data": {
      "text/plain": [
       "SaleID\n",
       "SaleID_1               Fax\n",
       "SaleID_2               Fax\n",
       "SaleID_3               Fax\n",
       "SaleID_4               Fax\n",
       "SaleID_5               Web\n",
       "                  ...     \n",
       "SaleID_1272    Sales visit\n",
       "SaleID_1273    Sales visit\n",
       "SaleID_1274    Sales visit\n",
       "SaleID_1275    Sales visit\n",
       "SaleID_1276    Sales visit\n",
       "Name: OrderMethod, Length: 1276, dtype: object"
      ]
     },
     "execution_count": 28,
     "metadata": {},
     "output_type": "execute_result"
    }
   ],
   "source": [
    "# Fill OrderMethod with top occurring object ie \"Web\"\n",
    "sales_products_data[\"OrderMethod\"] = sales_products_data[\"OrderMethod\"].fillna(\"Web\")\n",
    "sales_products_data[\"OrderMethod\"]"
   ]
  },
  {
   "cell_type": "markdown",
   "id": "64be9fc3",
   "metadata": {},
   "source": [
    "### Retailer Type"
   ]
  },
  {
   "cell_type": "code",
   "execution_count": 32,
   "id": "f703810d",
   "metadata": {},
   "outputs": [
    {
     "data": {
      "text/plain": [
       "count              1273\n",
       "unique                8\n",
       "top       Outdoors Shop\n",
       "freq                440\n",
       "Name: RetailerType, dtype: object"
      ]
     },
     "execution_count": 32,
     "metadata": {},
     "output_type": "execute_result"
    }
   ],
   "source": [
    "sales_products_data[\"RetailerType\"].describe()"
   ]
  },
  {
   "cell_type": "code",
   "execution_count": 35,
   "id": "f816b8ba",
   "metadata": {},
   "outputs": [
    {
     "data": {
      "text/plain": [
       "SaleID\n",
       "SaleID_1       Outdoors Shop\n",
       "SaleID_2       Outdoors Shop\n",
       "SaleID_3       Outdoors Shop\n",
       "SaleID_4       Outdoors Shop\n",
       "SaleID_5       Outdoors Shop\n",
       "                   ...      \n",
       "SaleID_1272    Outdoors Shop\n",
       "SaleID_1273    Outdoors Shop\n",
       "SaleID_1274    Outdoors Shop\n",
       "SaleID_1275    Outdoors Shop\n",
       "SaleID_1276    Outdoors Shop\n",
       "Name: RetailerType, Length: 1276, dtype: object"
      ]
     },
     "execution_count": 35,
     "metadata": {},
     "output_type": "execute_result"
    }
   ],
   "source": [
    "# Fill with top\n",
    "sales_products_data[\"RetailerType\"] = sales_products_data[\"RetailerType\"].fillna(\"Outdoors Shop\")\n",
    "sales_products_data[\"RetailerType\"]"
   ]
  },
  {
   "cell_type": "markdown",
   "id": "00b3c0d0",
   "metadata": {},
   "source": [
    "### Product Line"
   ]
  },
  {
   "cell_type": "code",
   "execution_count": 36,
   "id": "41d85977",
   "metadata": {},
   "outputs": [
    {
     "data": {
      "text/plain": [
       "count                     1273\n",
       "unique                       5\n",
       "top       Personal Accessories\n",
       "freq                       420\n",
       "Name: ProductLine, dtype: object"
      ]
     },
     "execution_count": 36,
     "metadata": {},
     "output_type": "execute_result"
    }
   ],
   "source": [
    "sales_products_data[\"ProductLine\"].describe()"
   ]
  },
  {
   "cell_type": "code",
   "execution_count": 38,
   "id": "3277e372",
   "metadata": {},
   "outputs": [
    {
     "data": {
      "text/plain": [
       "SaleID\n",
       "SaleID_1       Personal Accessories\n",
       "SaleID_2           Sports Equipment\n",
       "SaleID_3       Personal Accessories\n",
       "SaleID_4       Personal Accessories\n",
       "SaleID_5       Personal Accessories\n",
       "                       ...         \n",
       "SaleID_1272    Personal Accessories\n",
       "SaleID_1273      Outdoor Protection\n",
       "SaleID_1274    Personal Accessories\n",
       "SaleID_1275    Personal Accessories\n",
       "SaleID_1276       Camping Equipment\n",
       "Name: ProductLine, Length: 1276, dtype: object"
      ]
     },
     "execution_count": 38,
     "metadata": {},
     "output_type": "execute_result"
    }
   ],
   "source": [
    "# fill with top\n",
    "sales_products_data[\"ProductLine\"] = sales_products_data[\"ProductLine\"].fillna(\"Personal Accessories\")\n",
    "sales_products_data[\"ProductLine\"]"
   ]
  },
  {
   "cell_type": "markdown",
   "id": "ac7384cf",
   "metadata": {},
   "source": [
    "### Product Type\n"
   ]
  },
  {
   "cell_type": "code",
   "execution_count": 72,
   "id": "c72591bc",
   "metadata": {},
   "outputs": [
    {
     "data": {
      "text/plain": [
       "count             1273\n",
       "unique              21\n",
       "top       Cooking Gear\n",
       "freq               157\n",
       "Name: ProductType, dtype: object"
      ]
     },
     "execution_count": 72,
     "metadata": {},
     "output_type": "execute_result"
    }
   ],
   "source": [
    "sales_products_data[\"ProductType\"].describe()"
   ]
  },
  {
   "cell_type": "code",
   "execution_count": 75,
   "id": "326eb559",
   "metadata": {},
   "outputs": [
    {
     "data": {
      "text/plain": [
       "3"
      ]
     },
     "execution_count": 75,
     "metadata": {},
     "output_type": "execute_result"
    }
   ],
   "source": [
    "sales_products_data[\"ProductType\"].isnull().sum()"
   ]
  },
  {
   "cell_type": "code",
   "execution_count": 77,
   "id": "430aca8d",
   "metadata": {},
   "outputs": [
    {
     "data": {
      "text/plain": [
       "SaleID\n",
       "SaleID_1               Cooking Gear\n",
       "SaleID_2               Cooking Gear\n",
       "SaleID_3                      Tents\n",
       "SaleID_4                      Tents\n",
       "SaleID_5                  First Aid\n",
       "                       ...         \n",
       "SaleID_1272                    Rope\n",
       "SaleID_1273    Climbing Accessories\n",
       "SaleID_1274    Climbing Accessories\n",
       "SaleID_1275                   Tools\n",
       "SaleID_1276                   Tools\n",
       "Name: ProductType, Length: 1276, dtype: object"
      ]
     },
     "execution_count": 77,
     "metadata": {},
     "output_type": "execute_result"
    }
   ],
   "source": [
    "# fill with top\n",
    "sales_products_data[\"ProductType\"] = sales_products_data[\"ProductType\"].fillna(\"Cooking Gear\")\n",
    "sales_products_data[\"ProductType\"]"
   ]
  },
  {
   "cell_type": "code",
   "execution_count": 45,
   "id": "cf3e4800",
   "metadata": {},
   "outputs": [
    {
     "data": {
      "text/plain": [
       "Index(['RetailerCountry', 'OrderMethod', 'RetailerType', 'ProductLine',\n",
       "       'ProductType', 'Product', 'Year', 'Quarter', 'Revenue', 'Quantity',\n",
       "       'GrossMargin'],\n",
       "      dtype='object')"
      ]
     },
     "execution_count": 45,
     "metadata": {},
     "output_type": "execute_result"
    }
   ],
   "source": [
    "sales_products_data.columns"
   ]
  },
  {
   "cell_type": "markdown",
   "id": "f344e692",
   "metadata": {},
   "source": [
    "### Product"
   ]
  },
  {
   "cell_type": "code",
   "execution_count": 46,
   "id": "449134ed",
   "metadata": {},
   "outputs": [
    {
     "data": {
      "text/plain": [
       "4"
      ]
     },
     "execution_count": 46,
     "metadata": {},
     "output_type": "execute_result"
    }
   ],
   "source": [
    "sales_products_data[\"Product\"].isna().sum()"
   ]
  },
  {
   "cell_type": "code",
   "execution_count": 49,
   "id": "37c4c004",
   "metadata": {},
   "outputs": [
    {
     "data": {
      "text/plain": [
       "count      1272\n",
       "unique      143\n",
       "top       Venue\n",
       "freq         25\n",
       "Name: Product, dtype: object"
      ]
     },
     "execution_count": 49,
     "metadata": {},
     "output_type": "execute_result"
    }
   ],
   "source": [
    "sales_products_data[\"Product\"].describe()"
   ]
  },
  {
   "cell_type": "code",
   "execution_count": 51,
   "id": "9d47b673",
   "metadata": {},
   "outputs": [
    {
     "data": {
      "text/plain": [
       "SaleID\n",
       "SaleID_1       TrailChef Deluxe Cook Set\n",
       "SaleID_2          TrailChef Double Flame\n",
       "SaleID_3                       Star Dome\n",
       "SaleID_4                    Star Gazer 2\n",
       "SaleID_5              Compact Relief Kit\n",
       "                         ...            \n",
       "SaleID_1272                Husky Rope 60\n",
       "SaleID_1273        Firefly Climbing Lamp\n",
       "SaleID_1274              Firefly Charger\n",
       "SaleID_1275                  Granite Axe\n",
       "SaleID_1276              Granite Extreme\n",
       "Name: Product, Length: 1276, dtype: object"
      ]
     },
     "execution_count": 51,
     "metadata": {},
     "output_type": "execute_result"
    }
   ],
   "source": [
    "#Fill with top\n",
    "sales_products_data[\"Product\"] =  sales_products_data[\"Product\"].fillna(\"Venue\")\n",
    "sales_products_data[\"Product\"]"
   ]
  },
  {
   "cell_type": "markdown",
   "id": "27bf16e6",
   "metadata": {},
   "source": [
    "### Year"
   ]
  },
  {
   "cell_type": "code",
   "execution_count": 54,
   "id": "5eca40ae",
   "metadata": {},
   "outputs": [
    {
     "data": {
      "text/html": [
       "<div>\n",
       "<style scoped>\n",
       "    .dataframe tbody tr th:only-of-type {\n",
       "        vertical-align: middle;\n",
       "    }\n",
       "\n",
       "    .dataframe tbody tr th {\n",
       "        vertical-align: top;\n",
       "    }\n",
       "\n",
       "    .dataframe thead th {\n",
       "        text-align: right;\n",
       "    }\n",
       "</style>\n",
       "<table border=\"1\" class=\"dataframe\">\n",
       "  <thead>\n",
       "    <tr style=\"text-align: right;\">\n",
       "      <th></th>\n",
       "      <th>RetailerCountry</th>\n",
       "      <th>OrderMethod</th>\n",
       "      <th>RetailerType</th>\n",
       "      <th>ProductLine</th>\n",
       "      <th>ProductType</th>\n",
       "      <th>Product</th>\n",
       "      <th>Year</th>\n",
       "      <th>Quarter</th>\n",
       "      <th>Revenue</th>\n",
       "      <th>Quantity</th>\n",
       "      <th>GrossMargin</th>\n",
       "    </tr>\n",
       "    <tr>\n",
       "      <th>SaleID</th>\n",
       "      <th></th>\n",
       "      <th></th>\n",
       "      <th></th>\n",
       "      <th></th>\n",
       "      <th></th>\n",
       "      <th></th>\n",
       "      <th></th>\n",
       "      <th></th>\n",
       "      <th></th>\n",
       "      <th></th>\n",
       "      <th></th>\n",
       "    </tr>\n",
       "  </thead>\n",
       "  <tbody>\n",
       "    <tr>\n",
       "      <th>SaleID_1</th>\n",
       "      <td>United States</td>\n",
       "      <td>Fax</td>\n",
       "      <td>Outdoors Shop</td>\n",
       "      <td>Personal Accessories</td>\n",
       "      <td>Cooking Gear</td>\n",
       "      <td>TrailChef Deluxe Cook Set</td>\n",
       "      <td>2018-01-01</td>\n",
       "      <td>Q1 2018</td>\n",
       "      <td>59728.66</td>\n",
       "      <td>491.0</td>\n",
       "      <td>0.357548</td>\n",
       "    </tr>\n",
       "    <tr>\n",
       "      <th>SaleID_2</th>\n",
       "      <td>United States</td>\n",
       "      <td>Fax</td>\n",
       "      <td>Outdoors Shop</td>\n",
       "      <td>Sports Equipment</td>\n",
       "      <td>Cooking Gear</td>\n",
       "      <td>TrailChef Double Flame</td>\n",
       "      <td>2018-01-01</td>\n",
       "      <td>Q1 2018</td>\n",
       "      <td>36050.32</td>\n",
       "      <td>254.0</td>\n",
       "      <td>0.484274</td>\n",
       "    </tr>\n",
       "    <tr>\n",
       "      <th>SaleID_3</th>\n",
       "      <td>United States</td>\n",
       "      <td>Fax</td>\n",
       "      <td>Outdoors Shop</td>\n",
       "      <td>Personal Accessories</td>\n",
       "      <td>Tents</td>\n",
       "      <td>Star Dome</td>\n",
       "      <td>2018-01-01</td>\n",
       "      <td>Q1 2018</td>\n",
       "      <td>90040.48</td>\n",
       "      <td>149.0</td>\n",
       "      <td>NaN</td>\n",
       "    </tr>\n",
       "    <tr>\n",
       "      <th>SaleID_4</th>\n",
       "      <td>United States</td>\n",
       "      <td>Fax</td>\n",
       "      <td>Outdoors Shop</td>\n",
       "      <td>Personal Accessories</td>\n",
       "      <td>Tents</td>\n",
       "      <td>Star Gazer 2</td>\n",
       "      <td>2018-01-01</td>\n",
       "      <td>Q1 2018</td>\n",
       "      <td>NaN</td>\n",
       "      <td>305.0</td>\n",
       "      <td>0.292938</td>\n",
       "    </tr>\n",
       "    <tr>\n",
       "      <th>SaleID_5</th>\n",
       "      <td>United States</td>\n",
       "      <td>Web</td>\n",
       "      <td>Outdoors Shop</td>\n",
       "      <td>Personal Accessories</td>\n",
       "      <td>First Aid</td>\n",
       "      <td>Compact Relief Kit</td>\n",
       "      <td>2018-01-01</td>\n",
       "      <td>Q1 2018</td>\n",
       "      <td>NaN</td>\n",
       "      <td>182.0</td>\n",
       "      <td>0.610710</td>\n",
       "    </tr>\n",
       "  </tbody>\n",
       "</table>\n",
       "</div>"
      ],
      "text/plain": [
       "         RetailerCountry OrderMethod   RetailerType           ProductLine  \\\n",
       "SaleID                                                                      \n",
       "SaleID_1   United States         Fax  Outdoors Shop  Personal Accessories   \n",
       "SaleID_2   United States         Fax  Outdoors Shop      Sports Equipment   \n",
       "SaleID_3   United States         Fax  Outdoors Shop  Personal Accessories   \n",
       "SaleID_4   United States         Fax  Outdoors Shop  Personal Accessories   \n",
       "SaleID_5   United States         Web  Outdoors Shop  Personal Accessories   \n",
       "\n",
       "           ProductType                    Product       Year  Quarter  \\\n",
       "SaleID                                                                  \n",
       "SaleID_1  Cooking Gear  TrailChef Deluxe Cook Set 2018-01-01  Q1 2018   \n",
       "SaleID_2  Cooking Gear     TrailChef Double Flame 2018-01-01  Q1 2018   \n",
       "SaleID_3         Tents                  Star Dome 2018-01-01  Q1 2018   \n",
       "SaleID_4         Tents               Star Gazer 2 2018-01-01  Q1 2018   \n",
       "SaleID_5     First Aid         Compact Relief Kit 2018-01-01  Q1 2018   \n",
       "\n",
       "           Revenue  Quantity  GrossMargin  \n",
       "SaleID                                     \n",
       "SaleID_1  59728.66     491.0     0.357548  \n",
       "SaleID_2  36050.32     254.0     0.484274  \n",
       "SaleID_3  90040.48     149.0          NaN  \n",
       "SaleID_4       NaN     305.0     0.292938  \n",
       "SaleID_5       NaN     182.0     0.610710  "
      ]
     },
     "execution_count": 54,
     "metadata": {},
     "output_type": "execute_result"
    }
   ],
   "source": [
    "sales_products_data.head()"
   ]
  },
  {
   "cell_type": "code",
   "execution_count": 56,
   "id": "53a6dc53",
   "metadata": {},
   "outputs": [],
   "source": [
    "# fill with top\n",
    "year_filler = sales_products_data.loc[\"SaleID_1\", \"Year\"]"
   ]
  },
  {
   "cell_type": "code",
   "execution_count": 58,
   "id": "f70de36b",
   "metadata": {},
   "outputs": [],
   "source": [
    "sales_products_data[\"Year\"] = sales_products_data[\"Year\"].fillna(year_filler)"
   ]
  },
  {
   "cell_type": "markdown",
   "id": "fd12e427",
   "metadata": {},
   "source": [
    "### Revenue, Quantity,GrossMargin\n"
   ]
  },
  {
   "cell_type": "code",
   "execution_count": 65,
   "id": "f854582d",
   "metadata": {},
   "outputs": [
    {
     "data": {
      "text/plain": [
       "(31416.91679365077, 600.657501963865, 0.459638333568)"
      ]
     },
     "execution_count": 65,
     "metadata": {},
     "output_type": "execute_result"
    }
   ],
   "source": [
    "# mean of each column\n",
    "revFiller,quanFiller,grossFiller = sales_products_data[\"Revenue\"].mean(),sales_products_data[\"Quantity\"].mean(),sales_products_data[\"GrossMargin\"].mean()\n",
    "revFiller,quanFiller,grossFiller"
   ]
  },
  {
   "cell_type": "code",
   "execution_count": 66,
   "id": "99ae855a",
   "metadata": {},
   "outputs": [],
   "source": [
    "# Fill each column with mean\n",
    "sales_products_data[\"Revenue\"] = sales_products_data[\"Revenue\"].fillna(revFiller)\n",
    "sales_products_data[\"Quantity\"] = sales_products_data[\"Quantity\"].fillna(quanFiller)\n",
    "sales_products_data[\"GrossMargin\"] = sales_products_data[\"GrossMargin\"].fillna(grossFiller)"
   ]
  },
  {
   "cell_type": "code",
   "execution_count": 69,
   "id": "0738e982",
   "metadata": {},
   "outputs": [
    {
     "data": {
      "text/html": [
       "<div>\n",
       "<style scoped>\n",
       "    .dataframe tbody tr th:only-of-type {\n",
       "        vertical-align: middle;\n",
       "    }\n",
       "\n",
       "    .dataframe tbody tr th {\n",
       "        vertical-align: top;\n",
       "    }\n",
       "\n",
       "    .dataframe thead th {\n",
       "        text-align: right;\n",
       "    }\n",
       "</style>\n",
       "<table border=\"1\" class=\"dataframe\">\n",
       "  <thead>\n",
       "    <tr style=\"text-align: right;\">\n",
       "      <th></th>\n",
       "      <th>Revenue</th>\n",
       "      <th>Quantity</th>\n",
       "      <th>GrossMargin</th>\n",
       "    </tr>\n",
       "    <tr>\n",
       "      <th>SaleID</th>\n",
       "      <th></th>\n",
       "      <th></th>\n",
       "      <th></th>\n",
       "    </tr>\n",
       "  </thead>\n",
       "  <tbody>\n",
       "    <tr>\n",
       "      <th>SaleID_1</th>\n",
       "      <td>59728.660000</td>\n",
       "      <td>491.0</td>\n",
       "      <td>0.357548</td>\n",
       "    </tr>\n",
       "    <tr>\n",
       "      <th>SaleID_2</th>\n",
       "      <td>36050.320000</td>\n",
       "      <td>254.0</td>\n",
       "      <td>0.484274</td>\n",
       "    </tr>\n",
       "    <tr>\n",
       "      <th>SaleID_3</th>\n",
       "      <td>90040.480000</td>\n",
       "      <td>149.0</td>\n",
       "      <td>0.459638</td>\n",
       "    </tr>\n",
       "    <tr>\n",
       "      <th>SaleID_4</th>\n",
       "      <td>31416.916794</td>\n",
       "      <td>305.0</td>\n",
       "      <td>0.292938</td>\n",
       "    </tr>\n",
       "    <tr>\n",
       "      <th>SaleID_5</th>\n",
       "      <td>31416.916794</td>\n",
       "      <td>182.0</td>\n",
       "      <td>0.610710</td>\n",
       "    </tr>\n",
       "    <tr>\n",
       "      <th>...</th>\n",
       "      <td>...</td>\n",
       "      <td>...</td>\n",
       "      <td>...</td>\n",
       "    </tr>\n",
       "    <tr>\n",
       "      <th>SaleID_1272</th>\n",
       "      <td>30916.500000</td>\n",
       "      <td>173.0</td>\n",
       "      <td>0.298114</td>\n",
       "    </tr>\n",
       "    <tr>\n",
       "      <th>SaleID_1273</th>\n",
       "      <td>7536.290000</td>\n",
       "      <td>193.0</td>\n",
       "      <td>0.445287</td>\n",
       "    </tr>\n",
       "    <tr>\n",
       "      <th>SaleID_1274</th>\n",
       "      <td>12306.480000</td>\n",
       "      <td>238.0</td>\n",
       "      <td>0.568420</td>\n",
       "    </tr>\n",
       "    <tr>\n",
       "      <th>SaleID_1275</th>\n",
       "      <td>56499.000000</td>\n",
       "      <td>1472.0</td>\n",
       "      <td>0.490667</td>\n",
       "    </tr>\n",
       "    <tr>\n",
       "      <th>SaleID_1276</th>\n",
       "      <td>89427.000000</td>\n",
       "      <td>1178.0</td>\n",
       "      <td>0.386895</td>\n",
       "    </tr>\n",
       "  </tbody>\n",
       "</table>\n",
       "<p>1276 rows × 3 columns</p>\n",
       "</div>"
      ],
      "text/plain": [
       "                  Revenue  Quantity  GrossMargin\n",
       "SaleID                                          \n",
       "SaleID_1     59728.660000     491.0     0.357548\n",
       "SaleID_2     36050.320000     254.0     0.484274\n",
       "SaleID_3     90040.480000     149.0     0.459638\n",
       "SaleID_4     31416.916794     305.0     0.292938\n",
       "SaleID_5     31416.916794     182.0     0.610710\n",
       "...                   ...       ...          ...\n",
       "SaleID_1272  30916.500000     173.0     0.298114\n",
       "SaleID_1273   7536.290000     193.0     0.445287\n",
       "SaleID_1274  12306.480000     238.0     0.568420\n",
       "SaleID_1275  56499.000000    1472.0     0.490667\n",
       "SaleID_1276  89427.000000    1178.0     0.386895\n",
       "\n",
       "[1276 rows x 3 columns]"
      ]
     },
     "execution_count": 69,
     "metadata": {},
     "output_type": "execute_result"
    }
   ],
   "source": [
    "sales_products_data[[\"Revenue\",\"Quantity\",\"GrossMargin\"]]"
   ]
  },
  {
   "cell_type": "code",
   "execution_count": 81,
   "id": "a5da613f",
   "metadata": {},
   "outputs": [
    {
     "data": {
      "text/plain": [
       "RetailerCountry    0\n",
       "OrderMethod        0\n",
       "RetailerType       0\n",
       "ProductLine        0\n",
       "ProductType        0\n",
       "Product            0\n",
       "Year               0\n",
       "Quarter            0\n",
       "Revenue            0\n",
       "Quantity           0\n",
       "GrossMargin        0\n",
       "dtype: int64"
      ]
     },
     "execution_count": 81,
     "metadata": {},
     "output_type": "execute_result"
    }
   ],
   "source": [
    "# Check for missing values\n",
    "sales_products_data.isna().sum()"
   ]
  },
  {
   "cell_type": "markdown",
   "id": "f7ef5f14",
   "metadata": {},
   "source": [
    " ### Rename some columns"
   ]
  },
  {
   "cell_type": "code",
   "execution_count": 86,
   "id": "78049382",
   "metadata": {},
   "outputs": [
    {
     "data": {
      "text/plain": [
       "Index(['Country', 'OrderMethod', 'Retailer', 'Line', 'Type', 'Product', 'Year',\n",
       "       'Quarter', 'Revenue', 'Quantity', 'Margin'],\n",
       "      dtype='object')"
      ]
     },
     "execution_count": 86,
     "metadata": {},
     "output_type": "execute_result"
    }
   ],
   "source": [
    "new_column_names = ['Country', 'OrderMethod', 'Retailer', 'Line',\n",
    "       'Type', 'Product', 'Year', 'Quarter', 'Revenue', 'Quantity',\n",
    "       'Margin']\n",
    "sales_products_data.columns = new_column_names\n",
    "sales_products_data.columns"
   ]
  },
  {
   "cell_type": "markdown",
   "id": "6cb4a1cf",
   "metadata": {},
   "source": [
    "### Write to csv file"
   ]
  },
  {
   "cell_type": "code",
   "execution_count": 93,
   "id": "2671985d",
   "metadata": {},
   "outputs": [],
   "source": [
    "sales_products_data.to_csv('newfile.csv', index=False)"
   ]
  },
  {
   "cell_type": "code",
   "execution_count": 97,
   "id": "4b0ff5a9",
   "metadata": {},
   "outputs": [
    {
     "name": "stderr",
     "output_type": "stream",
     "text": [
      "'cat' is not recognized as an internal or external command,\n",
      "operable program or batch file.\n"
     ]
    }
   ],
   "source": []
  }
 ],
 "metadata": {
  "kernelspec": {
   "display_name": "Python 3 (ipykernel)",
   "language": "python",
   "name": "python3"
  },
  "language_info": {
   "codemirror_mode": {
    "name": "ipython",
    "version": 3
   },
   "file_extension": ".py",
   "mimetype": "text/x-python",
   "name": "python",
   "nbconvert_exporter": "python",
   "pygments_lexer": "ipython3",
   "version": "3.9.12"
  }
 },
 "nbformat": 4,
 "nbformat_minor": 5
}
