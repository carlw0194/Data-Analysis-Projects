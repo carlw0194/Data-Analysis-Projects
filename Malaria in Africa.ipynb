{
 "cells": [
  {
   "cell_type": "markdown",
   "id": "f6eaae06",
   "metadata": {},
   "source": [
    "# Malaria in Africa"
   ]
  },
  {
   "cell_type": "code",
   "execution_count": 78,
   "id": "68b8636b",
   "metadata": {},
   "outputs": [],
   "source": [
    "import pandas as pd\n",
    "import os"
   ]
  },
  {
   "cell_type": "code",
   "execution_count": 79,
   "id": "00bbc842",
   "metadata": {},
   "outputs": [
    {
     "data": {
      "text/html": [
       "<div>\n",
       "<style scoped>\n",
       "    .dataframe tbody tr th:only-of-type {\n",
       "        vertical-align: middle;\n",
       "    }\n",
       "\n",
       "    .dataframe tbody tr th {\n",
       "        vertical-align: top;\n",
       "    }\n",
       "\n",
       "    .dataframe thead th {\n",
       "        text-align: right;\n",
       "    }\n",
       "</style>\n",
       "<table border=\"1\" class=\"dataframe\">\n",
       "  <thead>\n",
       "    <tr style=\"text-align: right;\">\n",
       "      <th></th>\n",
       "      <th>Country Name</th>\n",
       "      <th>Year</th>\n",
       "      <th>Country Code</th>\n",
       "      <th>Incidence of malaria (per 1,000 population at risk)</th>\n",
       "      <th>Malaria cases reported</th>\n",
       "      <th>Use of insecticide-treated bed nets (% of under-5 population)</th>\n",
       "      <th>Children with fever receiving antimalarial drugs (% of children under age 5 with fever)</th>\n",
       "      <th>Intermittent preventive treatment (IPT) of malaria in pregnancy (% of pregnant women)</th>\n",
       "      <th>People using safely managed drinking water services (% of population)</th>\n",
       "      <th>People using safely managed drinking water services, rural (% of rural population)</th>\n",
       "      <th>...</th>\n",
       "      <th>Urban population growth (annual %)</th>\n",
       "      <th>People using at least basic drinking water services (% of population)</th>\n",
       "      <th>People using at least basic drinking water services, rural (% of rural population)</th>\n",
       "      <th>People using at least basic drinking water services, urban (% of urban population)</th>\n",
       "      <th>People using at least basic sanitation services (% of population)</th>\n",
       "      <th>People using at least basic sanitation services, rural (% of rural population)</th>\n",
       "      <th>People using at least basic sanitation services, urban  (% of urban population)</th>\n",
       "      <th>latitude</th>\n",
       "      <th>longitude</th>\n",
       "      <th>geometry</th>\n",
       "    </tr>\n",
       "  </thead>\n",
       "  <tbody>\n",
       "    <tr>\n",
       "      <th>0</th>\n",
       "      <td>Algeria</td>\n",
       "      <td>2007</td>\n",
       "      <td>DZA</td>\n",
       "      <td>0.01</td>\n",
       "      <td>26.0</td>\n",
       "      <td>NaN</td>\n",
       "      <td>NaN</td>\n",
       "      <td>NaN</td>\n",
       "      <td>NaN</td>\n",
       "      <td>NaN</td>\n",
       "      <td>...</td>\n",
       "      <td>2.71</td>\n",
       "      <td>91.68</td>\n",
       "      <td>85.83</td>\n",
       "      <td>94.78</td>\n",
       "      <td>85.85</td>\n",
       "      <td>76.94</td>\n",
       "      <td>90.57</td>\n",
       "      <td>28.033886</td>\n",
       "      <td>1.659626</td>\n",
       "      <td>POINT (28.033886 1.659626)</td>\n",
       "    </tr>\n",
       "    <tr>\n",
       "      <th>1</th>\n",
       "      <td>Angola</td>\n",
       "      <td>2007</td>\n",
       "      <td>AGO</td>\n",
       "      <td>286.72</td>\n",
       "      <td>1533485.0</td>\n",
       "      <td>18.0</td>\n",
       "      <td>29.8</td>\n",
       "      <td>1.5</td>\n",
       "      <td>NaN</td>\n",
       "      <td>NaN</td>\n",
       "      <td>...</td>\n",
       "      <td>5.01</td>\n",
       "      <td>47.96</td>\n",
       "      <td>23.77</td>\n",
       "      <td>65.83</td>\n",
       "      <td>37.26</td>\n",
       "      <td>14.00</td>\n",
       "      <td>54.44</td>\n",
       "      <td>-11.202692</td>\n",
       "      <td>17.873887</td>\n",
       "      <td>POINT (-11.202692 17.873887)</td>\n",
       "    </tr>\n",
       "    <tr>\n",
       "      <th>2</th>\n",
       "      <td>Benin</td>\n",
       "      <td>2007</td>\n",
       "      <td>BEN</td>\n",
       "      <td>480.24</td>\n",
       "      <td>0.0</td>\n",
       "      <td>NaN</td>\n",
       "      <td>NaN</td>\n",
       "      <td>NaN</td>\n",
       "      <td>NaN</td>\n",
       "      <td>NaN</td>\n",
       "      <td>...</td>\n",
       "      <td>4.09</td>\n",
       "      <td>63.78</td>\n",
       "      <td>54.92</td>\n",
       "      <td>76.24</td>\n",
       "      <td>11.80</td>\n",
       "      <td>4.29</td>\n",
       "      <td>22.36</td>\n",
       "      <td>9.307690</td>\n",
       "      <td>2.315834</td>\n",
       "      <td>POINT (9.307689999999999 2.315834)</td>\n",
       "    </tr>\n",
       "    <tr>\n",
       "      <th>3</th>\n",
       "      <td>Botswana</td>\n",
       "      <td>2007</td>\n",
       "      <td>BWA</td>\n",
       "      <td>1.03</td>\n",
       "      <td>390.0</td>\n",
       "      <td>NaN</td>\n",
       "      <td>NaN</td>\n",
       "      <td>NaN</td>\n",
       "      <td>NaN</td>\n",
       "      <td>NaN</td>\n",
       "      <td>...</td>\n",
       "      <td>4.80</td>\n",
       "      <td>78.89</td>\n",
       "      <td>57.60</td>\n",
       "      <td>94.35</td>\n",
       "      <td>61.60</td>\n",
       "      <td>39.99</td>\n",
       "      <td>77.30</td>\n",
       "      <td>-22.328474</td>\n",
       "      <td>24.684866</td>\n",
       "      <td>POINT (-22.328474 24.684866)</td>\n",
       "    </tr>\n",
       "    <tr>\n",
       "      <th>4</th>\n",
       "      <td>Burkina Faso</td>\n",
       "      <td>2007</td>\n",
       "      <td>BFA</td>\n",
       "      <td>503.80</td>\n",
       "      <td>44246.0</td>\n",
       "      <td>NaN</td>\n",
       "      <td>NaN</td>\n",
       "      <td>NaN</td>\n",
       "      <td>NaN</td>\n",
       "      <td>NaN</td>\n",
       "      <td>...</td>\n",
       "      <td>5.91</td>\n",
       "      <td>52.27</td>\n",
       "      <td>45.13</td>\n",
       "      <td>76.15</td>\n",
       "      <td>15.60</td>\n",
       "      <td>6.38</td>\n",
       "      <td>46.49</td>\n",
       "      <td>12.238333</td>\n",
       "      <td>-1.561593</td>\n",
       "      <td>POINT (12.238333 -1.561593)</td>\n",
       "    </tr>\n",
       "    <tr>\n",
       "      <th>...</th>\n",
       "      <td>...</td>\n",
       "      <td>...</td>\n",
       "      <td>...</td>\n",
       "      <td>...</td>\n",
       "      <td>...</td>\n",
       "      <td>...</td>\n",
       "      <td>...</td>\n",
       "      <td>...</td>\n",
       "      <td>...</td>\n",
       "      <td>...</td>\n",
       "      <td>...</td>\n",
       "      <td>...</td>\n",
       "      <td>...</td>\n",
       "      <td>...</td>\n",
       "      <td>...</td>\n",
       "      <td>...</td>\n",
       "      <td>...</td>\n",
       "      <td>...</td>\n",
       "      <td>...</td>\n",
       "      <td>...</td>\n",
       "      <td>...</td>\n",
       "    </tr>\n",
       "    <tr>\n",
       "      <th>589</th>\n",
       "      <td>Togo</td>\n",
       "      <td>2017</td>\n",
       "      <td>TGO</td>\n",
       "      <td>278.20</td>\n",
       "      <td>1755577.0</td>\n",
       "      <td>69.7</td>\n",
       "      <td>31.1</td>\n",
       "      <td>41.7</td>\n",
       "      <td>NaN</td>\n",
       "      <td>NaN</td>\n",
       "      <td>...</td>\n",
       "      <td>3.79</td>\n",
       "      <td>65.13</td>\n",
       "      <td>48.39</td>\n",
       "      <td>89.06</td>\n",
       "      <td>16.13</td>\n",
       "      <td>7.40</td>\n",
       "      <td>28.61</td>\n",
       "      <td>8.619543</td>\n",
       "      <td>0.824782</td>\n",
       "      <td>POINT (8.619543 0.824782)</td>\n",
       "    </tr>\n",
       "    <tr>\n",
       "      <th>590</th>\n",
       "      <td>Tunisia</td>\n",
       "      <td>2017</td>\n",
       "      <td>TUN</td>\n",
       "      <td>NaN</td>\n",
       "      <td>NaN</td>\n",
       "      <td>NaN</td>\n",
       "      <td>NaN</td>\n",
       "      <td>NaN</td>\n",
       "      <td>92.66</td>\n",
       "      <td>NaN</td>\n",
       "      <td>...</td>\n",
       "      <td>1.57</td>\n",
       "      <td>96.25</td>\n",
       "      <td>88.71</td>\n",
       "      <td>99.70</td>\n",
       "      <td>90.92</td>\n",
       "      <td>81.35</td>\n",
       "      <td>95.29</td>\n",
       "      <td>33.886917</td>\n",
       "      <td>9.537499</td>\n",
       "      <td>POINT (33.886917 9.537499)</td>\n",
       "    </tr>\n",
       "    <tr>\n",
       "      <th>591</th>\n",
       "      <td>Uganda</td>\n",
       "      <td>2017</td>\n",
       "      <td>UGA</td>\n",
       "      <td>336.76</td>\n",
       "      <td>11667831.0</td>\n",
       "      <td>NaN</td>\n",
       "      <td>NaN</td>\n",
       "      <td>NaN</td>\n",
       "      <td>7.07</td>\n",
       "      <td>4.46</td>\n",
       "      <td>...</td>\n",
       "      <td>6.25</td>\n",
       "      <td>49.10</td>\n",
       "      <td>41.25</td>\n",
       "      <td>75.11</td>\n",
       "      <td>18.47</td>\n",
       "      <td>16.17</td>\n",
       "      <td>26.11</td>\n",
       "      <td>1.373333</td>\n",
       "      <td>32.290275</td>\n",
       "      <td>POINT (1.373333 32.290275)</td>\n",
       "    </tr>\n",
       "    <tr>\n",
       "      <th>592</th>\n",
       "      <td>Zambia</td>\n",
       "      <td>2017</td>\n",
       "      <td>ZMB</td>\n",
       "      <td>160.05</td>\n",
       "      <td>5505639.0</td>\n",
       "      <td>NaN</td>\n",
       "      <td>NaN</td>\n",
       "      <td>NaN</td>\n",
       "      <td>NaN</td>\n",
       "      <td>NaN</td>\n",
       "      <td>...</td>\n",
       "      <td>4.21</td>\n",
       "      <td>59.96</td>\n",
       "      <td>41.95</td>\n",
       "      <td>83.86</td>\n",
       "      <td>26.37</td>\n",
       "      <td>18.93</td>\n",
       "      <td>36.24</td>\n",
       "      <td>-13.133897</td>\n",
       "      <td>27.849332</td>\n",
       "      <td>POINT (-13.133897 27.849332)</td>\n",
       "    </tr>\n",
       "    <tr>\n",
       "      <th>593</th>\n",
       "      <td>Zimbabwe</td>\n",
       "      <td>2017</td>\n",
       "      <td>ZWE</td>\n",
       "      <td>108.55</td>\n",
       "      <td>467508.0</td>\n",
       "      <td>NaN</td>\n",
       "      <td>NaN</td>\n",
       "      <td>NaN</td>\n",
       "      <td>NaN</td>\n",
       "      <td>NaN</td>\n",
       "      <td>...</td>\n",
       "      <td>1.28</td>\n",
       "      <td>64.05</td>\n",
       "      <td>49.80</td>\n",
       "      <td>94.00</td>\n",
       "      <td>36.22</td>\n",
       "      <td>31.47</td>\n",
       "      <td>46.22</td>\n",
       "      <td>-19.015438</td>\n",
       "      <td>29.154857</td>\n",
       "      <td>POINT (-19.015438 29.154857)</td>\n",
       "    </tr>\n",
       "  </tbody>\n",
       "</table>\n",
       "<p>594 rows × 27 columns</p>\n",
       "</div>"
      ],
      "text/plain": [
       "     Country Name  Year Country Code  \\\n",
       "0         Algeria  2007          DZA   \n",
       "1          Angola  2007          AGO   \n",
       "2           Benin  2007          BEN   \n",
       "3        Botswana  2007          BWA   \n",
       "4    Burkina Faso  2007          BFA   \n",
       "..            ...   ...          ...   \n",
       "589          Togo  2017          TGO   \n",
       "590       Tunisia  2017          TUN   \n",
       "591        Uganda  2017          UGA   \n",
       "592        Zambia  2017          ZMB   \n",
       "593      Zimbabwe  2017          ZWE   \n",
       "\n",
       "     Incidence of malaria (per 1,000 population at risk)  \\\n",
       "0                                                 0.01     \n",
       "1                                               286.72     \n",
       "2                                               480.24     \n",
       "3                                                 1.03     \n",
       "4                                               503.80     \n",
       "..                                                 ...     \n",
       "589                                             278.20     \n",
       "590                                                NaN     \n",
       "591                                             336.76     \n",
       "592                                             160.05     \n",
       "593                                             108.55     \n",
       "\n",
       "     Malaria cases reported  \\\n",
       "0                      26.0   \n",
       "1                 1533485.0   \n",
       "2                       0.0   \n",
       "3                     390.0   \n",
       "4                   44246.0   \n",
       "..                      ...   \n",
       "589               1755577.0   \n",
       "590                     NaN   \n",
       "591              11667831.0   \n",
       "592               5505639.0   \n",
       "593                467508.0   \n",
       "\n",
       "     Use of insecticide-treated bed nets (% of under-5 population)  \\\n",
       "0                                                  NaN               \n",
       "1                                                 18.0               \n",
       "2                                                  NaN               \n",
       "3                                                  NaN               \n",
       "4                                                  NaN               \n",
       "..                                                 ...               \n",
       "589                                               69.7               \n",
       "590                                                NaN               \n",
       "591                                                NaN               \n",
       "592                                                NaN               \n",
       "593                                                NaN               \n",
       "\n",
       "     Children with fever receiving antimalarial drugs (% of children under age 5 with fever)  \\\n",
       "0                                                  NaN                                         \n",
       "1                                                 29.8                                         \n",
       "2                                                  NaN                                         \n",
       "3                                                  NaN                                         \n",
       "4                                                  NaN                                         \n",
       "..                                                 ...                                         \n",
       "589                                               31.1                                         \n",
       "590                                                NaN                                         \n",
       "591                                                NaN                                         \n",
       "592                                                NaN                                         \n",
       "593                                                NaN                                         \n",
       "\n",
       "     Intermittent preventive treatment (IPT) of malaria in pregnancy (% of pregnant women)  \\\n",
       "0                                                  NaN                                       \n",
       "1                                                  1.5                                       \n",
       "2                                                  NaN                                       \n",
       "3                                                  NaN                                       \n",
       "4                                                  NaN                                       \n",
       "..                                                 ...                                       \n",
       "589                                               41.7                                       \n",
       "590                                                NaN                                       \n",
       "591                                                NaN                                       \n",
       "592                                                NaN                                       \n",
       "593                                                NaN                                       \n",
       "\n",
       "     People using safely managed drinking water services (% of population)  \\\n",
       "0                                                  NaN                       \n",
       "1                                                  NaN                       \n",
       "2                                                  NaN                       \n",
       "3                                                  NaN                       \n",
       "4                                                  NaN                       \n",
       "..                                                 ...                       \n",
       "589                                                NaN                       \n",
       "590                                              92.66                       \n",
       "591                                               7.07                       \n",
       "592                                                NaN                       \n",
       "593                                                NaN                       \n",
       "\n",
       "     People using safely managed drinking water services, rural (% of rural population)  \\\n",
       "0                                                  NaN                                    \n",
       "1                                                  NaN                                    \n",
       "2                                                  NaN                                    \n",
       "3                                                  NaN                                    \n",
       "4                                                  NaN                                    \n",
       "..                                                 ...                                    \n",
       "589                                                NaN                                    \n",
       "590                                                NaN                                    \n",
       "591                                               4.46                                    \n",
       "592                                                NaN                                    \n",
       "593                                                NaN                                    \n",
       "\n",
       "     ...  Urban population growth (annual %)  \\\n",
       "0    ...                                2.71   \n",
       "1    ...                                5.01   \n",
       "2    ...                                4.09   \n",
       "3    ...                                4.80   \n",
       "4    ...                                5.91   \n",
       "..   ...                                 ...   \n",
       "589  ...                                3.79   \n",
       "590  ...                                1.57   \n",
       "591  ...                                6.25   \n",
       "592  ...                                4.21   \n",
       "593  ...                                1.28   \n",
       "\n",
       "     People using at least basic drinking water services (% of population)  \\\n",
       "0                                                91.68                       \n",
       "1                                                47.96                       \n",
       "2                                                63.78                       \n",
       "3                                                78.89                       \n",
       "4                                                52.27                       \n",
       "..                                                 ...                       \n",
       "589                                              65.13                       \n",
       "590                                              96.25                       \n",
       "591                                              49.10                       \n",
       "592                                              59.96                       \n",
       "593                                              64.05                       \n",
       "\n",
       "     People using at least basic drinking water services, rural (% of rural population)  \\\n",
       "0                                                85.83                                    \n",
       "1                                                23.77                                    \n",
       "2                                                54.92                                    \n",
       "3                                                57.60                                    \n",
       "4                                                45.13                                    \n",
       "..                                                 ...                                    \n",
       "589                                              48.39                                    \n",
       "590                                              88.71                                    \n",
       "591                                              41.25                                    \n",
       "592                                              41.95                                    \n",
       "593                                              49.80                                    \n",
       "\n",
       "     People using at least basic drinking water services, urban (% of urban population)  \\\n",
       "0                                                94.78                                    \n",
       "1                                                65.83                                    \n",
       "2                                                76.24                                    \n",
       "3                                                94.35                                    \n",
       "4                                                76.15                                    \n",
       "..                                                 ...                                    \n",
       "589                                              89.06                                    \n",
       "590                                              99.70                                    \n",
       "591                                              75.11                                    \n",
       "592                                              83.86                                    \n",
       "593                                              94.00                                    \n",
       "\n",
       "     People using at least basic sanitation services (% of population)  \\\n",
       "0                                                85.85                   \n",
       "1                                                37.26                   \n",
       "2                                                11.80                   \n",
       "3                                                61.60                   \n",
       "4                                                15.60                   \n",
       "..                                                 ...                   \n",
       "589                                              16.13                   \n",
       "590                                              90.92                   \n",
       "591                                              18.47                   \n",
       "592                                              26.37                   \n",
       "593                                              36.22                   \n",
       "\n",
       "     People using at least basic sanitation services, rural (% of rural population)  \\\n",
       "0                                                76.94                                \n",
       "1                                                14.00                                \n",
       "2                                                 4.29                                \n",
       "3                                                39.99                                \n",
       "4                                                 6.38                                \n",
       "..                                                 ...                                \n",
       "589                                               7.40                                \n",
       "590                                              81.35                                \n",
       "591                                              16.17                                \n",
       "592                                              18.93                                \n",
       "593                                              31.47                                \n",
       "\n",
       "     People using at least basic sanitation services, urban  (% of urban population)  \\\n",
       "0                                                90.57                                 \n",
       "1                                                54.44                                 \n",
       "2                                                22.36                                 \n",
       "3                                                77.30                                 \n",
       "4                                                46.49                                 \n",
       "..                                                 ...                                 \n",
       "589                                              28.61                                 \n",
       "590                                              95.29                                 \n",
       "591                                              26.11                                 \n",
       "592                                              36.24                                 \n",
       "593                                              46.22                                 \n",
       "\n",
       "      latitude  longitude                            geometry  \n",
       "0    28.033886   1.659626          POINT (28.033886 1.659626)  \n",
       "1   -11.202692  17.873887        POINT (-11.202692 17.873887)  \n",
       "2     9.307690   2.315834  POINT (9.307689999999999 2.315834)  \n",
       "3   -22.328474  24.684866        POINT (-22.328474 24.684866)  \n",
       "4    12.238333  -1.561593         POINT (12.238333 -1.561593)  \n",
       "..         ...        ...                                 ...  \n",
       "589   8.619543   0.824782           POINT (8.619543 0.824782)  \n",
       "590  33.886917   9.537499          POINT (33.886917 9.537499)  \n",
       "591   1.373333  32.290275          POINT (1.373333 32.290275)  \n",
       "592 -13.133897  27.849332        POINT (-13.133897 27.849332)  \n",
       "593 -19.015438  29.154857        POINT (-19.015438 29.154857)  \n",
       "\n",
       "[594 rows x 27 columns]"
      ]
     },
     "execution_count": 79,
     "metadata": {},
     "output_type": "execute_result"
    }
   ],
   "source": [
    "data = pd.read_csv('DatasetAfricaMalaria.csv')\n",
    "malaria_data = data.copy()\n",
    "malaria_data"
   ]
  },
  {
   "cell_type": "code",
   "execution_count": 80,
   "id": "480e8b81",
   "metadata": {},
   "outputs": [
    {
     "data": {
      "text/plain": [
       "Country Name                                                                                object\n",
       "Year                                                                                         int64\n",
       "Country Code                                                                                object\n",
       "Incidence of malaria (per 1,000 population at risk)                                        float64\n",
       "Malaria cases reported                                                                     float64\n",
       "Use of insecticide-treated bed nets (% of under-5 population)                              float64\n",
       "Children with fever receiving antimalarial drugs (% of children under age 5 with fever)    float64\n",
       "Intermittent preventive treatment (IPT) of malaria in pregnancy (% of pregnant women)      float64\n",
       "People using safely managed drinking water services (% of population)                      float64\n",
       "People using safely managed drinking water services, rural (% of rural population)         float64\n",
       "People using safely managed drinking water services, urban (% of urban population)         float64\n",
       "People using safely managed sanitation services (% of population)                          float64\n",
       "People using safely managed sanitation services, rural (% of rural population)             float64\n",
       "People using safely managed sanitation services, urban  (% of urban population)            float64\n",
       "Rural population (% of total population)                                                   float64\n",
       "Rural population growth (annual %)                                                         float64\n",
       "Urban population (% of total population)                                                   float64\n",
       "Urban population growth (annual %)                                                         float64\n",
       "People using at least basic drinking water services (% of population)                      float64\n",
       "People using at least basic drinking water services, rural (% of rural population)         float64\n",
       "People using at least basic drinking water services, urban (% of urban population)         float64\n",
       "People using at least basic sanitation services (% of population)                          float64\n",
       "People using at least basic sanitation services, rural (% of rural population)             float64\n",
       "People using at least basic sanitation services, urban  (% of urban population)            float64\n",
       "latitude                                                                                   float64\n",
       "longitude                                                                                  float64\n",
       "geometry                                                                                    object\n",
       "dtype: object"
      ]
     },
     "execution_count": 80,
     "metadata": {},
     "output_type": "execute_result"
    }
   ],
   "source": [
    "#exploring column data types\n",
    "malaria_data.dtypes"
   ]
  },
  {
   "cell_type": "code",
   "execution_count": 81,
   "id": "15dc52b1",
   "metadata": {},
   "outputs": [
    {
     "data": {
      "text/html": [
       "<div>\n",
       "<style scoped>\n",
       "    .dataframe tbody tr th:only-of-type {\n",
       "        vertical-align: middle;\n",
       "    }\n",
       "\n",
       "    .dataframe tbody tr th {\n",
       "        vertical-align: top;\n",
       "    }\n",
       "\n",
       "    .dataframe thead th {\n",
       "        text-align: right;\n",
       "    }\n",
       "</style>\n",
       "<table border=\"1\" class=\"dataframe\">\n",
       "  <thead>\n",
       "    <tr style=\"text-align: right;\">\n",
       "      <th></th>\n",
       "      <th>Year</th>\n",
       "      <th>Incidence of malaria (per 1,000 population at risk)</th>\n",
       "      <th>Malaria cases reported</th>\n",
       "      <th>Use of insecticide-treated bed nets (% of under-5 population)</th>\n",
       "      <th>Children with fever receiving antimalarial drugs (% of children under age 5 with fever)</th>\n",
       "      <th>Intermittent preventive treatment (IPT) of malaria in pregnancy (% of pregnant women)</th>\n",
       "      <th>People using safely managed drinking water services (% of population)</th>\n",
       "      <th>People using safely managed drinking water services, rural (% of rural population)</th>\n",
       "      <th>People using safely managed drinking water services, urban (% of urban population)</th>\n",
       "      <th>People using safely managed sanitation services (% of population)</th>\n",
       "      <th>...</th>\n",
       "      <th>Urban population (% of total population)</th>\n",
       "      <th>Urban population growth (annual %)</th>\n",
       "      <th>People using at least basic drinking water services (% of population)</th>\n",
       "      <th>People using at least basic drinking water services, rural (% of rural population)</th>\n",
       "      <th>People using at least basic drinking water services, urban (% of urban population)</th>\n",
       "      <th>People using at least basic sanitation services (% of population)</th>\n",
       "      <th>People using at least basic sanitation services, rural (% of rural population)</th>\n",
       "      <th>People using at least basic sanitation services, urban  (% of urban population)</th>\n",
       "      <th>latitude</th>\n",
       "      <th>longitude</th>\n",
       "    </tr>\n",
       "  </thead>\n",
       "  <tbody>\n",
       "    <tr>\n",
       "      <th>count</th>\n",
       "      <td>594.000000</td>\n",
       "      <td>550.000000</td>\n",
       "      <td>5.500000e+02</td>\n",
       "      <td>132.000000</td>\n",
       "      <td>122.000000</td>\n",
       "      <td>106.000000</td>\n",
       "      <td>99.000000</td>\n",
       "      <td>88.000000</td>\n",
       "      <td>176.000000</td>\n",
       "      <td>132.000000</td>\n",
       "      <td>...</td>\n",
       "      <td>588.000000</td>\n",
       "      <td>588.000000</td>\n",
       "      <td>588.000000</td>\n",
       "      <td>566.000000</td>\n",
       "      <td>566.000000</td>\n",
       "      <td>588.000000</td>\n",
       "      <td>566.000000</td>\n",
       "      <td>566.000000</td>\n",
       "      <td>594.000000</td>\n",
       "      <td>594.000000</td>\n",
       "    </tr>\n",
       "    <tr>\n",
       "      <th>mean</th>\n",
       "      <td>2012.000000</td>\n",
       "      <td>190.087491</td>\n",
       "      <td>1.068330e+06</td>\n",
       "      <td>42.530303</td>\n",
       "      <td>30.201639</td>\n",
       "      <td>15.013958</td>\n",
       "      <td>33.478990</td>\n",
       "      <td>12.470568</td>\n",
       "      <td>51.549545</td>\n",
       "      <td>28.768939</td>\n",
       "      <td>...</td>\n",
       "      <td>43.164116</td>\n",
       "      <td>3.523061</td>\n",
       "      <td>65.994915</td>\n",
       "      <td>51.449576</td>\n",
       "      <td>84.268498</td>\n",
       "      <td>39.469796</td>\n",
       "      <td>28.077208</td>\n",
       "      <td>48.088375</td>\n",
       "      <td>2.828796</td>\n",
       "      <td>17.342546</td>\n",
       "    </tr>\n",
       "    <tr>\n",
       "      <th>std</th>\n",
       "      <td>3.164943</td>\n",
       "      <td>163.054527</td>\n",
       "      <td>2.192802e+06</td>\n",
       "      <td>20.157059</td>\n",
       "      <td>18.903198</td>\n",
       "      <td>12.389166</td>\n",
       "      <td>26.678321</td>\n",
       "      <td>10.078371</td>\n",
       "      <td>24.157416</td>\n",
       "      <td>18.631510</td>\n",
       "      <td>...</td>\n",
       "      <td>18.086118</td>\n",
       "      <td>1.456244</td>\n",
       "      <td>17.283361</td>\n",
       "      <td>18.927868</td>\n",
       "      <td>9.307285</td>\n",
       "      <td>26.304934</td>\n",
       "      <td>24.046725</td>\n",
       "      <td>21.802128</td>\n",
       "      <td>15.678226</td>\n",
       "      <td>20.041257</td>\n",
       "    </tr>\n",
       "    <tr>\n",
       "      <th>min</th>\n",
       "      <td>2007.000000</td>\n",
       "      <td>0.000000</td>\n",
       "      <td>0.000000e+00</td>\n",
       "      <td>1.000000</td>\n",
       "      <td>0.500000</td>\n",
       "      <td>0.000000</td>\n",
       "      <td>5.770000</td>\n",
       "      <td>0.930000</td>\n",
       "      <td>11.200000</td>\n",
       "      <td>6.370000</td>\n",
       "      <td>...</td>\n",
       "      <td>9.860000</td>\n",
       "      <td>-4.650000</td>\n",
       "      <td>28.960000</td>\n",
       "      <td>17.050000</td>\n",
       "      <td>52.010000</td>\n",
       "      <td>4.990000</td>\n",
       "      <td>1.890000</td>\n",
       "      <td>12.580000</td>\n",
       "      <td>-30.559482</td>\n",
       "      <td>-24.013197</td>\n",
       "    </tr>\n",
       "    <tr>\n",
       "      <th>25%</th>\n",
       "      <td>2009.000000</td>\n",
       "      <td>30.857500</td>\n",
       "      <td>2.211750e+03</td>\n",
       "      <td>26.675000</td>\n",
       "      <td>17.275000</td>\n",
       "      <td>5.763285</td>\n",
       "      <td>8.975000</td>\n",
       "      <td>4.185000</td>\n",
       "      <td>34.125000</td>\n",
       "      <td>16.532500</td>\n",
       "      <td>...</td>\n",
       "      <td>28.795000</td>\n",
       "      <td>2.512500</td>\n",
       "      <td>52.375000</td>\n",
       "      <td>37.075000</td>\n",
       "      <td>78.080000</td>\n",
       "      <td>18.197500</td>\n",
       "      <td>8.842500</td>\n",
       "      <td>30.775000</td>\n",
       "      <td>-6.369028</td>\n",
       "      <td>0.824782</td>\n",
       "    </tr>\n",
       "    <tr>\n",
       "      <th>50%</th>\n",
       "      <td>2012.000000</td>\n",
       "      <td>174.775000</td>\n",
       "      <td>1.130260e+05</td>\n",
       "      <td>42.900000</td>\n",
       "      <td>29.300000</td>\n",
       "      <td>11.500000</td>\n",
       "      <td>28.390000</td>\n",
       "      <td>10.675000</td>\n",
       "      <td>51.365000</td>\n",
       "      <td>25.410000</td>\n",
       "      <td>...</td>\n",
       "      <td>41.560000</td>\n",
       "      <td>3.730000</td>\n",
       "      <td>64.470000</td>\n",
       "      <td>50.435000</td>\n",
       "      <td>85.420000</td>\n",
       "      <td>32.555000</td>\n",
       "      <td>18.815000</td>\n",
       "      <td>44.695000</td>\n",
       "      <td>6.744051</td>\n",
       "      <td>18.611308</td>\n",
       "    </tr>\n",
       "    <tr>\n",
       "      <th>75%</th>\n",
       "      <td>2015.000000</td>\n",
       "      <td>347.637500</td>\n",
       "      <td>1.154808e+06</td>\n",
       "      <td>56.325000</td>\n",
       "      <td>42.625000</td>\n",
       "      <td>21.850000</td>\n",
       "      <td>43.890000</td>\n",
       "      <td>16.887500</td>\n",
       "      <td>70.747500</td>\n",
       "      <td>35.725000</td>\n",
       "      <td>...</td>\n",
       "      <td>56.945000</td>\n",
       "      <td>4.450000</td>\n",
       "      <td>79.165000</td>\n",
       "      <td>62.245000</td>\n",
       "      <td>90.082500</td>\n",
       "      <td>54.810000</td>\n",
       "      <td>38.082500</td>\n",
       "      <td>58.845000</td>\n",
       "      <td>12.862807</td>\n",
       "      <td>31.465866</td>\n",
       "    </tr>\n",
       "    <tr>\n",
       "      <th>max</th>\n",
       "      <td>2017.000000</td>\n",
       "      <td>585.540000</td>\n",
       "      <td>1.682113e+07</td>\n",
       "      <td>95.500000</td>\n",
       "      <td>76.900000</td>\n",
       "      <td>59.600000</td>\n",
       "      <td>92.660000</td>\n",
       "      <td>39.930000</td>\n",
       "      <td>89.540000</td>\n",
       "      <td>78.120000</td>\n",
       "      <td>...</td>\n",
       "      <td>88.980000</td>\n",
       "      <td>7.400000</td>\n",
       "      <td>99.870000</td>\n",
       "      <td>99.830000</td>\n",
       "      <td>99.920000</td>\n",
       "      <td>100.000000</td>\n",
       "      <td>95.180000</td>\n",
       "      <td>98.300000</td>\n",
       "      <td>33.886917</td>\n",
       "      <td>57.552152</td>\n",
       "    </tr>\n",
       "  </tbody>\n",
       "</table>\n",
       "<p>8 rows × 24 columns</p>\n",
       "</div>"
      ],
      "text/plain": [
       "              Year  Incidence of malaria (per 1,000 population at risk)  \\\n",
       "count   594.000000                                         550.000000     \n",
       "mean   2012.000000                                         190.087491     \n",
       "std       3.164943                                         163.054527     \n",
       "min    2007.000000                                           0.000000     \n",
       "25%    2009.000000                                          30.857500     \n",
       "50%    2012.000000                                         174.775000     \n",
       "75%    2015.000000                                         347.637500     \n",
       "max    2017.000000                                         585.540000     \n",
       "\n",
       "       Malaria cases reported  \\\n",
       "count            5.500000e+02   \n",
       "mean             1.068330e+06   \n",
       "std              2.192802e+06   \n",
       "min              0.000000e+00   \n",
       "25%              2.211750e+03   \n",
       "50%              1.130260e+05   \n",
       "75%              1.154808e+06   \n",
       "max              1.682113e+07   \n",
       "\n",
       "       Use of insecticide-treated bed nets (% of under-5 population)  \\\n",
       "count                                         132.000000               \n",
       "mean                                           42.530303               \n",
       "std                                            20.157059               \n",
       "min                                             1.000000               \n",
       "25%                                            26.675000               \n",
       "50%                                            42.900000               \n",
       "75%                                            56.325000               \n",
       "max                                            95.500000               \n",
       "\n",
       "       Children with fever receiving antimalarial drugs (% of children under age 5 with fever)  \\\n",
       "count                                         122.000000                                         \n",
       "mean                                           30.201639                                         \n",
       "std                                            18.903198                                         \n",
       "min                                             0.500000                                         \n",
       "25%                                            17.275000                                         \n",
       "50%                                            29.300000                                         \n",
       "75%                                            42.625000                                         \n",
       "max                                            76.900000                                         \n",
       "\n",
       "       Intermittent preventive treatment (IPT) of malaria in pregnancy (% of pregnant women)  \\\n",
       "count                                         106.000000                                       \n",
       "mean                                           15.013958                                       \n",
       "std                                            12.389166                                       \n",
       "min                                             0.000000                                       \n",
       "25%                                             5.763285                                       \n",
       "50%                                            11.500000                                       \n",
       "75%                                            21.850000                                       \n",
       "max                                            59.600000                                       \n",
       "\n",
       "       People using safely managed drinking water services (% of population)  \\\n",
       "count                                          99.000000                       \n",
       "mean                                           33.478990                       \n",
       "std                                            26.678321                       \n",
       "min                                             5.770000                       \n",
       "25%                                             8.975000                       \n",
       "50%                                            28.390000                       \n",
       "75%                                            43.890000                       \n",
       "max                                            92.660000                       \n",
       "\n",
       "       People using safely managed drinking water services, rural (% of rural population)  \\\n",
       "count                                          88.000000                                    \n",
       "mean                                           12.470568                                    \n",
       "std                                            10.078371                                    \n",
       "min                                             0.930000                                    \n",
       "25%                                             4.185000                                    \n",
       "50%                                            10.675000                                    \n",
       "75%                                            16.887500                                    \n",
       "max                                            39.930000                                    \n",
       "\n",
       "       People using safely managed drinking water services, urban (% of urban population)  \\\n",
       "count                                         176.000000                                    \n",
       "mean                                           51.549545                                    \n",
       "std                                            24.157416                                    \n",
       "min                                            11.200000                                    \n",
       "25%                                            34.125000                                    \n",
       "50%                                            51.365000                                    \n",
       "75%                                            70.747500                                    \n",
       "max                                            89.540000                                    \n",
       "\n",
       "       People using safely managed sanitation services (% of population)  ...  \\\n",
       "count                                         132.000000                  ...   \n",
       "mean                                           28.768939                  ...   \n",
       "std                                            18.631510                  ...   \n",
       "min                                             6.370000                  ...   \n",
       "25%                                            16.532500                  ...   \n",
       "50%                                            25.410000                  ...   \n",
       "75%                                            35.725000                  ...   \n",
       "max                                            78.120000                  ...   \n",
       "\n",
       "       Urban population (% of total population)  \\\n",
       "count                                588.000000   \n",
       "mean                                  43.164116   \n",
       "std                                   18.086118   \n",
       "min                                    9.860000   \n",
       "25%                                   28.795000   \n",
       "50%                                   41.560000   \n",
       "75%                                   56.945000   \n",
       "max                                   88.980000   \n",
       "\n",
       "       Urban population growth (annual %)  \\\n",
       "count                          588.000000   \n",
       "mean                             3.523061   \n",
       "std                              1.456244   \n",
       "min                             -4.650000   \n",
       "25%                              2.512500   \n",
       "50%                              3.730000   \n",
       "75%                              4.450000   \n",
       "max                              7.400000   \n",
       "\n",
       "       People using at least basic drinking water services (% of population)  \\\n",
       "count                                         588.000000                       \n",
       "mean                                           65.994915                       \n",
       "std                                            17.283361                       \n",
       "min                                            28.960000                       \n",
       "25%                                            52.375000                       \n",
       "50%                                            64.470000                       \n",
       "75%                                            79.165000                       \n",
       "max                                            99.870000                       \n",
       "\n",
       "       People using at least basic drinking water services, rural (% of rural population)  \\\n",
       "count                                         566.000000                                    \n",
       "mean                                           51.449576                                    \n",
       "std                                            18.927868                                    \n",
       "min                                            17.050000                                    \n",
       "25%                                            37.075000                                    \n",
       "50%                                            50.435000                                    \n",
       "75%                                            62.245000                                    \n",
       "max                                            99.830000                                    \n",
       "\n",
       "       People using at least basic drinking water services, urban (% of urban population)  \\\n",
       "count                                         566.000000                                    \n",
       "mean                                           84.268498                                    \n",
       "std                                             9.307285                                    \n",
       "min                                            52.010000                                    \n",
       "25%                                            78.080000                                    \n",
       "50%                                            85.420000                                    \n",
       "75%                                            90.082500                                    \n",
       "max                                            99.920000                                    \n",
       "\n",
       "       People using at least basic sanitation services (% of population)  \\\n",
       "count                                         588.000000                   \n",
       "mean                                           39.469796                   \n",
       "std                                            26.304934                   \n",
       "min                                             4.990000                   \n",
       "25%                                            18.197500                   \n",
       "50%                                            32.555000                   \n",
       "75%                                            54.810000                   \n",
       "max                                           100.000000                   \n",
       "\n",
       "       People using at least basic sanitation services, rural (% of rural population)  \\\n",
       "count                                         566.000000                                \n",
       "mean                                           28.077208                                \n",
       "std                                            24.046725                                \n",
       "min                                             1.890000                                \n",
       "25%                                             8.842500                                \n",
       "50%                                            18.815000                                \n",
       "75%                                            38.082500                                \n",
       "max                                            95.180000                                \n",
       "\n",
       "       People using at least basic sanitation services, urban  (% of urban population)  \\\n",
       "count                                         566.000000                                 \n",
       "mean                                           48.088375                                 \n",
       "std                                            21.802128                                 \n",
       "min                                            12.580000                                 \n",
       "25%                                            30.775000                                 \n",
       "50%                                            44.695000                                 \n",
       "75%                                            58.845000                                 \n",
       "max                                            98.300000                                 \n",
       "\n",
       "         latitude   longitude  \n",
       "count  594.000000  594.000000  \n",
       "mean     2.828796   17.342546  \n",
       "std     15.678226   20.041257  \n",
       "min    -30.559482  -24.013197  \n",
       "25%     -6.369028    0.824782  \n",
       "50%      6.744051   18.611308  \n",
       "75%     12.862807   31.465866  \n",
       "max     33.886917   57.552152  \n",
       "\n",
       "[8 rows x 24 columns]"
      ]
     },
     "execution_count": 81,
     "metadata": {},
     "output_type": "execute_result"
    }
   ],
   "source": [
    "malaria_data.describe()"
   ]
  },
  {
   "cell_type": "code",
   "execution_count": 82,
   "id": "80ed35a1",
   "metadata": {},
   "outputs": [
    {
     "data": {
      "text/plain": [
       "dtype('O')"
      ]
     },
     "execution_count": 82,
     "metadata": {},
     "output_type": "execute_result"
    }
   ],
   "source": [
    "# change the year column to string\n",
    "malaria_data['Year']=malaria_data[\"Year\"].astype(str)\n",
    "malaria_data['Year'].dtypes"
   ]
  },
  {
   "cell_type": "code",
   "execution_count": 83,
   "id": "a360fc62",
   "metadata": {},
   "outputs": [
    {
     "data": {
      "text/plain": [
       "Index(['Country Name', 'Year', 'Country Code',\n",
       "       'Incidence of malaria (per 1,000 population at risk)',\n",
       "       'Malaria cases reported',\n",
       "       'Use of insecticide-treated bed nets (% of under-5 population)',\n",
       "       'Children with fever receiving antimalarial drugs (% of children under age 5 with fever)',\n",
       "       'Intermittent preventive treatment (IPT) of malaria in pregnancy (% of pregnant women)',\n",
       "       'People using safely managed drinking water services (% of population)',\n",
       "       'People using safely managed drinking water services, rural (% of rural population)',\n",
       "       'People using safely managed drinking water services, urban (% of urban population)',\n",
       "       'People using safely managed sanitation services (% of population)',\n",
       "       'People using safely managed sanitation services, rural (% of rural population)',\n",
       "       'People using safely managed sanitation services, urban  (% of urban population)',\n",
       "       'Rural population (% of total population)',\n",
       "       'Rural population growth (annual %)',\n",
       "       'Urban population (% of total population)',\n",
       "       'Urban population growth (annual %)',\n",
       "       'People using at least basic drinking water services (% of population)',\n",
       "       'People using at least basic drinking water services, rural (% of rural population)',\n",
       "       'People using at least basic drinking water services, urban (% of urban population)',\n",
       "       'People using at least basic sanitation services (% of population)',\n",
       "       'People using at least basic sanitation services, rural (% of rural population)',\n",
       "       'People using at least basic sanitation services, urban  (% of urban population)',\n",
       "       'latitude', 'longitude', 'geometry'],\n",
       "      dtype='object')"
      ]
     },
     "execution_count": 83,
     "metadata": {},
     "output_type": "execute_result"
    }
   ],
   "source": [
    "malaria_data.columns"
   ]
  },
  {
   "cell_type": "code",
   "execution_count": 84,
   "id": "8da0baf1",
   "metadata": {},
   "outputs": [
    {
     "data": {
      "text/plain": [
       "['CountryName',\n",
       " 'Year',\n",
       " 'CountryCode',\n",
       " 'IncidenceOfMalaria',\n",
       " 'MalariaCasesReported',\n",
       " 'UseOfInsecticideTreatedBedNets',\n",
       " 'ChildrenWithFeverReceivingAntimalarialDrugs',\n",
       " 'IPTofMalariaInPregnancy',\n",
       " 'PUSMDWS(%oOfpopulation)',\n",
       " 'PUSMDWS(%oOfRuralpopulation)',\n",
       " 'PUSMDWS(%oOfUrbanpopulation)',\n",
       " 'PUSMSS(%oOfpopulation)',\n",
       " 'PUSMSS(%oOfRuralpopulation)',\n",
       " 'PUSMSS(%oOfUrbanpopulation)',\n",
       " 'RuralPopulation',\n",
       " 'RuralPopulationGrowth',\n",
       " 'UrbanPopulation',\n",
       " 'UrbanPopulationGrowth',\n",
       " 'PUABDWS(%oOfpopulation)',\n",
       " 'PUABDWS(%oOfRuralpopulation)',\n",
       " 'PUABDWS(%oOfUrbanpopulation)',\n",
       " 'PUABSS(%oOfpopulation)',\n",
       " 'PUABSS(%oOfRuralpopulation)',\n",
       " 'PUABSS(%oOfUrbanpopulation)',\n",
       " 'Latitude',\n",
       " 'Longitude',\n",
       " 'Geometry']"
      ]
     },
     "execution_count": 84,
     "metadata": {},
     "output_type": "execute_result"
    }
   ],
   "source": [
    "# renaming columns\n",
    "new_columns = [\"CountryName\",\"Year\",\"CountryCode\",\"IncidenceOfMalaria\",\"MalariaCasesReported\",\n",
    "                       \"UseOfInsecticideTreatedBedNets\",\"ChildrenWithFeverReceivingAntimalarialDrugs\",'IPTofMalariaInPregnancy',\n",
    "                       \"PUSMDWS(%oOfpopulation)\",\"PUSMDWS(%oOfRuralpopulation)\",\"PUSMDWS(%oOfUrbanpopulation)\",\"PUSMSS(%oOfpopulation)\",\n",
    "                       \"PUSMSS(%oOfRuralpopulation)\",\"PUSMSS(%oOfUrbanpopulation)\",\"RuralPopulation\",\"RuralPopulationGrowth\",\n",
    "                       \"UrbanPopulation\",\"UrbanPopulationGrowth\",\"PUABDWS(%oOfpopulation)\",\"PUABDWS(%oOfRuralpopulation)\",\"PUABDWS(%oOfUrbanpopulation)\",\n",
    "                       \"PUABSS(%oOfpopulation)\",\"PUABSS(%oOfRuralpopulation)\",\"PUABSS(%oOfUrbanpopulation)\",\"Latitude\",\"Longitude\",\"Geometry\"]\n",
    "new_columns"
   ]
  },
  {
   "cell_type": "code",
   "execution_count": 85,
   "id": "e71a587e",
   "metadata": {},
   "outputs": [
    {
     "data": {
      "text/plain": [
       "Index(['CountryName', 'Year', 'CountryCode', 'IncidenceOfMalaria',\n",
       "       'MalariaCasesReported', 'UseOfInsecticideTreatedBedNets',\n",
       "       'ChildrenWithFeverReceivingAntimalarialDrugs',\n",
       "       'IPTofMalariaInPregnancy', 'PUSMDWS(%oOfpopulation)',\n",
       "       'PUSMDWS(%oOfRuralpopulation)', 'PUSMDWS(%oOfUrbanpopulation)',\n",
       "       'PUSMSS(%oOfpopulation)', 'PUSMSS(%oOfRuralpopulation)',\n",
       "       'PUSMSS(%oOfUrbanpopulation)', 'RuralPopulation',\n",
       "       'RuralPopulationGrowth', 'UrbanPopulation', 'UrbanPopulationGrowth',\n",
       "       'PUABDWS(%oOfpopulation)', 'PUABDWS(%oOfRuralpopulation)',\n",
       "       'PUABDWS(%oOfUrbanpopulation)', 'PUABSS(%oOfpopulation)',\n",
       "       'PUABSS(%oOfRuralpopulation)', 'PUABSS(%oOfUrbanpopulation)',\n",
       "       'Latitude', 'Longitude', 'Geometry'],\n",
       "      dtype='object')"
      ]
     },
     "execution_count": 85,
     "metadata": {},
     "output_type": "execute_result"
    }
   ],
   "source": [
    "# renaming the columns\n",
    "malaria_data.columns = new_columns\n",
    "malaria_data.columns"
   ]
  },
  {
   "cell_type": "code",
   "execution_count": 86,
   "id": "8b890df3",
   "metadata": {},
   "outputs": [
    {
     "data": {
      "text/plain": [
       "Templates configuration\n",
       "-----------------------\n",
       "    Default template: 'plotly'\n",
       "    Available templates:\n",
       "        ['ggplot2', 'seaborn', 'simple_white', 'plotly',\n",
       "         'plotly_white', 'plotly_dark', 'presentation', 'xgridoff',\n",
       "         'ygridoff', 'gridon', 'none']"
      ]
     },
     "execution_count": 86,
     "metadata": {},
     "output_type": "execute_result"
    }
   ],
   "source": [
    "import plotly.express as px # import library for plotting graphs\n",
    "import plotly.io as pio # import plotly templates\n",
    "pio.templates"
   ]
  },
  {
   "cell_type": "markdown",
   "id": "79cf68e7",
   "metadata": {},
   "source": [
    "## Incidence of Malaria(per 1000 of population at risk) per country"
   ]
  },
  {
   "cell_type": "code",
   "execution_count": 87,
   "id": "00f1c275",
   "metadata": {},
   "outputs": [
    {
     "data": {
      "application/vnd.plotly.v1+json": {
       "config": {
        "plotlyServerURL": "https://plot.ly"
       },
       "data": [
        {
         "coloraxis": "coloraxis",
         "geo": "geo",
         "hovertemplate": "<b>%{hovertext}</b><br><br>Year=2007<br>CountryCode=%{location}<br>IncidenceOfMalaria=%{z}<extra></extra>",
         "hovertext": [
          "Algeria",
          "Angola",
          "Benin",
          "Botswana",
          "Burkina Faso",
          "Burundi",
          "Cabo Verde",
          "Cameroon",
          "Central African Republic",
          "Chad",
          "Comoros",
          "Congo, Dem. Rep.",
          "Congo, Rep.",
          "Cote d'Ivoire",
          "Djibouti",
          "Egypt, Arab Rep.",
          "Equatorial Guinea",
          "Eritrea",
          "Eswatini",
          "Ethiopia",
          "Gabon",
          "Gambia, The",
          "Ghana",
          "Guinea",
          "Guinea-Bissau",
          "Kenya",
          "Lesotho",
          "Liberia",
          "Libya",
          "Madagascar",
          "Malawi",
          "Mali",
          "Mauritania",
          "Mauritius",
          "Morocco",
          "Mozambique",
          "Namibia",
          "Niger",
          "Nigeria",
          "Rwanda",
          "Sao Tome and Principe",
          "Senegal",
          "Seychelles",
          "Sierra Leone",
          "Somalia",
          "South Africa",
          "South Sudan",
          "Sudan",
          "Tanzania",
          "Togo",
          "Tunisia",
          "Uganda",
          "Zambia",
          "Zimbabwe"
         ],
         "locationmode": "ISO-3",
         "locations": [
          "DZA",
          "AGO",
          "BEN",
          "BWA",
          "BFA",
          "BDI",
          "CPV",
          "CMR",
          "CAF",
          "TCD",
          "COM",
          "COD",
          "COG",
          "CIV",
          "DJI",
          "EGY",
          "GNQ",
          "ERI",
          "SWZ",
          "ETH",
          "GAB",
          "GMB",
          "GHA",
          "GIN",
          "GNB",
          "KEN",
          "LSO",
          "LBR",
          "LBY",
          "MDG",
          "MWI",
          "MLI",
          "MRT",
          "MUS",
          "MAR",
          "MOZ",
          "NAM",
          "NER",
          "NGA",
          "RWA",
          "STP",
          "SEN",
          "SYC",
          "SLE",
          "SOM",
          "ZAF",
          "SSD",
          "SDN",
          "TZA",
          "TGO",
          "TUN",
          "UGA",
          "ZMB",
          "ZWE"
         ],
         "name": "",
         "type": "choropleth",
         "z": [
          0.01,
          286.72,
          480.24,
          1.03,
          503.8,
          222.92,
          0.15,
          386.68,
          471.11,
          210.71,
          60.65,
          481.93,
          281.83,
          509.98,
          3.84,
          0,
          398.15,
          12.54,
          0.29,
          121.69,
          110.66,
          316.01,
          322.33,
          343.69,
          72.81,
          78.02,
          null,
          383.18,
          0,
          22.78,
          370.08,
          388.81,
          70.77,
          null,
          0,
          399.45,
          12.97,
          386.68,
          421.33,
          90.64,
          14.56,
          101.91,
          null,
          379.94,
          100.56,
          1.29,
          276.75,
          41.08,
          184.53,
          434.49,
          null,
          377.94,
          195.74,
          175.12
         ]
        }
       ],
       "frames": [
        {
         "data": [
          {
           "coloraxis": "coloraxis",
           "geo": "geo",
           "hovertemplate": "<b>%{hovertext}</b><br><br>Year=2007<br>CountryCode=%{location}<br>IncidenceOfMalaria=%{z}<extra></extra>",
           "hovertext": [
            "Algeria",
            "Angola",
            "Benin",
            "Botswana",
            "Burkina Faso",
            "Burundi",
            "Cabo Verde",
            "Cameroon",
            "Central African Republic",
            "Chad",
            "Comoros",
            "Congo, Dem. Rep.",
            "Congo, Rep.",
            "Cote d'Ivoire",
            "Djibouti",
            "Egypt, Arab Rep.",
            "Equatorial Guinea",
            "Eritrea",
            "Eswatini",
            "Ethiopia",
            "Gabon",
            "Gambia, The",
            "Ghana",
            "Guinea",
            "Guinea-Bissau",
            "Kenya",
            "Lesotho",
            "Liberia",
            "Libya",
            "Madagascar",
            "Malawi",
            "Mali",
            "Mauritania",
            "Mauritius",
            "Morocco",
            "Mozambique",
            "Namibia",
            "Niger",
            "Nigeria",
            "Rwanda",
            "Sao Tome and Principe",
            "Senegal",
            "Seychelles",
            "Sierra Leone",
            "Somalia",
            "South Africa",
            "South Sudan",
            "Sudan",
            "Tanzania",
            "Togo",
            "Tunisia",
            "Uganda",
            "Zambia",
            "Zimbabwe"
           ],
           "locationmode": "ISO-3",
           "locations": [
            "DZA",
            "AGO",
            "BEN",
            "BWA",
            "BFA",
            "BDI",
            "CPV",
            "CMR",
            "CAF",
            "TCD",
            "COM",
            "COD",
            "COG",
            "CIV",
            "DJI",
            "EGY",
            "GNQ",
            "ERI",
            "SWZ",
            "ETH",
            "GAB",
            "GMB",
            "GHA",
            "GIN",
            "GNB",
            "KEN",
            "LSO",
            "LBR",
            "LBY",
            "MDG",
            "MWI",
            "MLI",
            "MRT",
            "MUS",
            "MAR",
            "MOZ",
            "NAM",
            "NER",
            "NGA",
            "RWA",
            "STP",
            "SEN",
            "SYC",
            "SLE",
            "SOM",
            "ZAF",
            "SSD",
            "SDN",
            "TZA",
            "TGO",
            "TUN",
            "UGA",
            "ZMB",
            "ZWE"
           ],
           "name": "",
           "type": "choropleth",
           "z": [
            0.01,
            286.72,
            480.24,
            1.03,
            503.8,
            222.92,
            0.15,
            386.68,
            471.11,
            210.71,
            60.65,
            481.93,
            281.83,
            509.98,
            3.84,
            0,
            398.15,
            12.54,
            0.29,
            121.69,
            110.66,
            316.01,
            322.33,
            343.69,
            72.81,
            78.02,
            null,
            383.18,
            0,
            22.78,
            370.08,
            388.81,
            70.77,
            null,
            0,
            399.45,
            12.97,
            386.68,
            421.33,
            90.64,
            14.56,
            101.91,
            null,
            379.94,
            100.56,
            1.29,
            276.75,
            41.08,
            184.53,
            434.49,
            null,
            377.94,
            195.74,
            175.12
           ]
          }
         ],
         "name": "2007"
        },
        {
         "data": [
          {
           "coloraxis": "coloraxis",
           "geo": "geo",
           "hovertemplate": "<b>%{hovertext}</b><br><br>Year=2008<br>CountryCode=%{location}<br>IncidenceOfMalaria=%{z}<extra></extra>",
           "hovertext": [
            "Algeria",
            "Angola",
            "Benin",
            "Botswana",
            "Burkina Faso",
            "Burundi",
            "Cabo Verde",
            "Cameroon",
            "Central African Republic",
            "Comoros",
            "Chad",
            "Congo, Dem. Rep.",
            "Congo, Rep.",
            "Cote d'Ivoire",
            "Djibouti",
            "Egypt, Arab Rep.",
            "Equatorial Guinea",
            "Eritrea",
            "Eswatini",
            "Ethiopia",
            "Gabon",
            "Gambia, The",
            "Ghana",
            "Guinea",
            "Guinea-Bissau",
            "Kenya",
            "Lesotho",
            "Liberia",
            "Libya",
            "Madagascar",
            "Malawi",
            "Mali",
            "Mauritania",
            "Mauritius",
            "Morocco",
            "Mozambique",
            "Namibia",
            "Niger",
            "Nigeria",
            "Rwanda",
            "Sao Tome and Principe",
            "Senegal",
            "Seychelles",
            "Sierra Leone",
            "Somalia",
            "South Africa",
            "South Sudan",
            "Sudan",
            "Tanzania",
            "Togo",
            "Tunisia",
            "Uganda",
            "Zambia",
            "Zimbabwe"
           ],
           "locationmode": "ISO-3",
           "locations": [
            "DZA",
            "AGO",
            "BEN",
            "BWA",
            "BFA",
            "BDI",
            "CPV",
            "CMR",
            "CAF",
            "COM",
            "TCD",
            "COD",
            "COG",
            "CIV",
            "DJI",
            "EGY",
            "GNQ",
            "ERI",
            "SWZ",
            "ETH",
            "GAB",
            "GMB",
            "GHA",
            "GIN",
            "GNB",
            "KEN",
            "LSO",
            "LBR",
            "LBY",
            "MDG",
            "MWI",
            "MLI",
            "MRT",
            "MUS",
            "MAR",
            "MOZ",
            "NAM",
            "NER",
            "NGA",
            "RWA",
            "STP",
            "SEN",
            "SYC",
            "SLE",
            "SOM",
            "ZAF",
            "SSD",
            "SDN",
            "TZA",
            "TGO",
            "TUN",
            "UGA",
            "ZMB",
            "ZWE"
           ],
           "name": "",
           "type": "choropleth",
           "z": [
            0,
            241.19,
            453.17,
            1.93,
            533.39,
            222.77,
            0.28,
            358.72,
            461.79,
            59.21,
            215.1,
            471.43,
            249.16,
            510.08,
            3.74,
            0,
            378.24,
            6.78,
            0.2,
            90.66,
            118.87,
            306.84,
            333.72,
            370.17,
            89.02,
            67.68,
            null,
            383.33,
            0,
            23.47,
            392,
            379.06,
            61.14,
            null,
            0,
            399.79,
            7.46,
            409.1,
            424.66,
            72.03,
            36.57,
            86.42,
            null,
            413.85,
            63.1,
            1.57,
            267.14,
            35.05,
            171,
            379.9,
            null,
            410.46,
            176.72,
            74.73
           ]
          }
         ],
         "name": "2008"
        },
        {
         "data": [
          {
           "coloraxis": "coloraxis",
           "geo": "geo",
           "hovertemplate": "<b>%{hovertext}</b><br><br>Year=2009<br>CountryCode=%{location}<br>IncidenceOfMalaria=%{z}<extra></extra>",
           "hovertext": [
            "Algeria",
            "Angola",
            "Benin",
            "Botswana",
            "Burkina Faso",
            "Burundi",
            "Cabo Verde",
            "Cameroon",
            "Central African Republic",
            "Chad",
            "Comoros",
            "Congo, Dem. Rep.",
            "Congo, Rep.",
            "Cote d'Ivoire",
            "Djibouti",
            "Egypt, Arab Rep.",
            "Equatorial Guinea",
            "Eritrea",
            "Eswatini",
            "Ethiopia",
            "Gabon",
            "Gambia, The",
            "Ghana",
            "Guinea",
            "Guinea-Bissau",
            "Kenya",
            "Lesotho",
            "Liberia",
            "Libya",
            "Madagascar",
            "Malawi",
            "Mali",
            "Mauritania",
            "Mauritius",
            "Morocco",
            "Mozambique",
            "Namibia",
            "Niger",
            "Nigeria",
            "Rwanda",
            "Sao Tome and Principe",
            "Senegal",
            "Seychelles",
            "Sierra Leone",
            "Somalia",
            "South Africa",
            "South Sudan",
            "Sudan",
            "Tanzania",
            "Togo",
            "Tunisia",
            "Uganda",
            "Zambia",
            "Zimbabwe"
           ],
           "locationmode": "ISO-3",
           "locations": [
            "DZA",
            "AGO",
            "BEN",
            "BWA",
            "BFA",
            "BDI",
            "CPV",
            "CMR",
            "CAF",
            "TCD",
            "COM",
            "COD",
            "COG",
            "CIV",
            "DJI",
            "EGY",
            "GNQ",
            "ERI",
            "SWZ",
            "ETH",
            "GAB",
            "GMB",
            "GHA",
            "GIN",
            "GNB",
            "KEN",
            "LSO",
            "LBR",
            "LBY",
            "MDG",
            "MWI",
            "MLI",
            "MRT",
            "MUS",
            "MAR",
            "MOZ",
            "NAM",
            "NER",
            "NGA",
            "RWA",
            "STP",
            "SEN",
            "SYC",
            "SLE",
            "SOM",
            "ZAF",
            "SSD",
            "SDN",
            "TZA",
            "TGO",
            "TUN",
            "UGA",
            "ZMB",
            "ZWE"
           ],
           "name": "",
           "type": "choropleth",
           "z": [
            0,
            204.35,
            417.96,
            2.1,
            552.03,
            220.65,
            0.51,
            322.98,
            448.45,
            222.91,
            57.81,
            452.18,
            226.32,
            494.48,
            4.33,
            0,
            351.29,
            8.86,
            0.36,
            123.35,
            145.95,
            297.98,
            351.39,
            398.14,
            113.8,
            67.94,
            null,
            368.81,
            0,
            42.92,
            394.29,
            374.56,
            31.64,
            null,
            0,
            402.3,
            3.36,
            419.1,
            416.59,
            158.16,
            35.15,
            57.12,
            null,
            442.15,
            38.44,
            1.2,
            255.07,
            32.29,
            157.11,
            326.88,
            null,
            433.79,
            172,
            90.5
           ]
          }
         ],
         "name": "2009"
        },
        {
         "data": [
          {
           "coloraxis": "coloraxis",
           "geo": "geo",
           "hovertemplate": "<b>%{hovertext}</b><br><br>Year=2010<br>CountryCode=%{location}<br>IncidenceOfMalaria=%{z}<extra></extra>",
           "hovertext": [
            "Algeria",
            "Angola",
            "Benin",
            "Botswana",
            "Burkina Faso",
            "Burundi",
            "Cabo Verde",
            "Cameroon",
            "Central African Republic",
            "Chad",
            "Comoros",
            "Congo, Dem. Rep.",
            "Congo, Rep.",
            "Cote d'Ivoire",
            "Djibouti",
            "Egypt, Arab Rep.",
            "Equatorial Guinea",
            "Eritrea",
            "Eswatini",
            "Ethiopia",
            "Gabon",
            "Gambia, The",
            "Ghana",
            "Guinea",
            "Guinea-Bissau",
            "Kenya",
            "Lesotho",
            "Liberia",
            "Libya",
            "Madagascar",
            "Malawi",
            "Mali",
            "Mauritania",
            "Mauritius",
            "Morocco",
            "Mozambique",
            "Namibia",
            "Niger",
            "Nigeria",
            "Rwanda",
            "Sao Tome and Principe",
            "Senegal",
            "Seychelles",
            "Sierra Leone",
            "Somalia",
            "South Africa",
            "South Sudan",
            "Sudan",
            "Tanzania",
            "Togo",
            "Tunisia",
            "Uganda",
            "Zambia",
            "Zimbabwe"
           ],
           "locationmode": "ISO-3",
           "locations": [
            "DZA",
            "AGO",
            "BEN",
            "BWA",
            "BFA",
            "BDI",
            "CPV",
            "CMR",
            "CAF",
            "TCD",
            "COM",
            "COD",
            "COG",
            "CIV",
            "DJI",
            "EGY",
            "GNQ",
            "ERI",
            "SWZ",
            "ETH",
            "GAB",
            "GMB",
            "GHA",
            "GIN",
            "GNB",
            "KEN",
            "LSO",
            "LBR",
            "LBY",
            "MDG",
            "MWI",
            "MLI",
            "MRT",
            "MUS",
            "MAR",
            "MOZ",
            "NAM",
            "NER",
            "NGA",
            "RWA",
            "STP",
            "SEN",
            "SYC",
            "SLE",
            "SOM",
            "ZAF",
            "SSD",
            "SDN",
            "TZA",
            "TGO",
            "TUN",
            "UGA",
            "ZMB",
            "ZWE"
           ],
           "name": "",
           "type": "choropleth",
           "z": [
            0,
            185.52,
            387.76,
            1.69,
            551.24,
            210.2,
            0.37,
            295.53,
            434.51,
            225.94,
            52.98,
            428.31,
            220.92,
            469.27,
            1.6,
            0,
            339.99,
            26.33,
            0.9,
            128.4,
            177.82,
            289.27,
            364.15,
            414.66,
            134.37,
            67.71,
            null,
            345.77,
            0,
            42.24,
            386.02,
            383.6,
            38.83,
            null,
            0,
            398.41,
            1.54,
            425.64,
            398.9,
            126.31,
            15.19,
            59.28,
            null,
            458.74,
            29.59,
            1.57,
            243.97,
            30.66,
            145.46,
            308.88,
            null,
            417.35,
            177.02,
            109.43
           ]
          }
         ],
         "name": "2010"
        },
        {
         "data": [
          {
           "coloraxis": "coloraxis",
           "geo": "geo",
           "hovertemplate": "<b>%{hovertext}</b><br><br>Year=2011<br>CountryCode=%{location}<br>IncidenceOfMalaria=%{z}<extra></extra>",
           "hovertext": [
            "Algeria",
            "Angola",
            "Benin",
            "Botswana",
            "Burkina Faso",
            "Burundi",
            "Cabo Verde",
            "Cameroon",
            "Central African Republic",
            "Chad",
            "Comoros",
            "Congo, Dem. Rep.",
            "Congo, Rep.",
            "Cote d'Ivoire",
            "Djibouti",
            "Egypt, Arab Rep.",
            "Equatorial Guinea",
            "Eritrea",
            "Eswatini",
            "Ethiopia",
            "Gabon",
            "Gambia, The",
            "Ghana",
            "Guinea",
            "Guinea-Bissau",
            "Kenya",
            "Lesotho",
            "Liberia",
            "Libya",
            "Madagascar",
            "Malawi",
            "Mali",
            "Mauritania",
            "Mauritius",
            "Morocco",
            "Mozambique",
            "Namibia",
            "Niger",
            "Nigeria",
            "Rwanda",
            "Sao Tome and Principe",
            "Senegal",
            "Seychelles",
            "Sierra Leone",
            "Somalia",
            "South Africa",
            "South Sudan",
            "Sudan",
            "Tanzania",
            "Togo",
            "Tunisia",
            "Uganda",
            "Zambia",
            "Zimbabwe"
           ],
           "locationmode": "ISO-3",
           "locations": [
            "DZA",
            "AGO",
            "BEN",
            "BWA",
            "BFA",
            "BDI",
            "CPV",
            "CMR",
            "CAF",
            "TCD",
            "COM",
            "COD",
            "COG",
            "CIV",
            "DJI",
            "EGY",
            "GNQ",
            "ERI",
            "SWZ",
            "ETH",
            "GAB",
            "GMB",
            "GHA",
            "GIN",
            "GNB",
            "KEN",
            "LSO",
            "LBR",
            "LBY",
            "MDG",
            "MWI",
            "MLI",
            "MRT",
            "MUS",
            "MAR",
            "MOZ",
            "NAM",
            "NER",
            "NGA",
            "RWA",
            "STP",
            "SEN",
            "SYC",
            "SLE",
            "SOM",
            "ZAF",
            "SSD",
            "SDN",
            "TZA",
            "TGO",
            "TUN",
            "UGA",
            "ZMB",
            "ZWE"
           ],
           "name": "",
           "type": "choropleth",
           "z": [
            0,
            175.99,
            370.11,
            0.51,
            539.56,
            184.15,
            0.05,
            265.1,
            419.33,
            210.48,
            35.18,
            399.59,
            224.38,
            442.11,
            3.42,
            0,
            342.4,
            23.86,
            1.83,
            116.13,
            212.72,
            257.26,
            379.52,
            426.9,
            140.55,
            67.86,
            null,
            330.41,
            0,
            36.55,
            362.78,
            404.73,
            47.58,
            null,
            0,
            389.92,
            2.13,
            427.88,
            372.56,
            39.29,
            45.75,
            49.91,
            null,
            453.65,
            24.35,
            1.9,
            235.87,
            29.97,
            132.48,
            313.4,
            null,
            385.7,
            186.7,
            70.68
           ]
          }
         ],
         "name": "2011"
        },
        {
         "data": [
          {
           "coloraxis": "coloraxis",
           "geo": "geo",
           "hovertemplate": "<b>%{hovertext}</b><br><br>Year=2012<br>CountryCode=%{location}<br>IncidenceOfMalaria=%{z}<extra></extra>",
           "hovertext": [
            "Algeria",
            "Angola",
            "Benin",
            "Botswana",
            "Burkina Faso",
            "Burundi",
            "Cabo Verde",
            "Cameroon",
            "Central African Republic",
            "Chad",
            "Comoros",
            "Congo, Dem. Rep.",
            "Congo, Rep.",
            "Cote d'Ivoire",
            "Djibouti",
            "Egypt, Arab Rep.",
            "Equatorial Guinea",
            "Eritrea",
            "Eswatini",
            "Ethiopia",
            "Gabon",
            "Gambia, The",
            "Ghana",
            "Guinea",
            "Guinea-Bissau",
            "Kenya",
            "Lesotho",
            "Liberia",
            "Libya",
            "Madagascar",
            "Malawi",
            "Mali",
            "Mauritania",
            "Mauritius",
            "Morocco",
            "Mozambique",
            "Namibia",
            "Niger",
            "Nigeria",
            "Rwanda",
            "Sao Tome and Principe",
            "Senegal",
            "Seychelles",
            "Sierra Leone",
            "Somalia",
            "South Africa",
            "South Sudan",
            "Sudan",
            "Tanzania",
            "Togo",
            "Tunisia",
            "Uganda",
            "Zambia",
            "Zimbabwe"
           ],
           "locationmode": "ISO-3",
           "locations": [
            "DZA",
            "AGO",
            "BEN",
            "BWA",
            "BFA",
            "BDI",
            "CPV",
            "CMR",
            "CAF",
            "TCD",
            "COM",
            "COD",
            "COG",
            "CIV",
            "DJI",
            "EGY",
            "GNQ",
            "ERI",
            "SWZ",
            "ETH",
            "GAB",
            "GMB",
            "GHA",
            "GIN",
            "GNB",
            "KEN",
            "LSO",
            "LBR",
            "LBY",
            "MDG",
            "MWI",
            "MLI",
            "MRT",
            "MUS",
            "MAR",
            "MOZ",
            "NAM",
            "NER",
            "NGA",
            "RWA",
            "STP",
            "SEN",
            "SYC",
            "SLE",
            "SOM",
            "ZAF",
            "SSD",
            "SDN",
            "TZA",
            "TGO",
            "TUN",
            "UGA",
            "ZMB",
            "ZWE"
           ],
           "name": "",
           "type": "choropleth",
           "z": [
            0.03,
            174.43,
            378.03,
            0.22,
            527.54,
            153.93,
            0.01,
            245.13,
            413.09,
            195.34,
            68.85,
            363,
            224.63,
            396.28,
            3.31,
            0,
            357.75,
            16.15,
            1.86,
            116.19,
            245.53,
            274.82,
            374.29,
            427.8,
            128.75,
            73.36,
            null,
            307.9,
            0,
            71.36,
            314.02,
            435.65,
            28.42,
            null,
            0,
            381.78,
            3.36,
            430.51,
            347.74,
            71.46,
            56.8,
            56.92,
            null,
            447.47,
            24.45,
            1.25,
            232.68,
            30.16,
            116.25,
            349.7,
            null,
            331.77,
            203.08,
            57.22
           ]
          }
         ],
         "name": "2012"
        },
        {
         "data": [
          {
           "coloraxis": "coloraxis",
           "geo": "geo",
           "hovertemplate": "<b>%{hovertext}</b><br><br>Year=2013<br>CountryCode=%{location}<br>IncidenceOfMalaria=%{z}<extra></extra>",
           "hovertext": [
            "Algeria",
            "Angola",
            "Benin",
            "Botswana",
            "Burkina Faso",
            "Burundi",
            "Cabo Verde",
            "Cameroon",
            "Central African Republic",
            "Chad",
            "Comoros",
            "Congo, Dem. Rep.",
            "Congo, Rep.",
            "Cote d'Ivoire",
            "Djibouti",
            "Egypt, Arab Rep.",
            "Equatorial Guinea",
            "Eritrea",
            "Eswatini",
            "Ethiopia",
            "Gabon",
            "Gambia, The",
            "Ghana",
            "Guinea",
            "Guinea-Bissau",
            "Kenya",
            "Lesotho",
            "Liberia",
            "Libya",
            "Madagascar",
            "Malawi",
            "Mali",
            "Mauritania",
            "Mauritius",
            "Morocco",
            "Mozambique",
            "Namibia",
            "Niger",
            "Nigeria",
            "Rwanda",
            "Sao Tome and Principe",
            "Senegal",
            "Seychelles",
            "Sierra Leone",
            "Somalia",
            "South Africa",
            "South Sudan",
            "Sudan",
            "Tanzania",
            "Togo",
            "Tunisia",
            "Uganda",
            "Zambia",
            "Zimbabwe"
           ],
           "locationmode": "ISO-3",
           "locations": [
            "DZA",
            "AGO",
            "BEN",
            "BWA",
            "BFA",
            "BDI",
            "CPV",
            "CMR",
            "CAF",
            "TCD",
            "COM",
            "COD",
            "COG",
            "CIV",
            "DJI",
            "EGY",
            "GNQ",
            "ERI",
            "SWZ",
            "ETH",
            "GAB",
            "GMB",
            "GHA",
            "GIN",
            "GNB",
            "KEN",
            "LSO",
            "LBR",
            "LBY",
            "MDG",
            "MWI",
            "MLI",
            "MRT",
            "MUS",
            "MAR",
            "MOZ",
            "NAM",
            "NER",
            "NGA",
            "RWA",
            "STP",
            "SEN",
            "SYC",
            "SLE",
            "SOM",
            "ZAF",
            "SSD",
            "SDN",
            "TZA",
            "TGO",
            "TUN",
            "UGA",
            "ZMB",
            "ZWE"
           ],
           "name": "",
           "type": "choropleth",
           "z": [
            0,
            180.9,
            395,
            0.53,
            487.52,
            140.59,
            0.17,
            243.04,
            406.82,
            179.35,
            71.69,
            327.62,
            231.03,
            338.87,
            2.54,
            0,
            365.75,
            15.03,
            3.16,
            111.6,
            272.83,
            236.99,
            349.28,
            408.08,
            113.39,
            82.48,
            null,
            317.28,
            0,
            65.21,
            267.86,
            452.82,
            33.22,
            null,
            0,
            376.98,
            4.55,
            420.49,
            328.65,
            121.45,
            48.12,
            67.9,
            null,
            432.7,
            28.05,
            1.61,
            234.38,
            31.45,
            111.78,
            385.39,
            null,
            254.24,
            225.77,
            81.95
           ]
          }
         ],
         "name": "2013"
        },
        {
         "data": [
          {
           "coloraxis": "coloraxis",
           "geo": "geo",
           "hovertemplate": "<b>%{hovertext}</b><br><br>Year=2014<br>CountryCode=%{location}<br>IncidenceOfMalaria=%{z}<extra></extra>",
           "hovertext": [
            "Algeria",
            "Angola",
            "Benin",
            "Botswana",
            "Burkina Faso",
            "Burundi",
            "Cabo Verde",
            "Cameroon",
            "Central African Republic",
            "Chad",
            "Comoros",
            "Congo, Dem. Rep.",
            "Congo, Rep.",
            "Cote d'Ivoire",
            "Djibouti",
            "Egypt, Arab Rep.",
            "Equatorial Guinea",
            "Eritrea",
            "Eswatini",
            "Ethiopia",
            "Gabon",
            "Gambia, The",
            "Ghana",
            "Guinea",
            "Guinea-Bissau",
            "Kenya",
            "Lesotho",
            "Liberia",
            "Libya",
            "Madagascar",
            "Malawi",
            "Mali",
            "Mauritania",
            "Mauritius",
            "Morocco",
            "Mozambique",
            "Namibia",
            "Niger",
            "Nigeria",
            "Rwanda",
            "Sao Tome and Principe",
            "Senegal",
            "Seychelles",
            "Sierra Leone",
            "Somalia",
            "South Africa",
            "South Sudan",
            "Sudan",
            "Tanzania",
            "Togo",
            "Tunisia",
            "Uganda",
            "Zambia",
            "Zimbabwe"
           ],
           "locationmode": "ISO-3",
           "locations": [
            "DZA",
            "AGO",
            "BEN",
            "BWA",
            "BFA",
            "BDI",
            "CPV",
            "CMR",
            "CAF",
            "TCD",
            "COM",
            "COD",
            "COG",
            "CIV",
            "DJI",
            "EGY",
            "GNQ",
            "ERI",
            "SWZ",
            "ETH",
            "GAB",
            "GMB",
            "GHA",
            "GIN",
            "GNB",
            "KEN",
            "LSO",
            "LBR",
            "LBY",
            "MDG",
            "MWI",
            "MLI",
            "MRT",
            "MUS",
            "MAR",
            "MOZ",
            "NAM",
            "NER",
            "NGA",
            "RWA",
            "STP",
            "SEN",
            "SYC",
            "SLE",
            "SOM",
            "ZAF",
            "SSD",
            "SDN",
            "TZA",
            "TGO",
            "TUN",
            "UGA",
            "ZMB",
            "ZWE"
           ],
           "name": "",
           "type": "choropleth",
           "z": [
            0,
            187.94,
            399.24,
            1.5,
            436.06,
            141.51,
            0.19,
            244.08,
            393.04,
            170.27,
            2.9,
            308.39,
            231.85,
            315.07,
            14.01,
            0,
            360.95,
            33.12,
            2.32,
            57.1,
            285.74,
            142.02,
            315.76,
            381.09,
            93.9,
            83.87,
            null,
            337.57,
            0,
            45.78,
            237,
            441.01,
            49.2,
            null,
            0,
            364.83,
            14.49,
            400.25,
            314.4,
            219.81,
            8.96,
            39.51,
            null,
            409.31,
            32.1,
            2.15,
            236.14,
            33.38,
            118.94,
            384.68,
            null,
            220.62,
            222.98,
            101.89
           ]
          }
         ],
         "name": "2014"
        },
        {
         "data": [
          {
           "coloraxis": "coloraxis",
           "geo": "geo",
           "hovertemplate": "<b>%{hovertext}</b><br><br>Year=2015<br>CountryCode=%{location}<br>IncidenceOfMalaria=%{z}<extra></extra>",
           "hovertext": [
            "Algeria",
            "Angola",
            "Benin",
            "Botswana",
            "Burkina Faso",
            "Burundi",
            "Cabo Verde",
            "Cameroon",
            "Central African Republic",
            "Chad",
            "Comoros",
            "Congo, Dem. Rep.",
            "Congo, Rep.",
            "Cote d'Ivoire",
            "Djibouti",
            "Egypt, Arab Rep.",
            "Equatorial Guinea",
            "Eritrea",
            "Eswatini",
            "Ethiopia",
            "Gabon",
            "Gambia, The",
            "Ghana",
            "Guinea",
            "Guinea-Bissau",
            "Kenya",
            "Lesotho",
            "Liberia",
            "Libya",
            "Madagascar",
            "Malawi",
            "Mali",
            "Mauritania",
            "Mauritius",
            "Morocco",
            "Mozambique",
            "Namibia",
            "Niger",
            "Nigeria",
            "Rwanda",
            "Sao Tome and Principe",
            "Senegal",
            "Seychelles",
            "Sierra Leone",
            "Somalia",
            "South Africa",
            "South Sudan",
            "Sudan",
            "Tanzania",
            "Togo",
            "Tunisia",
            "Uganda",
            "Zambia",
            "Zimbabwe"
           ],
           "locationmode": "ISO-3",
           "locations": [
            "DZA",
            "AGO",
            "BEN",
            "BWA",
            "BFA",
            "BDI",
            "CPV",
            "CMR",
            "CAF",
            "TCD",
            "COM",
            "COD",
            "COG",
            "CIV",
            "DJI",
            "EGY",
            "GNQ",
            "ERI",
            "SWZ",
            "ETH",
            "GAB",
            "GMB",
            "GHA",
            "GIN",
            "GNB",
            "KEN",
            "LSO",
            "LBR",
            "LBY",
            "MDG",
            "MWI",
            "MLI",
            "MRT",
            "MUS",
            "MAR",
            "MOZ",
            "NAM",
            "NER",
            "NGA",
            "RWA",
            "STP",
            "SEN",
            "SYC",
            "SLE",
            "SOM",
            "ZAF",
            "SSD",
            "SDN",
            "TZA",
            "TGO",
            "TUN",
            "UGA",
            "ZMB",
            "ZWE"
           ],
           "name": "",
           "type": "choropleth",
           "z": [
            0,
            199.99,
            411.82,
            0.37,
            400.09,
            165.5,
            0.05,
            254.5,
            379.91,
            167.28,
            1.67,
            308.83,
            226.71,
            320.04,
            13.82,
            0,
            339.48,
            19.2,
            0.51,
            52.77,
            284.44,
            195.04,
            277.19,
            356.64,
            79.77,
            72.17,
            null,
            346.97,
            0,
            97.32,
            217.04,
            391.83,
            61.61,
            null,
            0,
            355.88,
            10.88,
            369.83,
            296.08,
            341.96,
            10.32,
            69.8,
            null,
            403.72,
            37.27,
            0.21,
            240.36,
            35.88,
            121.74,
            364.31,
            null,
            236.11,
            202.55,
            97.65
           ]
          }
         ],
         "name": "2015"
        },
        {
         "data": [
          {
           "coloraxis": "coloraxis",
           "geo": "geo",
           "hovertemplate": "<b>%{hovertext}</b><br><br>Year=2016<br>CountryCode=%{location}<br>IncidenceOfMalaria=%{z}<extra></extra>",
           "hovertext": [
            "Algeria",
            "Angola",
            "Benin",
            "Botswana",
            "Burkina Faso",
            "Burundi",
            "Cabo Verde",
            "Cameroon",
            "Central African Republic",
            "Chad",
            "Comoros",
            "Congo, Dem. Rep.",
            "Congo, Rep.",
            "Cote d'Ivoire",
            "Djibouti",
            "Egypt, Arab Rep.",
            "Equatorial Guinea",
            "Eritrea",
            "Eswatini",
            "Ethiopia",
            "Gabon",
            "Gambia, The",
            "Ghana",
            "Guinea",
            "Guinea-Bissau",
            "Kenya",
            "Lesotho",
            "Liberia",
            "Libya",
            "Madagascar",
            "Malawi",
            "Mali",
            "Mauritania",
            "Mauritius",
            "Morocco",
            "Mozambique",
            "Namibia",
            "Niger",
            "Nigeria",
            "Rwanda",
            "Sao Tome and Principe",
            "Senegal",
            "Seychelles",
            "Sierra Leone",
            "Somalia",
            "South Africa",
            "South Sudan",
            "Sudan",
            "Tanzania",
            "Togo",
            "Tunisia",
            "Uganda",
            "Zambia",
            "Zimbabwe"
           ],
           "locationmode": "ISO-3",
           "locations": [
            "DZA",
            "AGO",
            "BEN",
            "BWA",
            "BFA",
            "BDI",
            "CPV",
            "CMR",
            "CAF",
            "TCD",
            "COM",
            "COD",
            "COG",
            "CIV",
            "DJI",
            "EGY",
            "GNQ",
            "ERI",
            "SWZ",
            "ETH",
            "GAB",
            "GMB",
            "GHA",
            "GIN",
            "GNB",
            "KEN",
            "LSO",
            "LBR",
            "LBY",
            "MDG",
            "MWI",
            "MLI",
            "MRT",
            "MUS",
            "MAR",
            "MOZ",
            "NAM",
            "NER",
            "NGA",
            "RWA",
            "STP",
            "SEN",
            "SYC",
            "SLE",
            "SOM",
            "ZAF",
            "SSD",
            "SDN",
            "TZA",
            "TGO",
            "TUN",
            "UGA",
            "ZMB",
            "ZWE"
           ],
           "name": "",
           "type": "choropleth",
           "z": [
            0,
            219.99,
            421.58,
            0.81,
            401.73,
            225.74,
            0.35,
            264.31,
            362.02,
            169.93,
            1.44,
            322.77,
            233.38,
            354.66,
            19.81,
            0,
            306.97,
            25.64,
            1.12,
            41.41,
            270.67,
            116.53,
            236,
            331.47,
            71.35,
            70.38,
            null,
            386.3,
            0,
            56.58,
            210.66,
            384.22,
            71.5,
            null,
            0,
            344.82,
            22.12,
            358.74,
            281.38,
            585.54,
            11.01,
            45.66,
            null,
            391.33,
            37.26,
            0.77,
            244.55,
            41.73,
            123.57,
            324.86,
            null,
            304.41,
            181.39,
            65.78
           ]
          }
         ],
         "name": "2016"
        },
        {
         "data": [
          {
           "coloraxis": "coloraxis",
           "geo": "geo",
           "hovertemplate": "<b>%{hovertext}</b><br><br>Year=2017<br>CountryCode=%{location}<br>IncidenceOfMalaria=%{z}<extra></extra>",
           "hovertext": [
            "Algeria",
            "Angola",
            "Benin",
            "Botswana",
            "Burkina Faso",
            "Burundi",
            "Cabo Verde",
            "Cameroon",
            "Central African Republic",
            "Chad",
            "Comoros",
            "Congo, Dem. Rep.",
            "Congo, Rep.",
            "Cote d'Ivoire",
            "Djibouti",
            "Egypt, Arab Rep.",
            "Equatorial Guinea",
            "Eritrea",
            "Eswatini",
            "Ethiopia",
            "Gabon",
            "Gambia, The",
            "Ghana",
            "Guinea",
            "Guinea-Bissau",
            "Kenya",
            "Lesotho",
            "Liberia",
            "Libya",
            "Madagascar",
            "Malawi",
            "Mali",
            "Mauritania",
            "Mauritius",
            "Morocco",
            "Mozambique",
            "Namibia",
            "Niger",
            "Nigeria",
            "Rwanda",
            "Sao Tome and Principe",
            "Senegal",
            "Seychelles",
            "Sierra Leone",
            "Somalia",
            "South Africa",
            "South Sudan",
            "Sudan",
            "Tanzania",
            "Togo",
            "Tunisia",
            "Uganda",
            "Zambia",
            "Zimbabwe"
           ],
           "locationmode": "ISO-3",
           "locations": [
            "DZA",
            "AGO",
            "BEN",
            "BWA",
            "BFA",
            "BDI",
            "CPV",
            "CMR",
            "CAF",
            "TCD",
            "COM",
            "COD",
            "COG",
            "CIV",
            "DJI",
            "EGY",
            "GNQ",
            "ERI",
            "SWZ",
            "ETH",
            "GAB",
            "GMB",
            "GHA",
            "GIN",
            "GNB",
            "KEN",
            "LSO",
            "LBR",
            "LBY",
            "MDG",
            "MWI",
            "MLI",
            "MRT",
            "MUS",
            "MAR",
            "MOZ",
            "NAM",
            "NER",
            "NGA",
            "RWA",
            "STP",
            "SEN",
            "SYC",
            "SLE",
            "SOM",
            "ZAF",
            "SSD",
            "SDN",
            "TZA",
            "TGO",
            "TUN",
            "UGA",
            "ZMB",
            "ZWE"
           ],
           "name": "",
           "type": "choropleth",
           "z": [
            0,
            228.91,
            399.56,
            2.05,
            399.94,
            250.27,
            3.03,
            262.23,
            347.33,
            172.3,
            3.97,
            329.13,
            240.64,
            362.36,
            20.72,
            0,
            285.72,
            33.97,
            2.3,
            36.74,
            254.24,
            53.02,
            212.56,
            311.53,
            78.33,
            70.1,
            null,
            401.11,
            0,
            75.67,
            216.26,
            386.78,
            55.49,
            null,
            0,
            326.4,
            46.75,
            356.57,
            283.06,
            538.34,
            10.81,
            52.35,
            null,
            364.13,
            37.13,
            3.95,
            245.8,
            46.75,
            123.96,
            278.2,
            null,
            336.76,
            160.05,
            108.55
           ]
          }
         ],
         "name": "2017"
        }
       ],
       "layout": {
        "coloraxis": {
         "colorbar": {
          "title": {
           "text": "IncidenceOfMalaria"
          }
         },
         "colorscale": [
          [
           0,
           "#440154"
          ],
          [
           0.1111111111111111,
           "#482878"
          ],
          [
           0.2222222222222222,
           "#3e4989"
          ],
          [
           0.3333333333333333,
           "#31688e"
          ],
          [
           0.4444444444444444,
           "#26828e"
          ],
          [
           0.5555555555555556,
           "#1f9e89"
          ],
          [
           0.6666666666666666,
           "#35b779"
          ],
          [
           0.7777777777777778,
           "#6ece58"
          ],
          [
           0.8888888888888888,
           "#b5de2b"
          ],
          [
           1,
           "#fde725"
          ]
         ]
        },
        "geo": {
         "center": {},
         "domain": {
          "x": [
           0,
           1
          ],
          "y": [
           0,
           1
          ]
         },
         "scope": "africa"
        },
        "legend": {
         "tracegroupgap": 0
        },
        "sliders": [
         {
          "active": 0,
          "currentvalue": {
           "prefix": "Year="
          },
          "len": 0.9,
          "pad": {
           "b": 10,
           "t": 60
          },
          "steps": [
           {
            "args": [
             [
              "2007"
             ],
             {
              "frame": {
               "duration": 0,
               "redraw": true
              },
              "fromcurrent": true,
              "mode": "immediate",
              "transition": {
               "duration": 0,
               "easing": "linear"
              }
             }
            ],
            "label": "2007",
            "method": "animate"
           },
           {
            "args": [
             [
              "2008"
             ],
             {
              "frame": {
               "duration": 0,
               "redraw": true
              },
              "fromcurrent": true,
              "mode": "immediate",
              "transition": {
               "duration": 0,
               "easing": "linear"
              }
             }
            ],
            "label": "2008",
            "method": "animate"
           },
           {
            "args": [
             [
              "2009"
             ],
             {
              "frame": {
               "duration": 0,
               "redraw": true
              },
              "fromcurrent": true,
              "mode": "immediate",
              "transition": {
               "duration": 0,
               "easing": "linear"
              }
             }
            ],
            "label": "2009",
            "method": "animate"
           },
           {
            "args": [
             [
              "2010"
             ],
             {
              "frame": {
               "duration": 0,
               "redraw": true
              },
              "fromcurrent": true,
              "mode": "immediate",
              "transition": {
               "duration": 0,
               "easing": "linear"
              }
             }
            ],
            "label": "2010",
            "method": "animate"
           },
           {
            "args": [
             [
              "2011"
             ],
             {
              "frame": {
               "duration": 0,
               "redraw": true
              },
              "fromcurrent": true,
              "mode": "immediate",
              "transition": {
               "duration": 0,
               "easing": "linear"
              }
             }
            ],
            "label": "2011",
            "method": "animate"
           },
           {
            "args": [
             [
              "2012"
             ],
             {
              "frame": {
               "duration": 0,
               "redraw": true
              },
              "fromcurrent": true,
              "mode": "immediate",
              "transition": {
               "duration": 0,
               "easing": "linear"
              }
             }
            ],
            "label": "2012",
            "method": "animate"
           },
           {
            "args": [
             [
              "2013"
             ],
             {
              "frame": {
               "duration": 0,
               "redraw": true
              },
              "fromcurrent": true,
              "mode": "immediate",
              "transition": {
               "duration": 0,
               "easing": "linear"
              }
             }
            ],
            "label": "2013",
            "method": "animate"
           },
           {
            "args": [
             [
              "2014"
             ],
             {
              "frame": {
               "duration": 0,
               "redraw": true
              },
              "fromcurrent": true,
              "mode": "immediate",
              "transition": {
               "duration": 0,
               "easing": "linear"
              }
             }
            ],
            "label": "2014",
            "method": "animate"
           },
           {
            "args": [
             [
              "2015"
             ],
             {
              "frame": {
               "duration": 0,
               "redraw": true
              },
              "fromcurrent": true,
              "mode": "immediate",
              "transition": {
               "duration": 0,
               "easing": "linear"
              }
             }
            ],
            "label": "2015",
            "method": "animate"
           },
           {
            "args": [
             [
              "2016"
             ],
             {
              "frame": {
               "duration": 0,
               "redraw": true
              },
              "fromcurrent": true,
              "mode": "immediate",
              "transition": {
               "duration": 0,
               "easing": "linear"
              }
             }
            ],
            "label": "2016",
            "method": "animate"
           },
           {
            "args": [
             [
              "2017"
             ],
             {
              "frame": {
               "duration": 0,
               "redraw": true
              },
              "fromcurrent": true,
              "mode": "immediate",
              "transition": {
               "duration": 0,
               "easing": "linear"
              }
             }
            ],
            "label": "2017",
            "method": "animate"
           }
          ],
          "x": 0.1,
          "xanchor": "left",
          "y": 0,
          "yanchor": "top"
         }
        ],
        "template": {
         "data": {
          "pie": [
           {
            "automargin": true,
            "type": "pie"
           }
          ],
          "scatter": [
           {
            "line": {
             "width": 3
            },
            "marker": {
             "size": 9
            },
            "type": "scatter"
           }
          ],
          "scatter3d": [
           {
            "line": {
             "width": 3
            },
            "marker": {
             "size": 9
            },
            "type": "scatter3d"
           }
          ],
          "scattergeo": [
           {
            "line": {
             "width": 3
            },
            "marker": {
             "size": 9
            },
            "type": "scattergeo"
           }
          ],
          "scattergl": [
           {
            "line": {
             "width": 3
            },
            "marker": {
             "size": 9
            },
            "type": "scattergl"
           }
          ],
          "scatterpolar": [
           {
            "line": {
             "width": 3
            },
            "marker": {
             "size": 9
            },
            "type": "scatterpolar"
           }
          ],
          "scatterpolargl": [
           {
            "line": {
             "width": 3
            },
            "marker": {
             "size": 9
            },
            "type": "scatterpolargl"
           }
          ],
          "scatterternary": [
           {
            "line": {
             "width": 3
            },
            "marker": {
             "size": 9
            },
            "type": "scatterternary"
           }
          ],
          "table": [
           {
            "cells": {
             "height": 30
            },
            "header": {
             "height": 36
            },
            "type": "table"
           }
          ]
         },
         "layout": {
          "font": {
           "size": 18
          },
          "xaxis": {
           "title": {
            "standoff": 15
           }
          },
          "yaxis": {
           "title": {
            "standoff": 15
           }
          }
         }
        },
        "title": {
         "text": "Incidence of Malaria(per 1000 of population at risk) per country"
        },
        "updatemenus": [
         {
          "buttons": [
           {
            "args": [
             null,
             {
              "frame": {
               "duration": 500,
               "redraw": true
              },
              "fromcurrent": true,
              "mode": "immediate",
              "transition": {
               "duration": 500,
               "easing": "linear"
              }
             }
            ],
            "label": "&#9654;",
            "method": "animate"
           },
           {
            "args": [
             [
              null
             ],
             {
              "frame": {
               "duration": 0,
               "redraw": true
              },
              "fromcurrent": true,
              "mode": "immediate",
              "transition": {
               "duration": 0,
               "easing": "linear"
              }
             }
            ],
            "label": "&#9724;",
            "method": "animate"
           }
          ],
          "direction": "left",
          "pad": {
           "r": 10,
           "t": 70
          },
          "showactive": false,
          "type": "buttons",
          "x": 0.1,
          "xanchor": "right",
          "y": 0,
          "yanchor": "top"
         }
        ]
       }
      },
      "text/html": [
       "<div>                            <div id=\"7c2583ce-b3ce-44c5-ac98-92439f60321f\" class=\"plotly-graph-div\" style=\"height:525px; width:100%;\"></div>            <script type=\"text/javascript\">                require([\"plotly\"], function(Plotly) {                    window.PLOTLYENV=window.PLOTLYENV || {};                                    if (document.getElementById(\"7c2583ce-b3ce-44c5-ac98-92439f60321f\")) {                    Plotly.newPlot(                        \"7c2583ce-b3ce-44c5-ac98-92439f60321f\",                        [{\"coloraxis\":\"coloraxis\",\"geo\":\"geo\",\"hovertemplate\":\"<b>%{hovertext}</b><br><br>Year=2007<br>CountryCode=%{location}<br>IncidenceOfMalaria=%{z}<extra></extra>\",\"hovertext\":[\"Algeria\",\"Angola\",\"Benin\",\"Botswana\",\"Burkina Faso\",\"Burundi\",\"Cabo Verde\",\"Cameroon\",\"Central African Republic\",\"Chad\",\"Comoros\",\"Congo, Dem. Rep.\",\"Congo, Rep.\",\"Cote d'Ivoire\",\"Djibouti\",\"Egypt, Arab Rep.\",\"Equatorial Guinea\",\"Eritrea\",\"Eswatini\",\"Ethiopia\",\"Gabon\",\"Gambia, The\",\"Ghana\",\"Guinea\",\"Guinea-Bissau\",\"Kenya\",\"Lesotho\",\"Liberia\",\"Libya\",\"Madagascar\",\"Malawi\",\"Mali\",\"Mauritania\",\"Mauritius\",\"Morocco\",\"Mozambique\",\"Namibia\",\"Niger\",\"Nigeria\",\"Rwanda\",\"Sao Tome and Principe\",\"Senegal\",\"Seychelles\",\"Sierra Leone\",\"Somalia\",\"South Africa\",\"South Sudan\",\"Sudan\",\"Tanzania\",\"Togo\",\"Tunisia\",\"Uganda\",\"Zambia\",\"Zimbabwe\"],\"locationmode\":\"ISO-3\",\"locations\":[\"DZA\",\"AGO\",\"BEN\",\"BWA\",\"BFA\",\"BDI\",\"CPV\",\"CMR\",\"CAF\",\"TCD\",\"COM\",\"COD\",\"COG\",\"CIV\",\"DJI\",\"EGY\",\"GNQ\",\"ERI\",\"SWZ\",\"ETH\",\"GAB\",\"GMB\",\"GHA\",\"GIN\",\"GNB\",\"KEN\",\"LSO\",\"LBR\",\"LBY\",\"MDG\",\"MWI\",\"MLI\",\"MRT\",\"MUS\",\"MAR\",\"MOZ\",\"NAM\",\"NER\",\"NGA\",\"RWA\",\"STP\",\"SEN\",\"SYC\",\"SLE\",\"SOM\",\"ZAF\",\"SSD\",\"SDN\",\"TZA\",\"TGO\",\"TUN\",\"UGA\",\"ZMB\",\"ZWE\"],\"name\":\"\",\"z\":[0.01,286.72,480.24,1.03,503.8,222.92,0.15,386.68,471.11,210.71,60.65,481.93,281.83,509.98,3.84,0.0,398.15,12.54,0.29,121.69,110.66,316.01,322.33,343.69,72.81,78.02,null,383.18,0.0,22.78,370.08,388.81,70.77,null,0.0,399.45,12.97,386.68,421.33,90.64,14.56,101.91,null,379.94,100.56,1.29,276.75,41.08,184.53,434.49,null,377.94,195.74,175.12],\"type\":\"choropleth\"}],                        {\"template\":{\"data\":{\"pie\":[{\"automargin\":true,\"type\":\"pie\"}],\"scatter3d\":[{\"line\":{\"width\":3},\"marker\":{\"size\":9},\"type\":\"scatter3d\"}],\"scattergeo\":[{\"line\":{\"width\":3},\"marker\":{\"size\":9},\"type\":\"scattergeo\"}],\"scattergl\":[{\"line\":{\"width\":3},\"marker\":{\"size\":9},\"type\":\"scattergl\"}],\"scatterpolargl\":[{\"line\":{\"width\":3},\"marker\":{\"size\":9},\"type\":\"scatterpolargl\"}],\"scatterpolar\":[{\"line\":{\"width\":3},\"marker\":{\"size\":9},\"type\":\"scatterpolar\"}],\"scatter\":[{\"line\":{\"width\":3},\"marker\":{\"size\":9},\"type\":\"scatter\"}],\"scatterternary\":[{\"line\":{\"width\":3},\"marker\":{\"size\":9},\"type\":\"scatterternary\"}],\"table\":[{\"cells\":{\"height\":30},\"header\":{\"height\":36},\"type\":\"table\"}]},\"layout\":{\"font\":{\"size\":18},\"xaxis\":{\"title\":{\"standoff\":15}},\"yaxis\":{\"title\":{\"standoff\":15}}}},\"geo\":{\"domain\":{\"x\":[0.0,1.0],\"y\":[0.0,1.0]},\"center\":{},\"scope\":\"africa\"},\"coloraxis\":{\"colorbar\":{\"title\":{\"text\":\"IncidenceOfMalaria\"}},\"colorscale\":[[0.0,\"#440154\"],[0.1111111111111111,\"#482878\"],[0.2222222222222222,\"#3e4989\"],[0.3333333333333333,\"#31688e\"],[0.4444444444444444,\"#26828e\"],[0.5555555555555556,\"#1f9e89\"],[0.6666666666666666,\"#35b779\"],[0.7777777777777778,\"#6ece58\"],[0.8888888888888888,\"#b5de2b\"],[1.0,\"#fde725\"]]},\"legend\":{\"tracegroupgap\":0},\"title\":{\"text\":\"Incidence of Malaria(per 1000 of population at risk) per country\"},\"updatemenus\":[{\"buttons\":[{\"args\":[null,{\"frame\":{\"duration\":500,\"redraw\":true},\"mode\":\"immediate\",\"fromcurrent\":true,\"transition\":{\"duration\":500,\"easing\":\"linear\"}}],\"label\":\"&#9654;\",\"method\":\"animate\"},{\"args\":[[null],{\"frame\":{\"duration\":0,\"redraw\":true},\"mode\":\"immediate\",\"fromcurrent\":true,\"transition\":{\"duration\":0,\"easing\":\"linear\"}}],\"label\":\"&#9724;\",\"method\":\"animate\"}],\"direction\":\"left\",\"pad\":{\"r\":10,\"t\":70},\"showactive\":false,\"type\":\"buttons\",\"x\":0.1,\"xanchor\":\"right\",\"y\":0,\"yanchor\":\"top\"}],\"sliders\":[{\"active\":0,\"currentvalue\":{\"prefix\":\"Year=\"},\"len\":0.9,\"pad\":{\"b\":10,\"t\":60},\"steps\":[{\"args\":[[\"2007\"],{\"frame\":{\"duration\":0,\"redraw\":true},\"mode\":\"immediate\",\"fromcurrent\":true,\"transition\":{\"duration\":0,\"easing\":\"linear\"}}],\"label\":\"2007\",\"method\":\"animate\"},{\"args\":[[\"2008\"],{\"frame\":{\"duration\":0,\"redraw\":true},\"mode\":\"immediate\",\"fromcurrent\":true,\"transition\":{\"duration\":0,\"easing\":\"linear\"}}],\"label\":\"2008\",\"method\":\"animate\"},{\"args\":[[\"2009\"],{\"frame\":{\"duration\":0,\"redraw\":true},\"mode\":\"immediate\",\"fromcurrent\":true,\"transition\":{\"duration\":0,\"easing\":\"linear\"}}],\"label\":\"2009\",\"method\":\"animate\"},{\"args\":[[\"2010\"],{\"frame\":{\"duration\":0,\"redraw\":true},\"mode\":\"immediate\",\"fromcurrent\":true,\"transition\":{\"duration\":0,\"easing\":\"linear\"}}],\"label\":\"2010\",\"method\":\"animate\"},{\"args\":[[\"2011\"],{\"frame\":{\"duration\":0,\"redraw\":true},\"mode\":\"immediate\",\"fromcurrent\":true,\"transition\":{\"duration\":0,\"easing\":\"linear\"}}],\"label\":\"2011\",\"method\":\"animate\"},{\"args\":[[\"2012\"],{\"frame\":{\"duration\":0,\"redraw\":true},\"mode\":\"immediate\",\"fromcurrent\":true,\"transition\":{\"duration\":0,\"easing\":\"linear\"}}],\"label\":\"2012\",\"method\":\"animate\"},{\"args\":[[\"2013\"],{\"frame\":{\"duration\":0,\"redraw\":true},\"mode\":\"immediate\",\"fromcurrent\":true,\"transition\":{\"duration\":0,\"easing\":\"linear\"}}],\"label\":\"2013\",\"method\":\"animate\"},{\"args\":[[\"2014\"],{\"frame\":{\"duration\":0,\"redraw\":true},\"mode\":\"immediate\",\"fromcurrent\":true,\"transition\":{\"duration\":0,\"easing\":\"linear\"}}],\"label\":\"2014\",\"method\":\"animate\"},{\"args\":[[\"2015\"],{\"frame\":{\"duration\":0,\"redraw\":true},\"mode\":\"immediate\",\"fromcurrent\":true,\"transition\":{\"duration\":0,\"easing\":\"linear\"}}],\"label\":\"2015\",\"method\":\"animate\"},{\"args\":[[\"2016\"],{\"frame\":{\"duration\":0,\"redraw\":true},\"mode\":\"immediate\",\"fromcurrent\":true,\"transition\":{\"duration\":0,\"easing\":\"linear\"}}],\"label\":\"2016\",\"method\":\"animate\"},{\"args\":[[\"2017\"],{\"frame\":{\"duration\":0,\"redraw\":true},\"mode\":\"immediate\",\"fromcurrent\":true,\"transition\":{\"duration\":0,\"easing\":\"linear\"}}],\"label\":\"2017\",\"method\":\"animate\"}],\"x\":0.1,\"xanchor\":\"left\",\"y\":0,\"yanchor\":\"top\"}]},                        {\"responsive\": true}                    ).then(function(){\n",
       "                            Plotly.addFrames('7c2583ce-b3ce-44c5-ac98-92439f60321f', [{\"data\":[{\"coloraxis\":\"coloraxis\",\"geo\":\"geo\",\"hovertemplate\":\"<b>%{hovertext}</b><br><br>Year=2007<br>CountryCode=%{location}<br>IncidenceOfMalaria=%{z}<extra></extra>\",\"hovertext\":[\"Algeria\",\"Angola\",\"Benin\",\"Botswana\",\"Burkina Faso\",\"Burundi\",\"Cabo Verde\",\"Cameroon\",\"Central African Republic\",\"Chad\",\"Comoros\",\"Congo, Dem. Rep.\",\"Congo, Rep.\",\"Cote d'Ivoire\",\"Djibouti\",\"Egypt, Arab Rep.\",\"Equatorial Guinea\",\"Eritrea\",\"Eswatini\",\"Ethiopia\",\"Gabon\",\"Gambia, The\",\"Ghana\",\"Guinea\",\"Guinea-Bissau\",\"Kenya\",\"Lesotho\",\"Liberia\",\"Libya\",\"Madagascar\",\"Malawi\",\"Mali\",\"Mauritania\",\"Mauritius\",\"Morocco\",\"Mozambique\",\"Namibia\",\"Niger\",\"Nigeria\",\"Rwanda\",\"Sao Tome and Principe\",\"Senegal\",\"Seychelles\",\"Sierra Leone\",\"Somalia\",\"South Africa\",\"South Sudan\",\"Sudan\",\"Tanzania\",\"Togo\",\"Tunisia\",\"Uganda\",\"Zambia\",\"Zimbabwe\"],\"locationmode\":\"ISO-3\",\"locations\":[\"DZA\",\"AGO\",\"BEN\",\"BWA\",\"BFA\",\"BDI\",\"CPV\",\"CMR\",\"CAF\",\"TCD\",\"COM\",\"COD\",\"COG\",\"CIV\",\"DJI\",\"EGY\",\"GNQ\",\"ERI\",\"SWZ\",\"ETH\",\"GAB\",\"GMB\",\"GHA\",\"GIN\",\"GNB\",\"KEN\",\"LSO\",\"LBR\",\"LBY\",\"MDG\",\"MWI\",\"MLI\",\"MRT\",\"MUS\",\"MAR\",\"MOZ\",\"NAM\",\"NER\",\"NGA\",\"RWA\",\"STP\",\"SEN\",\"SYC\",\"SLE\",\"SOM\",\"ZAF\",\"SSD\",\"SDN\",\"TZA\",\"TGO\",\"TUN\",\"UGA\",\"ZMB\",\"ZWE\"],\"name\":\"\",\"z\":[0.01,286.72,480.24,1.03,503.8,222.92,0.15,386.68,471.11,210.71,60.65,481.93,281.83,509.98,3.84,0.0,398.15,12.54,0.29,121.69,110.66,316.01,322.33,343.69,72.81,78.02,null,383.18,0.0,22.78,370.08,388.81,70.77,null,0.0,399.45,12.97,386.68,421.33,90.64,14.56,101.91,null,379.94,100.56,1.29,276.75,41.08,184.53,434.49,null,377.94,195.74,175.12],\"type\":\"choropleth\"}],\"name\":\"2007\"},{\"data\":[{\"coloraxis\":\"coloraxis\",\"geo\":\"geo\",\"hovertemplate\":\"<b>%{hovertext}</b><br><br>Year=2008<br>CountryCode=%{location}<br>IncidenceOfMalaria=%{z}<extra></extra>\",\"hovertext\":[\"Algeria\",\"Angola\",\"Benin\",\"Botswana\",\"Burkina Faso\",\"Burundi\",\"Cabo Verde\",\"Cameroon\",\"Central African Republic\",\"Comoros\",\"Chad\",\"Congo, Dem. Rep.\",\"Congo, Rep.\",\"Cote d'Ivoire\",\"Djibouti\",\"Egypt, Arab Rep.\",\"Equatorial Guinea\",\"Eritrea\",\"Eswatini\",\"Ethiopia\",\"Gabon\",\"Gambia, The\",\"Ghana\",\"Guinea\",\"Guinea-Bissau\",\"Kenya\",\"Lesotho\",\"Liberia\",\"Libya\",\"Madagascar\",\"Malawi\",\"Mali\",\"Mauritania\",\"Mauritius\",\"Morocco\",\"Mozambique\",\"Namibia\",\"Niger\",\"Nigeria\",\"Rwanda\",\"Sao Tome and Principe\",\"Senegal\",\"Seychelles\",\"Sierra Leone\",\"Somalia\",\"South Africa\",\"South Sudan\",\"Sudan\",\"Tanzania\",\"Togo\",\"Tunisia\",\"Uganda\",\"Zambia\",\"Zimbabwe\"],\"locationmode\":\"ISO-3\",\"locations\":[\"DZA\",\"AGO\",\"BEN\",\"BWA\",\"BFA\",\"BDI\",\"CPV\",\"CMR\",\"CAF\",\"COM\",\"TCD\",\"COD\",\"COG\",\"CIV\",\"DJI\",\"EGY\",\"GNQ\",\"ERI\",\"SWZ\",\"ETH\",\"GAB\",\"GMB\",\"GHA\",\"GIN\",\"GNB\",\"KEN\",\"LSO\",\"LBR\",\"LBY\",\"MDG\",\"MWI\",\"MLI\",\"MRT\",\"MUS\",\"MAR\",\"MOZ\",\"NAM\",\"NER\",\"NGA\",\"RWA\",\"STP\",\"SEN\",\"SYC\",\"SLE\",\"SOM\",\"ZAF\",\"SSD\",\"SDN\",\"TZA\",\"TGO\",\"TUN\",\"UGA\",\"ZMB\",\"ZWE\"],\"name\":\"\",\"z\":[0.0,241.19,453.17,1.93,533.39,222.77,0.28,358.72,461.79,59.21,215.1,471.43,249.16,510.08,3.74,0.0,378.24,6.78,0.2,90.66,118.87,306.84,333.72,370.17,89.02,67.68,null,383.33,0.0,23.47,392.0,379.06,61.14,null,0.0,399.79,7.46,409.1,424.66,72.03,36.57,86.42,null,413.85,63.1,1.57,267.14,35.05,171.0,379.9,null,410.46,176.72,74.73],\"type\":\"choropleth\"}],\"name\":\"2008\"},{\"data\":[{\"coloraxis\":\"coloraxis\",\"geo\":\"geo\",\"hovertemplate\":\"<b>%{hovertext}</b><br><br>Year=2009<br>CountryCode=%{location}<br>IncidenceOfMalaria=%{z}<extra></extra>\",\"hovertext\":[\"Algeria\",\"Angola\",\"Benin\",\"Botswana\",\"Burkina Faso\",\"Burundi\",\"Cabo Verde\",\"Cameroon\",\"Central African Republic\",\"Chad\",\"Comoros\",\"Congo, Dem. Rep.\",\"Congo, Rep.\",\"Cote d'Ivoire\",\"Djibouti\",\"Egypt, Arab Rep.\",\"Equatorial Guinea\",\"Eritrea\",\"Eswatini\",\"Ethiopia\",\"Gabon\",\"Gambia, The\",\"Ghana\",\"Guinea\",\"Guinea-Bissau\",\"Kenya\",\"Lesotho\",\"Liberia\",\"Libya\",\"Madagascar\",\"Malawi\",\"Mali\",\"Mauritania\",\"Mauritius\",\"Morocco\",\"Mozambique\",\"Namibia\",\"Niger\",\"Nigeria\",\"Rwanda\",\"Sao Tome and Principe\",\"Senegal\",\"Seychelles\",\"Sierra Leone\",\"Somalia\",\"South Africa\",\"South Sudan\",\"Sudan\",\"Tanzania\",\"Togo\",\"Tunisia\",\"Uganda\",\"Zambia\",\"Zimbabwe\"],\"locationmode\":\"ISO-3\",\"locations\":[\"DZA\",\"AGO\",\"BEN\",\"BWA\",\"BFA\",\"BDI\",\"CPV\",\"CMR\",\"CAF\",\"TCD\",\"COM\",\"COD\",\"COG\",\"CIV\",\"DJI\",\"EGY\",\"GNQ\",\"ERI\",\"SWZ\",\"ETH\",\"GAB\",\"GMB\",\"GHA\",\"GIN\",\"GNB\",\"KEN\",\"LSO\",\"LBR\",\"LBY\",\"MDG\",\"MWI\",\"MLI\",\"MRT\",\"MUS\",\"MAR\",\"MOZ\",\"NAM\",\"NER\",\"NGA\",\"RWA\",\"STP\",\"SEN\",\"SYC\",\"SLE\",\"SOM\",\"ZAF\",\"SSD\",\"SDN\",\"TZA\",\"TGO\",\"TUN\",\"UGA\",\"ZMB\",\"ZWE\"],\"name\":\"\",\"z\":[0.0,204.35,417.96,2.1,552.03,220.65,0.51,322.98,448.45,222.91,57.81,452.18,226.32,494.48,4.33,0.0,351.29,8.86,0.36,123.35,145.95,297.98,351.39,398.14,113.8,67.94,null,368.81,0.0,42.92,394.29,374.56,31.64,null,0.0,402.3,3.36,419.1,416.59,158.16,35.15,57.12,null,442.15,38.44,1.2,255.07,32.29,157.11,326.88,null,433.79,172.0,90.5],\"type\":\"choropleth\"}],\"name\":\"2009\"},{\"data\":[{\"coloraxis\":\"coloraxis\",\"geo\":\"geo\",\"hovertemplate\":\"<b>%{hovertext}</b><br><br>Year=2010<br>CountryCode=%{location}<br>IncidenceOfMalaria=%{z}<extra></extra>\",\"hovertext\":[\"Algeria\",\"Angola\",\"Benin\",\"Botswana\",\"Burkina Faso\",\"Burundi\",\"Cabo Verde\",\"Cameroon\",\"Central African Republic\",\"Chad\",\"Comoros\",\"Congo, Dem. Rep.\",\"Congo, Rep.\",\"Cote d'Ivoire\",\"Djibouti\",\"Egypt, Arab Rep.\",\"Equatorial Guinea\",\"Eritrea\",\"Eswatini\",\"Ethiopia\",\"Gabon\",\"Gambia, The\",\"Ghana\",\"Guinea\",\"Guinea-Bissau\",\"Kenya\",\"Lesotho\",\"Liberia\",\"Libya\",\"Madagascar\",\"Malawi\",\"Mali\",\"Mauritania\",\"Mauritius\",\"Morocco\",\"Mozambique\",\"Namibia\",\"Niger\",\"Nigeria\",\"Rwanda\",\"Sao Tome and Principe\",\"Senegal\",\"Seychelles\",\"Sierra Leone\",\"Somalia\",\"South Africa\",\"South Sudan\",\"Sudan\",\"Tanzania\",\"Togo\",\"Tunisia\",\"Uganda\",\"Zambia\",\"Zimbabwe\"],\"locationmode\":\"ISO-3\",\"locations\":[\"DZA\",\"AGO\",\"BEN\",\"BWA\",\"BFA\",\"BDI\",\"CPV\",\"CMR\",\"CAF\",\"TCD\",\"COM\",\"COD\",\"COG\",\"CIV\",\"DJI\",\"EGY\",\"GNQ\",\"ERI\",\"SWZ\",\"ETH\",\"GAB\",\"GMB\",\"GHA\",\"GIN\",\"GNB\",\"KEN\",\"LSO\",\"LBR\",\"LBY\",\"MDG\",\"MWI\",\"MLI\",\"MRT\",\"MUS\",\"MAR\",\"MOZ\",\"NAM\",\"NER\",\"NGA\",\"RWA\",\"STP\",\"SEN\",\"SYC\",\"SLE\",\"SOM\",\"ZAF\",\"SSD\",\"SDN\",\"TZA\",\"TGO\",\"TUN\",\"UGA\",\"ZMB\",\"ZWE\"],\"name\":\"\",\"z\":[0.0,185.52,387.76,1.69,551.24,210.2,0.37,295.53,434.51,225.94,52.98,428.31,220.92,469.27,1.6,0.0,339.99,26.33,0.9,128.4,177.82,289.27,364.15,414.66,134.37,67.71,null,345.77,0.0,42.24,386.02,383.6,38.83,null,0.0,398.41,1.54,425.64,398.9,126.31,15.19,59.28,null,458.74,29.59,1.57,243.97,30.66,145.46,308.88,null,417.35,177.02,109.43],\"type\":\"choropleth\"}],\"name\":\"2010\"},{\"data\":[{\"coloraxis\":\"coloraxis\",\"geo\":\"geo\",\"hovertemplate\":\"<b>%{hovertext}</b><br><br>Year=2011<br>CountryCode=%{location}<br>IncidenceOfMalaria=%{z}<extra></extra>\",\"hovertext\":[\"Algeria\",\"Angola\",\"Benin\",\"Botswana\",\"Burkina Faso\",\"Burundi\",\"Cabo Verde\",\"Cameroon\",\"Central African Republic\",\"Chad\",\"Comoros\",\"Congo, Dem. Rep.\",\"Congo, Rep.\",\"Cote d'Ivoire\",\"Djibouti\",\"Egypt, Arab Rep.\",\"Equatorial Guinea\",\"Eritrea\",\"Eswatini\",\"Ethiopia\",\"Gabon\",\"Gambia, The\",\"Ghana\",\"Guinea\",\"Guinea-Bissau\",\"Kenya\",\"Lesotho\",\"Liberia\",\"Libya\",\"Madagascar\",\"Malawi\",\"Mali\",\"Mauritania\",\"Mauritius\",\"Morocco\",\"Mozambique\",\"Namibia\",\"Niger\",\"Nigeria\",\"Rwanda\",\"Sao Tome and Principe\",\"Senegal\",\"Seychelles\",\"Sierra Leone\",\"Somalia\",\"South Africa\",\"South Sudan\",\"Sudan\",\"Tanzania\",\"Togo\",\"Tunisia\",\"Uganda\",\"Zambia\",\"Zimbabwe\"],\"locationmode\":\"ISO-3\",\"locations\":[\"DZA\",\"AGO\",\"BEN\",\"BWA\",\"BFA\",\"BDI\",\"CPV\",\"CMR\",\"CAF\",\"TCD\",\"COM\",\"COD\",\"COG\",\"CIV\",\"DJI\",\"EGY\",\"GNQ\",\"ERI\",\"SWZ\",\"ETH\",\"GAB\",\"GMB\",\"GHA\",\"GIN\",\"GNB\",\"KEN\",\"LSO\",\"LBR\",\"LBY\",\"MDG\",\"MWI\",\"MLI\",\"MRT\",\"MUS\",\"MAR\",\"MOZ\",\"NAM\",\"NER\",\"NGA\",\"RWA\",\"STP\",\"SEN\",\"SYC\",\"SLE\",\"SOM\",\"ZAF\",\"SSD\",\"SDN\",\"TZA\",\"TGO\",\"TUN\",\"UGA\",\"ZMB\",\"ZWE\"],\"name\":\"\",\"z\":[0.0,175.99,370.11,0.51,539.56,184.15,0.05,265.1,419.33,210.48,35.18,399.59,224.38,442.11,3.42,0.0,342.4,23.86,1.83,116.13,212.72,257.26,379.52,426.9,140.55,67.86,null,330.41,0.0,36.55,362.78,404.73,47.58,null,0.0,389.92,2.13,427.88,372.56,39.29,45.75,49.91,null,453.65,24.35,1.9,235.87,29.97,132.48,313.4,null,385.7,186.7,70.68],\"type\":\"choropleth\"}],\"name\":\"2011\"},{\"data\":[{\"coloraxis\":\"coloraxis\",\"geo\":\"geo\",\"hovertemplate\":\"<b>%{hovertext}</b><br><br>Year=2012<br>CountryCode=%{location}<br>IncidenceOfMalaria=%{z}<extra></extra>\",\"hovertext\":[\"Algeria\",\"Angola\",\"Benin\",\"Botswana\",\"Burkina Faso\",\"Burundi\",\"Cabo Verde\",\"Cameroon\",\"Central African Republic\",\"Chad\",\"Comoros\",\"Congo, Dem. Rep.\",\"Congo, Rep.\",\"Cote d'Ivoire\",\"Djibouti\",\"Egypt, Arab Rep.\",\"Equatorial Guinea\",\"Eritrea\",\"Eswatini\",\"Ethiopia\",\"Gabon\",\"Gambia, The\",\"Ghana\",\"Guinea\",\"Guinea-Bissau\",\"Kenya\",\"Lesotho\",\"Liberia\",\"Libya\",\"Madagascar\",\"Malawi\",\"Mali\",\"Mauritania\",\"Mauritius\",\"Morocco\",\"Mozambique\",\"Namibia\",\"Niger\",\"Nigeria\",\"Rwanda\",\"Sao Tome and Principe\",\"Senegal\",\"Seychelles\",\"Sierra Leone\",\"Somalia\",\"South Africa\",\"South Sudan\",\"Sudan\",\"Tanzania\",\"Togo\",\"Tunisia\",\"Uganda\",\"Zambia\",\"Zimbabwe\"],\"locationmode\":\"ISO-3\",\"locations\":[\"DZA\",\"AGO\",\"BEN\",\"BWA\",\"BFA\",\"BDI\",\"CPV\",\"CMR\",\"CAF\",\"TCD\",\"COM\",\"COD\",\"COG\",\"CIV\",\"DJI\",\"EGY\",\"GNQ\",\"ERI\",\"SWZ\",\"ETH\",\"GAB\",\"GMB\",\"GHA\",\"GIN\",\"GNB\",\"KEN\",\"LSO\",\"LBR\",\"LBY\",\"MDG\",\"MWI\",\"MLI\",\"MRT\",\"MUS\",\"MAR\",\"MOZ\",\"NAM\",\"NER\",\"NGA\",\"RWA\",\"STP\",\"SEN\",\"SYC\",\"SLE\",\"SOM\",\"ZAF\",\"SSD\",\"SDN\",\"TZA\",\"TGO\",\"TUN\",\"UGA\",\"ZMB\",\"ZWE\"],\"name\":\"\",\"z\":[0.03,174.43,378.03,0.22,527.54,153.93,0.01,245.13,413.09,195.34,68.85,363.0,224.63,396.28,3.31,0.0,357.75,16.15,1.86,116.19,245.53,274.82,374.29,427.8,128.75,73.36,null,307.9,0.0,71.36,314.02,435.65,28.42,null,0.0,381.78,3.36,430.51,347.74,71.46,56.8,56.92,null,447.47,24.45,1.25,232.68,30.16,116.25,349.7,null,331.77,203.08,57.22],\"type\":\"choropleth\"}],\"name\":\"2012\"},{\"data\":[{\"coloraxis\":\"coloraxis\",\"geo\":\"geo\",\"hovertemplate\":\"<b>%{hovertext}</b><br><br>Year=2013<br>CountryCode=%{location}<br>IncidenceOfMalaria=%{z}<extra></extra>\",\"hovertext\":[\"Algeria\",\"Angola\",\"Benin\",\"Botswana\",\"Burkina Faso\",\"Burundi\",\"Cabo Verde\",\"Cameroon\",\"Central African Republic\",\"Chad\",\"Comoros\",\"Congo, Dem. Rep.\",\"Congo, Rep.\",\"Cote d'Ivoire\",\"Djibouti\",\"Egypt, Arab Rep.\",\"Equatorial Guinea\",\"Eritrea\",\"Eswatini\",\"Ethiopia\",\"Gabon\",\"Gambia, The\",\"Ghana\",\"Guinea\",\"Guinea-Bissau\",\"Kenya\",\"Lesotho\",\"Liberia\",\"Libya\",\"Madagascar\",\"Malawi\",\"Mali\",\"Mauritania\",\"Mauritius\",\"Morocco\",\"Mozambique\",\"Namibia\",\"Niger\",\"Nigeria\",\"Rwanda\",\"Sao Tome and Principe\",\"Senegal\",\"Seychelles\",\"Sierra Leone\",\"Somalia\",\"South Africa\",\"South Sudan\",\"Sudan\",\"Tanzania\",\"Togo\",\"Tunisia\",\"Uganda\",\"Zambia\",\"Zimbabwe\"],\"locationmode\":\"ISO-3\",\"locations\":[\"DZA\",\"AGO\",\"BEN\",\"BWA\",\"BFA\",\"BDI\",\"CPV\",\"CMR\",\"CAF\",\"TCD\",\"COM\",\"COD\",\"COG\",\"CIV\",\"DJI\",\"EGY\",\"GNQ\",\"ERI\",\"SWZ\",\"ETH\",\"GAB\",\"GMB\",\"GHA\",\"GIN\",\"GNB\",\"KEN\",\"LSO\",\"LBR\",\"LBY\",\"MDG\",\"MWI\",\"MLI\",\"MRT\",\"MUS\",\"MAR\",\"MOZ\",\"NAM\",\"NER\",\"NGA\",\"RWA\",\"STP\",\"SEN\",\"SYC\",\"SLE\",\"SOM\",\"ZAF\",\"SSD\",\"SDN\",\"TZA\",\"TGO\",\"TUN\",\"UGA\",\"ZMB\",\"ZWE\"],\"name\":\"\",\"z\":[0.0,180.9,395.0,0.53,487.52,140.59,0.17,243.04,406.82,179.35,71.69,327.62,231.03,338.87,2.54,0.0,365.75,15.03,3.16,111.6,272.83,236.99,349.28,408.08,113.39,82.48,null,317.28,0.0,65.21,267.86,452.82,33.22,null,0.0,376.98,4.55,420.49,328.65,121.45,48.12,67.9,null,432.7,28.05,1.61,234.38,31.45,111.78,385.39,null,254.24,225.77,81.95],\"type\":\"choropleth\"}],\"name\":\"2013\"},{\"data\":[{\"coloraxis\":\"coloraxis\",\"geo\":\"geo\",\"hovertemplate\":\"<b>%{hovertext}</b><br><br>Year=2014<br>CountryCode=%{location}<br>IncidenceOfMalaria=%{z}<extra></extra>\",\"hovertext\":[\"Algeria\",\"Angola\",\"Benin\",\"Botswana\",\"Burkina Faso\",\"Burundi\",\"Cabo Verde\",\"Cameroon\",\"Central African Republic\",\"Chad\",\"Comoros\",\"Congo, Dem. Rep.\",\"Congo, Rep.\",\"Cote d'Ivoire\",\"Djibouti\",\"Egypt, Arab Rep.\",\"Equatorial Guinea\",\"Eritrea\",\"Eswatini\",\"Ethiopia\",\"Gabon\",\"Gambia, The\",\"Ghana\",\"Guinea\",\"Guinea-Bissau\",\"Kenya\",\"Lesotho\",\"Liberia\",\"Libya\",\"Madagascar\",\"Malawi\",\"Mali\",\"Mauritania\",\"Mauritius\",\"Morocco\",\"Mozambique\",\"Namibia\",\"Niger\",\"Nigeria\",\"Rwanda\",\"Sao Tome and Principe\",\"Senegal\",\"Seychelles\",\"Sierra Leone\",\"Somalia\",\"South Africa\",\"South Sudan\",\"Sudan\",\"Tanzania\",\"Togo\",\"Tunisia\",\"Uganda\",\"Zambia\",\"Zimbabwe\"],\"locationmode\":\"ISO-3\",\"locations\":[\"DZA\",\"AGO\",\"BEN\",\"BWA\",\"BFA\",\"BDI\",\"CPV\",\"CMR\",\"CAF\",\"TCD\",\"COM\",\"COD\",\"COG\",\"CIV\",\"DJI\",\"EGY\",\"GNQ\",\"ERI\",\"SWZ\",\"ETH\",\"GAB\",\"GMB\",\"GHA\",\"GIN\",\"GNB\",\"KEN\",\"LSO\",\"LBR\",\"LBY\",\"MDG\",\"MWI\",\"MLI\",\"MRT\",\"MUS\",\"MAR\",\"MOZ\",\"NAM\",\"NER\",\"NGA\",\"RWA\",\"STP\",\"SEN\",\"SYC\",\"SLE\",\"SOM\",\"ZAF\",\"SSD\",\"SDN\",\"TZA\",\"TGO\",\"TUN\",\"UGA\",\"ZMB\",\"ZWE\"],\"name\":\"\",\"z\":[0.0,187.94,399.24,1.5,436.06,141.51,0.19,244.08,393.04,170.27,2.9,308.39,231.85,315.07,14.01,0.0,360.95,33.12,2.32,57.1,285.74,142.02,315.76,381.09,93.9,83.87,null,337.57,0.0,45.78,237.0,441.01,49.2,null,0.0,364.83,14.49,400.25,314.4,219.81,8.96,39.51,null,409.31,32.1,2.15,236.14,33.38,118.94,384.68,null,220.62,222.98,101.89],\"type\":\"choropleth\"}],\"name\":\"2014\"},{\"data\":[{\"coloraxis\":\"coloraxis\",\"geo\":\"geo\",\"hovertemplate\":\"<b>%{hovertext}</b><br><br>Year=2015<br>CountryCode=%{location}<br>IncidenceOfMalaria=%{z}<extra></extra>\",\"hovertext\":[\"Algeria\",\"Angola\",\"Benin\",\"Botswana\",\"Burkina Faso\",\"Burundi\",\"Cabo Verde\",\"Cameroon\",\"Central African Republic\",\"Chad\",\"Comoros\",\"Congo, Dem. Rep.\",\"Congo, Rep.\",\"Cote d'Ivoire\",\"Djibouti\",\"Egypt, Arab Rep.\",\"Equatorial Guinea\",\"Eritrea\",\"Eswatini\",\"Ethiopia\",\"Gabon\",\"Gambia, The\",\"Ghana\",\"Guinea\",\"Guinea-Bissau\",\"Kenya\",\"Lesotho\",\"Liberia\",\"Libya\",\"Madagascar\",\"Malawi\",\"Mali\",\"Mauritania\",\"Mauritius\",\"Morocco\",\"Mozambique\",\"Namibia\",\"Niger\",\"Nigeria\",\"Rwanda\",\"Sao Tome and Principe\",\"Senegal\",\"Seychelles\",\"Sierra Leone\",\"Somalia\",\"South Africa\",\"South Sudan\",\"Sudan\",\"Tanzania\",\"Togo\",\"Tunisia\",\"Uganda\",\"Zambia\",\"Zimbabwe\"],\"locationmode\":\"ISO-3\",\"locations\":[\"DZA\",\"AGO\",\"BEN\",\"BWA\",\"BFA\",\"BDI\",\"CPV\",\"CMR\",\"CAF\",\"TCD\",\"COM\",\"COD\",\"COG\",\"CIV\",\"DJI\",\"EGY\",\"GNQ\",\"ERI\",\"SWZ\",\"ETH\",\"GAB\",\"GMB\",\"GHA\",\"GIN\",\"GNB\",\"KEN\",\"LSO\",\"LBR\",\"LBY\",\"MDG\",\"MWI\",\"MLI\",\"MRT\",\"MUS\",\"MAR\",\"MOZ\",\"NAM\",\"NER\",\"NGA\",\"RWA\",\"STP\",\"SEN\",\"SYC\",\"SLE\",\"SOM\",\"ZAF\",\"SSD\",\"SDN\",\"TZA\",\"TGO\",\"TUN\",\"UGA\",\"ZMB\",\"ZWE\"],\"name\":\"\",\"z\":[0.0,199.99,411.82,0.37,400.09,165.5,0.05,254.5,379.91,167.28,1.67,308.83,226.71,320.04,13.82,0.0,339.48,19.2,0.51,52.77,284.44,195.04,277.19,356.64,79.77,72.17,null,346.97,0.0,97.32,217.04,391.83,61.61,null,0.0,355.88,10.88,369.83,296.08,341.96,10.32,69.8,null,403.72,37.27,0.21,240.36,35.88,121.74,364.31,null,236.11,202.55,97.65],\"type\":\"choropleth\"}],\"name\":\"2015\"},{\"data\":[{\"coloraxis\":\"coloraxis\",\"geo\":\"geo\",\"hovertemplate\":\"<b>%{hovertext}</b><br><br>Year=2016<br>CountryCode=%{location}<br>IncidenceOfMalaria=%{z}<extra></extra>\",\"hovertext\":[\"Algeria\",\"Angola\",\"Benin\",\"Botswana\",\"Burkina Faso\",\"Burundi\",\"Cabo Verde\",\"Cameroon\",\"Central African Republic\",\"Chad\",\"Comoros\",\"Congo, Dem. Rep.\",\"Congo, Rep.\",\"Cote d'Ivoire\",\"Djibouti\",\"Egypt, Arab Rep.\",\"Equatorial Guinea\",\"Eritrea\",\"Eswatini\",\"Ethiopia\",\"Gabon\",\"Gambia, The\",\"Ghana\",\"Guinea\",\"Guinea-Bissau\",\"Kenya\",\"Lesotho\",\"Liberia\",\"Libya\",\"Madagascar\",\"Malawi\",\"Mali\",\"Mauritania\",\"Mauritius\",\"Morocco\",\"Mozambique\",\"Namibia\",\"Niger\",\"Nigeria\",\"Rwanda\",\"Sao Tome and Principe\",\"Senegal\",\"Seychelles\",\"Sierra Leone\",\"Somalia\",\"South Africa\",\"South Sudan\",\"Sudan\",\"Tanzania\",\"Togo\",\"Tunisia\",\"Uganda\",\"Zambia\",\"Zimbabwe\"],\"locationmode\":\"ISO-3\",\"locations\":[\"DZA\",\"AGO\",\"BEN\",\"BWA\",\"BFA\",\"BDI\",\"CPV\",\"CMR\",\"CAF\",\"TCD\",\"COM\",\"COD\",\"COG\",\"CIV\",\"DJI\",\"EGY\",\"GNQ\",\"ERI\",\"SWZ\",\"ETH\",\"GAB\",\"GMB\",\"GHA\",\"GIN\",\"GNB\",\"KEN\",\"LSO\",\"LBR\",\"LBY\",\"MDG\",\"MWI\",\"MLI\",\"MRT\",\"MUS\",\"MAR\",\"MOZ\",\"NAM\",\"NER\",\"NGA\",\"RWA\",\"STP\",\"SEN\",\"SYC\",\"SLE\",\"SOM\",\"ZAF\",\"SSD\",\"SDN\",\"TZA\",\"TGO\",\"TUN\",\"UGA\",\"ZMB\",\"ZWE\"],\"name\":\"\",\"z\":[0.0,219.99,421.58,0.81,401.73,225.74,0.35,264.31,362.02,169.93,1.44,322.77,233.38,354.66,19.81,0.0,306.97,25.64,1.12,41.41,270.67,116.53,236.0,331.47,71.35,70.38,null,386.3,0.0,56.58,210.66,384.22,71.5,null,0.0,344.82,22.12,358.74,281.38,585.54,11.01,45.66,null,391.33,37.26,0.77,244.55,41.73,123.57,324.86,null,304.41,181.39,65.78],\"type\":\"choropleth\"}],\"name\":\"2016\"},{\"data\":[{\"coloraxis\":\"coloraxis\",\"geo\":\"geo\",\"hovertemplate\":\"<b>%{hovertext}</b><br><br>Year=2017<br>CountryCode=%{location}<br>IncidenceOfMalaria=%{z}<extra></extra>\",\"hovertext\":[\"Algeria\",\"Angola\",\"Benin\",\"Botswana\",\"Burkina Faso\",\"Burundi\",\"Cabo Verde\",\"Cameroon\",\"Central African Republic\",\"Chad\",\"Comoros\",\"Congo, Dem. Rep.\",\"Congo, Rep.\",\"Cote d'Ivoire\",\"Djibouti\",\"Egypt, Arab Rep.\",\"Equatorial Guinea\",\"Eritrea\",\"Eswatini\",\"Ethiopia\",\"Gabon\",\"Gambia, The\",\"Ghana\",\"Guinea\",\"Guinea-Bissau\",\"Kenya\",\"Lesotho\",\"Liberia\",\"Libya\",\"Madagascar\",\"Malawi\",\"Mali\",\"Mauritania\",\"Mauritius\",\"Morocco\",\"Mozambique\",\"Namibia\",\"Niger\",\"Nigeria\",\"Rwanda\",\"Sao Tome and Principe\",\"Senegal\",\"Seychelles\",\"Sierra Leone\",\"Somalia\",\"South Africa\",\"South Sudan\",\"Sudan\",\"Tanzania\",\"Togo\",\"Tunisia\",\"Uganda\",\"Zambia\",\"Zimbabwe\"],\"locationmode\":\"ISO-3\",\"locations\":[\"DZA\",\"AGO\",\"BEN\",\"BWA\",\"BFA\",\"BDI\",\"CPV\",\"CMR\",\"CAF\",\"TCD\",\"COM\",\"COD\",\"COG\",\"CIV\",\"DJI\",\"EGY\",\"GNQ\",\"ERI\",\"SWZ\",\"ETH\",\"GAB\",\"GMB\",\"GHA\",\"GIN\",\"GNB\",\"KEN\",\"LSO\",\"LBR\",\"LBY\",\"MDG\",\"MWI\",\"MLI\",\"MRT\",\"MUS\",\"MAR\",\"MOZ\",\"NAM\",\"NER\",\"NGA\",\"RWA\",\"STP\",\"SEN\",\"SYC\",\"SLE\",\"SOM\",\"ZAF\",\"SSD\",\"SDN\",\"TZA\",\"TGO\",\"TUN\",\"UGA\",\"ZMB\",\"ZWE\"],\"name\":\"\",\"z\":[0.0,228.91,399.56,2.05,399.94,250.27,3.03,262.23,347.33,172.3,3.97,329.13,240.64,362.36,20.72,0.0,285.72,33.97,2.3,36.74,254.24,53.02,212.56,311.53,78.33,70.1,null,401.11,0.0,75.67,216.26,386.78,55.49,null,0.0,326.4,46.75,356.57,283.06,538.34,10.81,52.35,null,364.13,37.13,3.95,245.8,46.75,123.96,278.2,null,336.76,160.05,108.55],\"type\":\"choropleth\"}],\"name\":\"2017\"}]);\n",
       "                        }).then(function(){\n",
       "                            \n",
       "var gd = document.getElementById('7c2583ce-b3ce-44c5-ac98-92439f60321f');\n",
       "var x = new MutationObserver(function (mutations, observer) {{\n",
       "        var display = window.getComputedStyle(gd).display;\n",
       "        if (!display || display === 'none') {{\n",
       "            console.log([gd, 'removed!']);\n",
       "            Plotly.purge(gd);\n",
       "            observer.disconnect();\n",
       "        }}\n",
       "}});\n",
       "\n",
       "// Listen for the removal of the full notebook cells\n",
       "var notebookContainer = gd.closest('#notebook-container');\n",
       "if (notebookContainer) {{\n",
       "    x.observe(notebookContainer, {childList: true});\n",
       "}}\n",
       "\n",
       "// Listen for the clearing of the current output cell\n",
       "var outputEl = gd.closest('.output');\n",
       "if (outputEl) {{\n",
       "    x.observe(outputEl, {childList: true});\n",
       "}}\n",
       "\n",
       "                        })                };                });            </script>        </div>"
      ]
     },
     "metadata": {},
     "output_type": "display_data"
    }
   ],
   "source": [
    "figg = px.choropleth(malaria_data,locations=\"CountryCode\",locationmode=\"ISO-3\",animation_frame='Year',\n",
    "                      title=\"Incidence of Malaria(per 1000 of population at risk) per country\",\n",
    "                    color=\"IncidenceOfMalaria\", \n",
    "                    hover_name=\"CountryName\", scope='africa',template ='presentation'\n",
    "                    )\n",
    "figg.show()"
   ]
  },
  {
   "cell_type": "markdown",
   "id": "3bead361",
   "metadata": {},
   "source": [
    "### Malaria cases reported by country"
   ]
  },
  {
   "cell_type": "code",
   "execution_count": 88,
   "id": "9099440e",
   "metadata": {},
   "outputs": [
    {
     "data": {
      "application/vnd.plotly.v1+json": {
       "config": {
        "plotlyServerURL": "https://plot.ly"
       },
       "data": [
        {
         "coloraxis": "coloraxis",
         "geo": "geo",
         "hovertemplate": "<b>%{hovertext}</b><br><br>Year=2007<br>CountryCode=%{location}<br>MalariaCasesReported=%{z}<extra></extra>",
         "hovertext": [
          "Algeria",
          "Angola",
          "Benin",
          "Botswana",
          "Burkina Faso",
          "Burundi",
          "Cabo Verde",
          "Cameroon",
          "Central African Republic",
          "Chad",
          "Comoros",
          "Congo, Dem. Rep.",
          "Congo, Rep.",
          "Cote d'Ivoire",
          "Djibouti",
          "Egypt, Arab Rep.",
          "Equatorial Guinea",
          "Eritrea",
          "Eswatini",
          "Ethiopia",
          "Gabon",
          "Gambia, The",
          "Ghana",
          "Guinea",
          "Guinea-Bissau",
          "Kenya",
          "Lesotho",
          "Liberia",
          "Libya",
          "Madagascar",
          "Malawi",
          "Mali",
          "Mauritania",
          "Mauritius",
          "Morocco",
          "Mozambique",
          "Namibia",
          "Niger",
          "Nigeria",
          "Rwanda",
          "Sao Tome and Principe",
          "Senegal",
          "Seychelles",
          "Sierra Leone",
          "Somalia",
          "South Africa",
          "South Sudan",
          "Sudan",
          "Tanzania",
          "Togo",
          "Tunisia",
          "Uganda",
          "Zambia",
          "Zimbabwe"
         ],
         "locationmode": "ISO-3",
         "locations": [
          "DZA",
          "AGO",
          "BEN",
          "BWA",
          "BFA",
          "BDI",
          "CPV",
          "CMR",
          "CAF",
          "TCD",
          "COM",
          "COD",
          "COG",
          "CIV",
          "DJI",
          "EGY",
          "GNQ",
          "ERI",
          "SWZ",
          "ETH",
          "GAB",
          "GMB",
          "GHA",
          "GIN",
          "GNB",
          "KEN",
          "LSO",
          "LBR",
          "LBY",
          "MDG",
          "MWI",
          "MLI",
          "MRT",
          "MUS",
          "MAR",
          "MOZ",
          "NAM",
          "NER",
          "NGA",
          "RWA",
          "STP",
          "SEN",
          "SYC",
          "SLE",
          "SOM",
          "ZAF",
          "SSD",
          "SDN",
          "TZA",
          "TGO",
          "TUN",
          "UGA",
          "ZMB",
          "ZWE"
         ],
         "name": "",
         "type": "choropleth",
         "z": [
          26,
          1533485,
          0,
          390,
          44246,
          1101644,
          18,
          0,
          0,
          48288,
          38913,
          740858,
          103213,
          0,
          2320,
          0,
          6287,
          15565,
          84,
          451816,
          45186,
          0,
          476484,
          44518,
          14284,
          0,
          null,
          492272,
          0,
          48497,
          0,
          0,
          0,
          null,
          0,
          141663,
          4242,
          268164,
          0,
          382686,
          2421,
          118332,
          null,
          0,
          16675,
          6327,
          0,
          686908,
          1845917,
          258716,
          null,
          1045378,
          0,
          116518
         ]
        }
       ],
       "frames": [
        {
         "data": [
          {
           "coloraxis": "coloraxis",
           "geo": "geo",
           "hovertemplate": "<b>%{hovertext}</b><br><br>Year=2007<br>CountryCode=%{location}<br>MalariaCasesReported=%{z}<extra></extra>",
           "hovertext": [
            "Algeria",
            "Angola",
            "Benin",
            "Botswana",
            "Burkina Faso",
            "Burundi",
            "Cabo Verde",
            "Cameroon",
            "Central African Republic",
            "Chad",
            "Comoros",
            "Congo, Dem. Rep.",
            "Congo, Rep.",
            "Cote d'Ivoire",
            "Djibouti",
            "Egypt, Arab Rep.",
            "Equatorial Guinea",
            "Eritrea",
            "Eswatini",
            "Ethiopia",
            "Gabon",
            "Gambia, The",
            "Ghana",
            "Guinea",
            "Guinea-Bissau",
            "Kenya",
            "Lesotho",
            "Liberia",
            "Libya",
            "Madagascar",
            "Malawi",
            "Mali",
            "Mauritania",
            "Mauritius",
            "Morocco",
            "Mozambique",
            "Namibia",
            "Niger",
            "Nigeria",
            "Rwanda",
            "Sao Tome and Principe",
            "Senegal",
            "Seychelles",
            "Sierra Leone",
            "Somalia",
            "South Africa",
            "South Sudan",
            "Sudan",
            "Tanzania",
            "Togo",
            "Tunisia",
            "Uganda",
            "Zambia",
            "Zimbabwe"
           ],
           "locationmode": "ISO-3",
           "locations": [
            "DZA",
            "AGO",
            "BEN",
            "BWA",
            "BFA",
            "BDI",
            "CPV",
            "CMR",
            "CAF",
            "TCD",
            "COM",
            "COD",
            "COG",
            "CIV",
            "DJI",
            "EGY",
            "GNQ",
            "ERI",
            "SWZ",
            "ETH",
            "GAB",
            "GMB",
            "GHA",
            "GIN",
            "GNB",
            "KEN",
            "LSO",
            "LBR",
            "LBY",
            "MDG",
            "MWI",
            "MLI",
            "MRT",
            "MUS",
            "MAR",
            "MOZ",
            "NAM",
            "NER",
            "NGA",
            "RWA",
            "STP",
            "SEN",
            "SYC",
            "SLE",
            "SOM",
            "ZAF",
            "SSD",
            "SDN",
            "TZA",
            "TGO",
            "TUN",
            "UGA",
            "ZMB",
            "ZWE"
           ],
           "name": "",
           "type": "choropleth",
           "z": [
            26,
            1533485,
            0,
            390,
            44246,
            1101644,
            18,
            0,
            0,
            48288,
            38913,
            740858,
            103213,
            0,
            2320,
            0,
            6287,
            15565,
            84,
            451816,
            45186,
            0,
            476484,
            44518,
            14284,
            0,
            null,
            492272,
            0,
            48497,
            0,
            0,
            0,
            null,
            0,
            141663,
            4242,
            268164,
            0,
            382686,
            2421,
            118332,
            null,
            0,
            16675,
            6327,
            0,
            686908,
            1845917,
            258716,
            null,
            1045378,
            0,
            116518
           ]
          }
         ],
         "name": "2007"
        },
        {
         "data": [
          {
           "coloraxis": "coloraxis",
           "geo": "geo",
           "hovertemplate": "<b>%{hovertext}</b><br><br>Year=2008<br>CountryCode=%{location}<br>MalariaCasesReported=%{z}<extra></extra>",
           "hovertext": [
            "Algeria",
            "Angola",
            "Benin",
            "Botswana",
            "Burkina Faso",
            "Burundi",
            "Cabo Verde",
            "Cameroon",
            "Central African Republic",
            "Comoros",
            "Chad",
            "Congo, Dem. Rep.",
            "Congo, Rep.",
            "Cote d'Ivoire",
            "Djibouti",
            "Egypt, Arab Rep.",
            "Equatorial Guinea",
            "Eritrea",
            "Eswatini",
            "Ethiopia",
            "Gabon",
            "Gambia, The",
            "Ghana",
            "Guinea",
            "Guinea-Bissau",
            "Kenya",
            "Lesotho",
            "Liberia",
            "Libya",
            "Madagascar",
            "Malawi",
            "Mali",
            "Mauritania",
            "Mauritius",
            "Morocco",
            "Mozambique",
            "Namibia",
            "Niger",
            "Nigeria",
            "Rwanda",
            "Sao Tome and Principe",
            "Senegal",
            "Seychelles",
            "Sierra Leone",
            "Somalia",
            "South Africa",
            "South Sudan",
            "Sudan",
            "Tanzania",
            "Togo",
            "Tunisia",
            "Uganda",
            "Zambia",
            "Zimbabwe"
           ],
           "locationmode": "ISO-3",
           "locations": [
            "DZA",
            "AGO",
            "BEN",
            "BWA",
            "BFA",
            "BDI",
            "CPV",
            "CMR",
            "CAF",
            "COM",
            "TCD",
            "COD",
            "COG",
            "CIV",
            "DJI",
            "EGY",
            "GNQ",
            "ERI",
            "SWZ",
            "ETH",
            "GAB",
            "GMB",
            "GHA",
            "GIN",
            "GNB",
            "KEN",
            "LSO",
            "LBR",
            "LBY",
            "MDG",
            "MWI",
            "MLI",
            "MRT",
            "MUS",
            "MAR",
            "MOZ",
            "NAM",
            "NER",
            "NGA",
            "RWA",
            "STP",
            "SEN",
            "SYC",
            "SLE",
            "SOM",
            "ZAF",
            "SSD",
            "SDN",
            "TZA",
            "TGO",
            "TUN",
            "UGA",
            "ZMB",
            "ZWE"
           ],
           "name": "",
           "type": "choropleth",
           "z": [
            3,
            1377992,
            0,
            927,
            36514,
            876741,
            35,
            0,
            0,
            38917,
            47757,
            2270,
            117291,
            3527,
            2289,
            0,
            9503,
            8764,
            58,
            458561,
            40701,
            39164,
            1094483,
            33405,
            11299,
            839903,
            null,
            606952,
            0,
            93234,
            0,
            0,
            302,
            null,
            0,
            120259,
            1092,
            682685,
            143079,
            316242,
            6258,
            241926,
            null,
            176356,
            36905,
            7796,
            52011,
            569296,
            4508,
            397283,
            null,
            979298,
            0,
            32788
           ]
          }
         ],
         "name": "2008"
        },
        {
         "data": [
          {
           "coloraxis": "coloraxis",
           "geo": "geo",
           "hovertemplate": "<b>%{hovertext}</b><br><br>Year=2009<br>CountryCode=%{location}<br>MalariaCasesReported=%{z}<extra></extra>",
           "hovertext": [
            "Algeria",
            "Angola",
            "Benin",
            "Botswana",
            "Burkina Faso",
            "Burundi",
            "Cabo Verde",
            "Cameroon",
            "Central African Republic",
            "Chad",
            "Comoros",
            "Congo, Dem. Rep.",
            "Congo, Rep.",
            "Cote d'Ivoire",
            "Djibouti",
            "Egypt, Arab Rep.",
            "Equatorial Guinea",
            "Eritrea",
            "Eswatini",
            "Ethiopia",
            "Gabon",
            "Gambia, The",
            "Ghana",
            "Guinea",
            "Guinea-Bissau",
            "Kenya",
            "Lesotho",
            "Liberia",
            "Libya",
            "Madagascar",
            "Malawi",
            "Mali",
            "Mauritania",
            "Mauritius",
            "Morocco",
            "Mozambique",
            "Namibia",
            "Niger",
            "Nigeria",
            "Rwanda",
            "Sao Tome and Principe",
            "Senegal",
            "Seychelles",
            "Sierra Leone",
            "Somalia",
            "South Africa",
            "South Sudan",
            "Sudan",
            "Tanzania",
            "Togo",
            "Tunisia",
            "Uganda",
            "Zambia",
            "Zimbabwe"
           ],
           "locationmode": "ISO-3",
           "locations": [
            "DZA",
            "AGO",
            "BEN",
            "BWA",
            "BFA",
            "BDI",
            "CPV",
            "CMR",
            "CAF",
            "TCD",
            "COM",
            "COD",
            "COG",
            "CIV",
            "DJI",
            "EGY",
            "GNQ",
            "ERI",
            "SWZ",
            "ETH",
            "GAB",
            "GMB",
            "GHA",
            "GIN",
            "GNB",
            "KEN",
            "LSO",
            "LBR",
            "LBY",
            "MDG",
            "MWI",
            "MLI",
            "MRT",
            "MUS",
            "MAR",
            "MOZ",
            "NAM",
            "NER",
            "NGA",
            "RWA",
            "STP",
            "SEN",
            "SYC",
            "SLE",
            "SOM",
            "ZAF",
            "SSD",
            "SDN",
            "TZA",
            "TGO",
            "TUN",
            "UGA",
            "ZMB",
            "ZWE"
           ],
           "name": "",
           "type": "choropleth",
           "z": [
            0,
            1573422,
            889597,
            1024,
            182527,
            1185622,
            65,
            0,
            0,
            0,
            38920,
            1879694,
            92855,
            7388,
            2686,
            0,
            14184,
            11759,
            106,
            1144640,
            660,
            50378,
            1104370,
            35841,
            11757,
            0,
            null,
            839581,
            0,
            215110,
            0,
            0,
            940,
            null,
            0,
            93874,
            505,
            309675,
            479845,
            698745,
            6182,
            165933,
            null,
            646808,
            25202,
            6072,
            0,
            711462,
            211,
            571611,
            null,
            1301337,
            0,
            114028
           ]
          }
         ],
         "name": "2009"
        },
        {
         "data": [
          {
           "coloraxis": "coloraxis",
           "geo": "geo",
           "hovertemplate": "<b>%{hovertext}</b><br><br>Year=2010<br>CountryCode=%{location}<br>MalariaCasesReported=%{z}<extra></extra>",
           "hovertext": [
            "Algeria",
            "Angola",
            "Benin",
            "Botswana",
            "Burkina Faso",
            "Burundi",
            "Cabo Verde",
            "Cameroon",
            "Central African Republic",
            "Chad",
            "Comoros",
            "Congo, Dem. Rep.",
            "Congo, Rep.",
            "Cote d'Ivoire",
            "Djibouti",
            "Egypt, Arab Rep.",
            "Equatorial Guinea",
            "Eritrea",
            "Eswatini",
            "Ethiopia",
            "Gabon",
            "Gambia, The",
            "Ghana",
            "Guinea",
            "Guinea-Bissau",
            "Kenya",
            "Lesotho",
            "Liberia",
            "Libya",
            "Madagascar",
            "Malawi",
            "Mali",
            "Mauritania",
            "Mauritius",
            "Morocco",
            "Mozambique",
            "Namibia",
            "Niger",
            "Nigeria",
            "Rwanda",
            "Sao Tome and Principe",
            "Senegal",
            "Seychelles",
            "Sierra Leone",
            "Somalia",
            "South Africa",
            "South Sudan",
            "Sudan",
            "Tanzania",
            "Togo",
            "Tunisia",
            "Uganda",
            "Zambia",
            "Zimbabwe"
           ],
           "locationmode": "ISO-3",
           "locations": [
            "DZA",
            "AGO",
            "BEN",
            "BWA",
            "BFA",
            "BDI",
            "CPV",
            "CMR",
            "CAF",
            "TCD",
            "COM",
            "COD",
            "COG",
            "CIV",
            "DJI",
            "EGY",
            "GNQ",
            "ERI",
            "SWZ",
            "ETH",
            "GAB",
            "GMB",
            "GHA",
            "GIN",
            "GNB",
            "KEN",
            "LSO",
            "LBR",
            "LBY",
            "MDG",
            "MWI",
            "MLI",
            "MRT",
            "MUS",
            "MAR",
            "MOZ",
            "NAM",
            "NER",
            "NGA",
            "RWA",
            "STP",
            "SEN",
            "SYC",
            "SLE",
            "SOM",
            "ZAF",
            "SSD",
            "SDN",
            "TZA",
            "TGO",
            "TUN",
            "UGA",
            "ZMB",
            "ZWE"
           ],
           "name": "",
           "type": "choropleth",
           "z": [
            1,
            1682870,
            0,
            1046,
            804539,
            1763447,
            47,
            0,
            0,
            200448,
            36538,
            2417780,
            0,
            62726,
            1010,
            0,
            53813,
            35982,
            268,
            1158197,
            13936,
            116353,
            1071637,
            20936,
            50391,
            898531,
            null,
            922173,
            0,
            202450,
            0,
            239787,
            6367,
            null,
            0,
            1522577,
            556,
            642774,
            551187,
            669322,
            2740,
            330331,
            null,
            934028,
            24833,
            8060,
            900283,
            720557,
            1278998,
            1006702,
            null,
            1581160,
            0,
            249379
           ]
          }
         ],
         "name": "2010"
        },
        {
         "data": [
          {
           "coloraxis": "coloraxis",
           "geo": "geo",
           "hovertemplate": "<b>%{hovertext}</b><br><br>Year=2011<br>CountryCode=%{location}<br>MalariaCasesReported=%{z}<extra></extra>",
           "hovertext": [
            "Algeria",
            "Angola",
            "Benin",
            "Botswana",
            "Burkina Faso",
            "Burundi",
            "Cabo Verde",
            "Cameroon",
            "Central African Republic",
            "Chad",
            "Comoros",
            "Congo, Dem. Rep.",
            "Congo, Rep.",
            "Cote d'Ivoire",
            "Djibouti",
            "Egypt, Arab Rep.",
            "Equatorial Guinea",
            "Eritrea",
            "Eswatini",
            "Ethiopia",
            "Gabon",
            "Gambia, The",
            "Ghana",
            "Guinea",
            "Guinea-Bissau",
            "Kenya",
            "Lesotho",
            "Liberia",
            "Libya",
            "Madagascar",
            "Malawi",
            "Mali",
            "Mauritania",
            "Mauritius",
            "Morocco",
            "Mozambique",
            "Namibia",
            "Niger",
            "Nigeria",
            "Rwanda",
            "Sao Tome and Principe",
            "Senegal",
            "Seychelles",
            "Sierra Leone",
            "Somalia",
            "South Africa",
            "South Sudan",
            "Sudan",
            "Tanzania",
            "Togo",
            "Tunisia",
            "Uganda",
            "Zambia",
            "Zimbabwe"
           ],
           "locationmode": "ISO-3",
           "locations": [
            "DZA",
            "AGO",
            "BEN",
            "BWA",
            "BFA",
            "BDI",
            "CPV",
            "CMR",
            "CAF",
            "TCD",
            "COM",
            "COD",
            "COG",
            "CIV",
            "DJI",
            "EGY",
            "GNQ",
            "ERI",
            "SWZ",
            "ETH",
            "GAB",
            "GMB",
            "GHA",
            "GIN",
            "GNB",
            "KEN",
            "LSO",
            "LBR",
            "LBY",
            "MDG",
            "MWI",
            "MLI",
            "MRT",
            "MUS",
            "MAR",
            "MOZ",
            "NAM",
            "NER",
            "NGA",
            "RWA",
            "STP",
            "SEN",
            "SYC",
            "SLE",
            "SOM",
            "ZAF",
            "SSD",
            "SDN",
            "TZA",
            "TGO",
            "TUN",
            "UGA",
            "ZMB",
            "ZWE"
           ],
           "name": "",
           "type": "choropleth",
           "z": [
            1,
            1632282,
            68745,
            432,
            428113,
            1575237,
            7,
            33086,
            0,
            181126,
            24856,
            4561981,
            37744,
            29976,
            2189,
            0,
            22466,
            34848,
            549,
            1480306,
            0,
            268020,
            1041260,
            95574,
            71982,
            1002805,
            null,
            1921159,
            0,
            224498,
            304499,
            307035,
            5991,
            null,
            0,
            1756874,
            1860,
            838585,
            0,
            273293,
            8442,
            274119,
            null,
            638859,
            3351,
            9866,
            112024,
            506806,
            2150761,
            519450,
            null,
            231873,
            0,
            319935
           ]
          }
         ],
         "name": "2011"
        },
        {
         "data": [
          {
           "coloraxis": "coloraxis",
           "geo": "geo",
           "hovertemplate": "<b>%{hovertext}</b><br><br>Year=2012<br>CountryCode=%{location}<br>MalariaCasesReported=%{z}<extra></extra>",
           "hovertext": [
            "Algeria",
            "Angola",
            "Benin",
            "Botswana",
            "Burkina Faso",
            "Burundi",
            "Cabo Verde",
            "Cameroon",
            "Central African Republic",
            "Chad",
            "Comoros",
            "Congo, Dem. Rep.",
            "Congo, Rep.",
            "Cote d'Ivoire",
            "Djibouti",
            "Egypt, Arab Rep.",
            "Equatorial Guinea",
            "Eritrea",
            "Eswatini",
            "Ethiopia",
            "Gabon",
            "Gambia, The",
            "Ghana",
            "Guinea",
            "Guinea-Bissau",
            "Kenya",
            "Lesotho",
            "Liberia",
            "Libya",
            "Madagascar",
            "Malawi",
            "Mali",
            "Mauritania",
            "Mauritius",
            "Morocco",
            "Mozambique",
            "Namibia",
            "Niger",
            "Nigeria",
            "Rwanda",
            "Sao Tome and Principe",
            "Senegal",
            "Seychelles",
            "Sierra Leone",
            "Somalia",
            "South Africa",
            "South Sudan",
            "Sudan",
            "Tanzania",
            "Togo",
            "Tunisia",
            "Uganda",
            "Zambia",
            "Zimbabwe"
           ],
           "locationmode": "ISO-3",
           "locations": [
            "DZA",
            "AGO",
            "BEN",
            "BWA",
            "BFA",
            "BDI",
            "CPV",
            "CMR",
            "CAF",
            "TCD",
            "COM",
            "COD",
            "COG",
            "CIV",
            "DJI",
            "EGY",
            "GNQ",
            "ERI",
            "SWZ",
            "ETH",
            "GAB",
            "GMB",
            "GHA",
            "GIN",
            "GNB",
            "KEN",
            "LSO",
            "LBR",
            "LBY",
            "MDG",
            "MWI",
            "MLI",
            "MRT",
            "MUS",
            "MAR",
            "MOZ",
            "NAM",
            "NER",
            "NGA",
            "RWA",
            "STP",
            "SEN",
            "SYC",
            "SLE",
            "SOM",
            "ZAF",
            "SSD",
            "SDN",
            "TZA",
            "TGO",
            "TUN",
            "UGA",
            "ZMB",
            "ZWE"
           ],
           "name": "",
           "type": "choropleth",
           "z": [
            55,
            1496834,
            705839,
            193,
            3858046,
            2166690,
            1,
            66656,
            87566,
            7710,
            49840,
            4791598,
            120319,
            1140627,
            2153,
            0,
            15169,
            21815,
            562,
            1692578,
            19753,
            313469,
            3755166,
            340258,
            50381,
            1453471,
            null,
            1412629,
            0,
            402900,
            1564984,
            968136,
            9037,
            null,
            0,
            1853276,
            194,
            2329260,
            0,
            563852,
            10701,
            280241,
            null,
            1537322,
            35712,
            6621,
            225371,
            526931,
            1986955,
            909129,
            null,
            2662258,
            0,
            276963
           ]
          }
         ],
         "name": "2012"
        },
        {
         "data": [
          {
           "coloraxis": "coloraxis",
           "geo": "geo",
           "hovertemplate": "<b>%{hovertext}</b><br><br>Year=2013<br>CountryCode=%{location}<br>MalariaCasesReported=%{z}<extra></extra>",
           "hovertext": [
            "Algeria",
            "Angola",
            "Benin",
            "Botswana",
            "Burkina Faso",
            "Burundi",
            "Cabo Verde",
            "Cameroon",
            "Central African Republic",
            "Chad",
            "Comoros",
            "Congo, Dem. Rep.",
            "Congo, Rep.",
            "Cote d'Ivoire",
            "Djibouti",
            "Egypt, Arab Rep.",
            "Equatorial Guinea",
            "Eritrea",
            "Eswatini",
            "Ethiopia",
            "Gabon",
            "Gambia, The",
            "Ghana",
            "Guinea",
            "Guinea-Bissau",
            "Kenya",
            "Lesotho",
            "Liberia",
            "Libya",
            "Madagascar",
            "Malawi",
            "Mali",
            "Mauritania",
            "Mauritius",
            "Morocco",
            "Mozambique",
            "Namibia",
            "Niger",
            "Nigeria",
            "Rwanda",
            "Sao Tome and Principe",
            "Senegal",
            "Seychelles",
            "Sierra Leone",
            "Somalia",
            "South Africa",
            "South Sudan",
            "Sudan",
            "Tanzania",
            "Togo",
            "Tunisia",
            "Uganda",
            "Zambia",
            "Zimbabwe"
           ],
           "locationmode": "ISO-3",
           "locations": [
            "DZA",
            "AGO",
            "BEN",
            "BWA",
            "BFA",
            "BDI",
            "CPV",
            "CMR",
            "CAF",
            "TCD",
            "COM",
            "COD",
            "COG",
            "CIV",
            "DJI",
            "EGY",
            "GNQ",
            "ERI",
            "SWZ",
            "ETH",
            "GAB",
            "GMB",
            "GHA",
            "GIN",
            "GNB",
            "KEN",
            "LSO",
            "LBR",
            "LBY",
            "MDG",
            "MWI",
            "MLI",
            "MRT",
            "MUS",
            "MAR",
            "MOZ",
            "NAM",
            "NER",
            "NGA",
            "RWA",
            "STP",
            "SEN",
            "SYC",
            "SLE",
            "SOM",
            "ZAF",
            "SSD",
            "SDN",
            "TZA",
            "TGO",
            "TUN",
            "UGA",
            "ZMB",
            "ZWE"
           ],
           "name": "",
           "type": "choropleth",
           "z": [
            8,
            1999868,
            1090602,
            456,
            3769051,
            4178338,
            22,
            69232,
            163701,
            754565,
            53156,
            6719887,
            43232,
            2524326,
            1684,
            0,
            16405,
            21317,
            962,
            2645454,
            28982,
            242513,
            1639451,
            211257,
            54584,
            2375129,
            null,
            1244220,
            0,
            433450,
            1280892,
            1506940,
            13085,
            null,
            0,
            3282172,
            4911,
            2373591,
            0,
            1040557,
            9243,
            366687,
            null,
            1701958,
            8944,
            8645,
            262520,
            592383,
            1550250,
            965334,
            null,
            1502362,
            0,
            422633
           ]
          }
         ],
         "name": "2013"
        },
        {
         "data": [
          {
           "coloraxis": "coloraxis",
           "geo": "geo",
           "hovertemplate": "<b>%{hovertext}</b><br><br>Year=2014<br>CountryCode=%{location}<br>MalariaCasesReported=%{z}<extra></extra>",
           "hovertext": [
            "Algeria",
            "Angola",
            "Benin",
            "Botswana",
            "Burkina Faso",
            "Burundi",
            "Cabo Verde",
            "Cameroon",
            "Central African Republic",
            "Chad",
            "Comoros",
            "Congo, Dem. Rep.",
            "Congo, Rep.",
            "Cote d'Ivoire",
            "Djibouti",
            "Egypt, Arab Rep.",
            "Equatorial Guinea",
            "Eritrea",
            "Eswatini",
            "Ethiopia",
            "Gabon",
            "Gambia, The",
            "Ghana",
            "Guinea",
            "Guinea-Bissau",
            "Kenya",
            "Lesotho",
            "Liberia",
            "Libya",
            "Madagascar",
            "Malawi",
            "Mali",
            "Mauritania",
            "Mauritius",
            "Morocco",
            "Mozambique",
            "Namibia",
            "Niger",
            "Nigeria",
            "Rwanda",
            "Sao Tome and Principe",
            "Senegal",
            "Seychelles",
            "Sierra Leone",
            "Somalia",
            "South Africa",
            "South Sudan",
            "Sudan",
            "Tanzania",
            "Togo",
            "Tunisia",
            "Uganda",
            "Zambia",
            "Zimbabwe"
           ],
           "locationmode": "ISO-3",
           "locations": [
            "DZA",
            "AGO",
            "BEN",
            "BWA",
            "BFA",
            "BDI",
            "CPV",
            "CMR",
            "CAF",
            "TCD",
            "COM",
            "COD",
            "COG",
            "CIV",
            "DJI",
            "EGY",
            "GNQ",
            "ERI",
            "SWZ",
            "ETH",
            "GAB",
            "GMB",
            "GHA",
            "GIN",
            "GNB",
            "KEN",
            "LSO",
            "LBR",
            "LBY",
            "MDG",
            "MWI",
            "MLI",
            "MRT",
            "MUS",
            "MAR",
            "MOZ",
            "NAM",
            "NER",
            "NGA",
            "RWA",
            "STP",
            "SEN",
            "SYC",
            "SLE",
            "SOM",
            "ZAF",
            "SSD",
            "SDN",
            "TZA",
            "TGO",
            "TUN",
            "UGA",
            "ZMB",
            "ZWE"
           ],
           "name": "",
           "type": "choropleth",
           "z": [
            0,
            2298979,
            1130558,
            1346,
            5428655,
            4726299,
            26,
            0,
            295088,
            914032,
            2203,
            10288519,
            66323,
            3712831,
            9439,
            0,
            20417,
            50534,
            711,
            2118815,
            31900,
            168256,
            3415912,
            660207,
            93431,
            2851555,
            null,
            881224,
            0,
            468743,
            2905310,
            2220956,
            15835,
            null,
            0,
            7407175,
            15914,
            2010489,
            7826954,
            1719904,
            1754,
            268912,
            null,
            1374476,
            11001,
            11705,
            71377,
            1068506,
            680442,
            1524339,
            null,
            3631939,
            4077547,
            548276
           ]
          }
         ],
         "name": "2014"
        },
        {
         "data": [
          {
           "coloraxis": "coloraxis",
           "geo": "geo",
           "hovertemplate": "<b>%{hovertext}</b><br><br>Year=2015<br>CountryCode=%{location}<br>MalariaCasesReported=%{z}<extra></extra>",
           "hovertext": [
            "Algeria",
            "Angola",
            "Benin",
            "Botswana",
            "Burkina Faso",
            "Burundi",
            "Cabo Verde",
            "Cameroon",
            "Central African Republic",
            "Chad",
            "Comoros",
            "Congo, Dem. Rep.",
            "Congo, Rep.",
            "Cote d'Ivoire",
            "Djibouti",
            "Egypt, Arab Rep.",
            "Equatorial Guinea",
            "Eritrea",
            "Eswatini",
            "Ethiopia",
            "Gabon",
            "Gambia, The",
            "Ghana",
            "Guinea",
            "Guinea-Bissau",
            "Kenya",
            "Lesotho",
            "Liberia",
            "Libya",
            "Madagascar",
            "Malawi",
            "Mali",
            "Mauritania",
            "Mauritius",
            "Morocco",
            "Mozambique",
            "Namibia",
            "Niger",
            "Nigeria",
            "Rwanda",
            "Sao Tome and Principe",
            "Senegal",
            "Seychelles",
            "Sierra Leone",
            "Somalia",
            "South Africa",
            "South Sudan",
            "Sudan",
            "Tanzania",
            "Togo",
            "Tunisia",
            "Uganda",
            "Zambia",
            "Zimbabwe"
           ],
           "locationmode": "ISO-3",
           "locations": [
            "DZA",
            "AGO",
            "BEN",
            "BWA",
            "BFA",
            "BDI",
            "CPV",
            "CMR",
            "CAF",
            "TCD",
            "COM",
            "COD",
            "COG",
            "CIV",
            "DJI",
            "EGY",
            "GNQ",
            "ERI",
            "SWZ",
            "ETH",
            "GAB",
            "GMB",
            "GHA",
            "GIN",
            "GNB",
            "KEN",
            "LSO",
            "LBR",
            "LBY",
            "MDG",
            "MWI",
            "MLI",
            "MRT",
            "MUS",
            "MAR",
            "MOZ",
            "NAM",
            "NER",
            "NGA",
            "RWA",
            "STP",
            "SEN",
            "SYC",
            "SLE",
            "SOM",
            "ZAF",
            "SSD",
            "SDN",
            "TZA",
            "TGO",
            "TUN",
            "UGA",
            "ZMB",
            "ZWE"
           ],
           "name": "",
           "type": "choropleth",
           "z": [
            0,
            2769305,
            1524739,
            326,
            7015446,
            5428710,
            7,
            1193281,
            598833,
            787046,
            1300,
            12538805,
            51529,
            3375904,
            9473,
            0,
            15142,
            28036,
            157,
            1867059,
            23867,
            245435,
            4319919,
            810979,
            146027,
            1581168,
            null,
            941711,
            0,
            937241,
            3661238,
            2454508,
            22631,
            null,
            0,
            8222814,
            12168,
            2392108,
            7131972,
            2694566,
            2058,
            492253,
            null,
            1483376,
            20953,
            1157,
            24371,
            586827,
            4241364,
            1508015,
            null,
            7137662,
            4184661,
            482379
           ]
          }
         ],
         "name": "2015"
        },
        {
         "data": [
          {
           "coloraxis": "coloraxis",
           "geo": "geo",
           "hovertemplate": "<b>%{hovertext}</b><br><br>Year=2016<br>CountryCode=%{location}<br>MalariaCasesReported=%{z}<extra></extra>",
           "hovertext": [
            "Algeria",
            "Angola",
            "Benin",
            "Botswana",
            "Burkina Faso",
            "Burundi",
            "Cabo Verde",
            "Cameroon",
            "Central African Republic",
            "Chad",
            "Comoros",
            "Congo, Dem. Rep.",
            "Congo, Rep.",
            "Cote d'Ivoire",
            "Djibouti",
            "Egypt, Arab Rep.",
            "Equatorial Guinea",
            "Eritrea",
            "Eswatini",
            "Ethiopia",
            "Gabon",
            "Gambia, The",
            "Ghana",
            "Guinea",
            "Guinea-Bissau",
            "Kenya",
            "Lesotho",
            "Liberia",
            "Libya",
            "Madagascar",
            "Malawi",
            "Mali",
            "Mauritania",
            "Mauritius",
            "Morocco",
            "Mozambique",
            "Namibia",
            "Niger",
            "Nigeria",
            "Rwanda",
            "Sao Tome and Principe",
            "Senegal",
            "Seychelles",
            "Sierra Leone",
            "Somalia",
            "South Africa",
            "South Sudan",
            "Sudan",
            "Tanzania",
            "Togo",
            "Tunisia",
            "Uganda",
            "Zambia",
            "Zimbabwe"
           ],
           "locationmode": "ISO-3",
           "locations": [
            "DZA",
            "AGO",
            "BEN",
            "BWA",
            "BFA",
            "BDI",
            "CPV",
            "CMR",
            "CAF",
            "TCD",
            "COM",
            "COD",
            "COG",
            "CIV",
            "DJI",
            "EGY",
            "GNQ",
            "ERI",
            "SWZ",
            "ETH",
            "GAB",
            "GMB",
            "GHA",
            "GIN",
            "GNB",
            "KEN",
            "LSO",
            "LBR",
            "LBY",
            "MDG",
            "MWI",
            "MLI",
            "MRT",
            "MUS",
            "MAR",
            "MOZ",
            "NAM",
            "NER",
            "NGA",
            "RWA",
            "STP",
            "SEN",
            "SYC",
            "SLE",
            "SOM",
            "ZAF",
            "SSD",
            "SDN",
            "TZA",
            "TGO",
            "TUN",
            "UGA",
            "ZMB",
            "ZWE"
           ],
           "name": "",
           "type": "choropleth",
           "z": [
            0,
            3794253,
            1395618,
            716,
            9779411,
            8793176,
            48,
            1694002,
            1032764,
            1294768,
            1143,
            16821130,
            171847,
            3645081,
            13804,
            0,
            147714,
            24251,
            350,
            1718504,
            23915,
            159997,
            4505442,
            992146,
            152404,
            2931406,
            null,
            1191137,
            0,
            655480,
            4827373,
            2311098,
            23042,
            null,
            0,
            9690873,
            25198,
            4258110,
            12293820,
            4725577,
            2238,
            349540,
            null,
            1775306,
            35628,
            4323,
            7619,
            575015,
            5188863,
            1746234,
            null,
            9385132,
            4851319,
            314003
           ]
          }
         ],
         "name": "2016"
        },
        {
         "data": [
          {
           "coloraxis": "coloraxis",
           "geo": "geo",
           "hovertemplate": "<b>%{hovertext}</b><br><br>Year=2017<br>CountryCode=%{location}<br>MalariaCasesReported=%{z}<extra></extra>",
           "hovertext": [
            "Algeria",
            "Angola",
            "Benin",
            "Botswana",
            "Burkina Faso",
            "Burundi",
            "Cabo Verde",
            "Cameroon",
            "Central African Republic",
            "Chad",
            "Comoros",
            "Congo, Dem. Rep.",
            "Congo, Rep.",
            "Cote d'Ivoire",
            "Djibouti",
            "Egypt, Arab Rep.",
            "Equatorial Guinea",
            "Eritrea",
            "Eswatini",
            "Ethiopia",
            "Gabon",
            "Gambia, The",
            "Ghana",
            "Guinea",
            "Guinea-Bissau",
            "Kenya",
            "Lesotho",
            "Liberia",
            "Libya",
            "Madagascar",
            "Malawi",
            "Mali",
            "Mauritania",
            "Mauritius",
            "Morocco",
            "Mozambique",
            "Namibia",
            "Niger",
            "Nigeria",
            "Rwanda",
            "Sao Tome and Principe",
            "Senegal",
            "Seychelles",
            "Sierra Leone",
            "Somalia",
            "South Africa",
            "South Sudan",
            "Sudan",
            "Tanzania",
            "Togo",
            "Tunisia",
            "Uganda",
            "Zambia",
            "Zimbabwe"
           ],
           "locationmode": "ISO-3",
           "locations": [
            "DZA",
            "AGO",
            "BEN",
            "BWA",
            "BFA",
            "BDI",
            "CPV",
            "CMR",
            "CAF",
            "TCD",
            "COM",
            "COD",
            "COG",
            "CIV",
            "DJI",
            "EGY",
            "GNQ",
            "ERI",
            "SWZ",
            "ETH",
            "GAB",
            "GMB",
            "GHA",
            "GIN",
            "GNB",
            "KEN",
            "LSO",
            "LBR",
            "LBY",
            "MDG",
            "MWI",
            "MLI",
            "MRT",
            "MUS",
            "MAR",
            "MOZ",
            "NAM",
            "NER",
            "NGA",
            "RWA",
            "STP",
            "SEN",
            "SYC",
            "SLE",
            "SOM",
            "ZAF",
            "SSD",
            "SDN",
            "TZA",
            "TGO",
            "TUN",
            "UGA",
            "ZMB",
            "ZWE"
           ],
           "name": "",
           "type": "choropleth",
           "z": [
            0,
            3874892,
            1774022,
            1900,
            10255415,
            8453810,
            423,
            1317371,
            383309,
            1962372,
            3230,
            16793002,
            127939,
            3475953,
            14671,
            0,
            15725,
            54005,
            724,
            1530739,
            35244,
            72412,
            5584185,
            1335323,
            92846,
            3419883,
            null,
            1783968,
            0,
            935229,
            4901344,
            2097797,
            20105,
            null,
            0,
            9892601,
            54268,
            2761268,
            11639713,
            4413473,
            2239,
            395706,
            null,
            1651236,
            35138,
            22517,
            1488005,
            720879,
            5354819,
            1755577,
            null,
            11667831,
            5505639,
            467508
           ]
          }
         ],
         "name": "2017"
        }
       ],
       "layout": {
        "coloraxis": {
         "colorbar": {
          "title": {
           "text": "MalariaCasesReported"
          }
         },
         "colorscale": [
          [
           0,
           "rgb(2,4,25)"
          ],
          [
           0.0625,
           "rgb(24,15,41)"
          ],
          [
           0.125,
           "rgb(47,23,57)"
          ],
          [
           0.1875,
           "rgb(71,28,72)"
          ],
          [
           0.25,
           "rgb(97,30,82)"
          ],
          [
           0.3125,
           "rgb(123,30,89)"
          ],
          [
           0.375,
           "rgb(150,27,91)"
          ],
          [
           0.4375,
           "rgb(177,22,88)"
          ],
          [
           0.5,
           "rgb(203,26,79)"
          ],
          [
           0.5625,
           "rgb(223,47,67)"
          ],
          [
           0.625,
           "rgb(236,76,61)"
          ],
          [
           0.6875,
           "rgb(242,107,73)"
          ],
          [
           0.75,
           "rgb(244,135,95)"
          ],
          [
           0.8125,
           "rgb(245,162,122)"
          ],
          [
           0.875,
           "rgb(246,188,153)"
          ],
          [
           0.9375,
           "rgb(247,212,187)"
          ],
          [
           1,
           "rgb(250,234,220)"
          ]
         ]
        },
        "geo": {
         "center": {},
         "domain": {
          "x": [
           0,
           1
          ],
          "y": [
           0,
           1
          ]
         },
         "scope": "africa"
        },
        "legend": {
         "tracegroupgap": 0
        },
        "sliders": [
         {
          "active": 0,
          "currentvalue": {
           "prefix": "Year="
          },
          "len": 0.9,
          "pad": {
           "b": 10,
           "t": 60
          },
          "steps": [
           {
            "args": [
             [
              "2007"
             ],
             {
              "frame": {
               "duration": 0,
               "redraw": true
              },
              "fromcurrent": true,
              "mode": "immediate",
              "transition": {
               "duration": 0,
               "easing": "linear"
              }
             }
            ],
            "label": "2007",
            "method": "animate"
           },
           {
            "args": [
             [
              "2008"
             ],
             {
              "frame": {
               "duration": 0,
               "redraw": true
              },
              "fromcurrent": true,
              "mode": "immediate",
              "transition": {
               "duration": 0,
               "easing": "linear"
              }
             }
            ],
            "label": "2008",
            "method": "animate"
           },
           {
            "args": [
             [
              "2009"
             ],
             {
              "frame": {
               "duration": 0,
               "redraw": true
              },
              "fromcurrent": true,
              "mode": "immediate",
              "transition": {
               "duration": 0,
               "easing": "linear"
              }
             }
            ],
            "label": "2009",
            "method": "animate"
           },
           {
            "args": [
             [
              "2010"
             ],
             {
              "frame": {
               "duration": 0,
               "redraw": true
              },
              "fromcurrent": true,
              "mode": "immediate",
              "transition": {
               "duration": 0,
               "easing": "linear"
              }
             }
            ],
            "label": "2010",
            "method": "animate"
           },
           {
            "args": [
             [
              "2011"
             ],
             {
              "frame": {
               "duration": 0,
               "redraw": true
              },
              "fromcurrent": true,
              "mode": "immediate",
              "transition": {
               "duration": 0,
               "easing": "linear"
              }
             }
            ],
            "label": "2011",
            "method": "animate"
           },
           {
            "args": [
             [
              "2012"
             ],
             {
              "frame": {
               "duration": 0,
               "redraw": true
              },
              "fromcurrent": true,
              "mode": "immediate",
              "transition": {
               "duration": 0,
               "easing": "linear"
              }
             }
            ],
            "label": "2012",
            "method": "animate"
           },
           {
            "args": [
             [
              "2013"
             ],
             {
              "frame": {
               "duration": 0,
               "redraw": true
              },
              "fromcurrent": true,
              "mode": "immediate",
              "transition": {
               "duration": 0,
               "easing": "linear"
              }
             }
            ],
            "label": "2013",
            "method": "animate"
           },
           {
            "args": [
             [
              "2014"
             ],
             {
              "frame": {
               "duration": 0,
               "redraw": true
              },
              "fromcurrent": true,
              "mode": "immediate",
              "transition": {
               "duration": 0,
               "easing": "linear"
              }
             }
            ],
            "label": "2014",
            "method": "animate"
           },
           {
            "args": [
             [
              "2015"
             ],
             {
              "frame": {
               "duration": 0,
               "redraw": true
              },
              "fromcurrent": true,
              "mode": "immediate",
              "transition": {
               "duration": 0,
               "easing": "linear"
              }
             }
            ],
            "label": "2015",
            "method": "animate"
           },
           {
            "args": [
             [
              "2016"
             ],
             {
              "frame": {
               "duration": 0,
               "redraw": true
              },
              "fromcurrent": true,
              "mode": "immediate",
              "transition": {
               "duration": 0,
               "easing": "linear"
              }
             }
            ],
            "label": "2016",
            "method": "animate"
           },
           {
            "args": [
             [
              "2017"
             ],
             {
              "frame": {
               "duration": 0,
               "redraw": true
              },
              "fromcurrent": true,
              "mode": "immediate",
              "transition": {
               "duration": 0,
               "easing": "linear"
              }
             }
            ],
            "label": "2017",
            "method": "animate"
           }
          ],
          "x": 0.1,
          "xanchor": "left",
          "y": 0,
          "yanchor": "top"
         }
        ],
        "template": {
         "data": {
          "bar": [
           {
            "error_x": {
             "color": "rgb(36,36,36)"
            },
            "error_y": {
             "color": "rgb(36,36,36)"
            },
            "marker": {
             "line": {
              "color": "rgb(234,234,242)",
              "width": 0.5
             },
             "pattern": {
              "fillmode": "overlay",
              "size": 10,
              "solidity": 0.2
             }
            },
            "type": "bar"
           }
          ],
          "barpolar": [
           {
            "marker": {
             "line": {
              "color": "rgb(234,234,242)",
              "width": 0.5
             },
             "pattern": {
              "fillmode": "overlay",
              "size": 10,
              "solidity": 0.2
             }
            },
            "type": "barpolar"
           }
          ],
          "carpet": [
           {
            "aaxis": {
             "endlinecolor": "rgb(36,36,36)",
             "gridcolor": "white",
             "linecolor": "white",
             "minorgridcolor": "white",
             "startlinecolor": "rgb(36,36,36)"
            },
            "baxis": {
             "endlinecolor": "rgb(36,36,36)",
             "gridcolor": "white",
             "linecolor": "white",
             "minorgridcolor": "white",
             "startlinecolor": "rgb(36,36,36)"
            },
            "type": "carpet"
           }
          ],
          "choropleth": [
           {
            "colorbar": {
             "outlinewidth": 0,
             "tickcolor": "rgb(36,36,36)",
             "ticklen": 8,
             "ticks": "outside",
             "tickwidth": 2
            },
            "type": "choropleth"
           }
          ],
          "contour": [
           {
            "colorbar": {
             "outlinewidth": 0,
             "tickcolor": "rgb(36,36,36)",
             "ticklen": 8,
             "ticks": "outside",
             "tickwidth": 2
            },
            "colorscale": [
             [
              0,
              "rgb(2,4,25)"
             ],
             [
              0.06274509803921569,
              "rgb(24,15,41)"
             ],
             [
              0.12549019607843137,
              "rgb(47,23,57)"
             ],
             [
              0.18823529411764706,
              "rgb(71,28,72)"
             ],
             [
              0.25098039215686274,
              "rgb(97,30,82)"
             ],
             [
              0.3137254901960784,
              "rgb(123,30,89)"
             ],
             [
              0.3764705882352941,
              "rgb(150,27,91)"
             ],
             [
              0.4392156862745098,
              "rgb(177,22,88)"
             ],
             [
              0.5019607843137255,
              "rgb(203,26,79)"
             ],
             [
              0.5647058823529412,
              "rgb(223,47,67)"
             ],
             [
              0.6274509803921569,
              "rgb(236,76,61)"
             ],
             [
              0.6901960784313725,
              "rgb(242,107,73)"
             ],
             [
              0.7529411764705882,
              "rgb(244,135,95)"
             ],
             [
              0.8156862745098039,
              "rgb(245,162,122)"
             ],
             [
              0.8784313725490196,
              "rgb(246,188,153)"
             ],
             [
              0.9411764705882353,
              "rgb(247,212,187)"
             ],
             [
              1,
              "rgb(250,234,220)"
             ]
            ],
            "type": "contour"
           }
          ],
          "contourcarpet": [
           {
            "colorbar": {
             "outlinewidth": 0,
             "tickcolor": "rgb(36,36,36)",
             "ticklen": 8,
             "ticks": "outside",
             "tickwidth": 2
            },
            "type": "contourcarpet"
           }
          ],
          "heatmap": [
           {
            "colorbar": {
             "outlinewidth": 0,
             "tickcolor": "rgb(36,36,36)",
             "ticklen": 8,
             "ticks": "outside",
             "tickwidth": 2
            },
            "colorscale": [
             [
              0,
              "rgb(2,4,25)"
             ],
             [
              0.06274509803921569,
              "rgb(24,15,41)"
             ],
             [
              0.12549019607843137,
              "rgb(47,23,57)"
             ],
             [
              0.18823529411764706,
              "rgb(71,28,72)"
             ],
             [
              0.25098039215686274,
              "rgb(97,30,82)"
             ],
             [
              0.3137254901960784,
              "rgb(123,30,89)"
             ],
             [
              0.3764705882352941,
              "rgb(150,27,91)"
             ],
             [
              0.4392156862745098,
              "rgb(177,22,88)"
             ],
             [
              0.5019607843137255,
              "rgb(203,26,79)"
             ],
             [
              0.5647058823529412,
              "rgb(223,47,67)"
             ],
             [
              0.6274509803921569,
              "rgb(236,76,61)"
             ],
             [
              0.6901960784313725,
              "rgb(242,107,73)"
             ],
             [
              0.7529411764705882,
              "rgb(244,135,95)"
             ],
             [
              0.8156862745098039,
              "rgb(245,162,122)"
             ],
             [
              0.8784313725490196,
              "rgb(246,188,153)"
             ],
             [
              0.9411764705882353,
              "rgb(247,212,187)"
             ],
             [
              1,
              "rgb(250,234,220)"
             ]
            ],
            "type": "heatmap"
           }
          ],
          "heatmapgl": [
           {
            "colorbar": {
             "outlinewidth": 0,
             "tickcolor": "rgb(36,36,36)",
             "ticklen": 8,
             "ticks": "outside",
             "tickwidth": 2
            },
            "colorscale": [
             [
              0,
              "rgb(2,4,25)"
             ],
             [
              0.06274509803921569,
              "rgb(24,15,41)"
             ],
             [
              0.12549019607843137,
              "rgb(47,23,57)"
             ],
             [
              0.18823529411764706,
              "rgb(71,28,72)"
             ],
             [
              0.25098039215686274,
              "rgb(97,30,82)"
             ],
             [
              0.3137254901960784,
              "rgb(123,30,89)"
             ],
             [
              0.3764705882352941,
              "rgb(150,27,91)"
             ],
             [
              0.4392156862745098,
              "rgb(177,22,88)"
             ],
             [
              0.5019607843137255,
              "rgb(203,26,79)"
             ],
             [
              0.5647058823529412,
              "rgb(223,47,67)"
             ],
             [
              0.6274509803921569,
              "rgb(236,76,61)"
             ],
             [
              0.6901960784313725,
              "rgb(242,107,73)"
             ],
             [
              0.7529411764705882,
              "rgb(244,135,95)"
             ],
             [
              0.8156862745098039,
              "rgb(245,162,122)"
             ],
             [
              0.8784313725490196,
              "rgb(246,188,153)"
             ],
             [
              0.9411764705882353,
              "rgb(247,212,187)"
             ],
             [
              1,
              "rgb(250,234,220)"
             ]
            ],
            "type": "heatmapgl"
           }
          ],
          "histogram": [
           {
            "marker": {
             "pattern": {
              "fillmode": "overlay",
              "size": 10,
              "solidity": 0.2
             }
            },
            "type": "histogram"
           }
          ],
          "histogram2d": [
           {
            "colorbar": {
             "outlinewidth": 0,
             "tickcolor": "rgb(36,36,36)",
             "ticklen": 8,
             "ticks": "outside",
             "tickwidth": 2
            },
            "colorscale": [
             [
              0,
              "rgb(2,4,25)"
             ],
             [
              0.06274509803921569,
              "rgb(24,15,41)"
             ],
             [
              0.12549019607843137,
              "rgb(47,23,57)"
             ],
             [
              0.18823529411764706,
              "rgb(71,28,72)"
             ],
             [
              0.25098039215686274,
              "rgb(97,30,82)"
             ],
             [
              0.3137254901960784,
              "rgb(123,30,89)"
             ],
             [
              0.3764705882352941,
              "rgb(150,27,91)"
             ],
             [
              0.4392156862745098,
              "rgb(177,22,88)"
             ],
             [
              0.5019607843137255,
              "rgb(203,26,79)"
             ],
             [
              0.5647058823529412,
              "rgb(223,47,67)"
             ],
             [
              0.6274509803921569,
              "rgb(236,76,61)"
             ],
             [
              0.6901960784313725,
              "rgb(242,107,73)"
             ],
             [
              0.7529411764705882,
              "rgb(244,135,95)"
             ],
             [
              0.8156862745098039,
              "rgb(245,162,122)"
             ],
             [
              0.8784313725490196,
              "rgb(246,188,153)"
             ],
             [
              0.9411764705882353,
              "rgb(247,212,187)"
             ],
             [
              1,
              "rgb(250,234,220)"
             ]
            ],
            "type": "histogram2d"
           }
          ],
          "histogram2dcontour": [
           {
            "colorbar": {
             "outlinewidth": 0,
             "tickcolor": "rgb(36,36,36)",
             "ticklen": 8,
             "ticks": "outside",
             "tickwidth": 2
            },
            "colorscale": [
             [
              0,
              "rgb(2,4,25)"
             ],
             [
              0.06274509803921569,
              "rgb(24,15,41)"
             ],
             [
              0.12549019607843137,
              "rgb(47,23,57)"
             ],
             [
              0.18823529411764706,
              "rgb(71,28,72)"
             ],
             [
              0.25098039215686274,
              "rgb(97,30,82)"
             ],
             [
              0.3137254901960784,
              "rgb(123,30,89)"
             ],
             [
              0.3764705882352941,
              "rgb(150,27,91)"
             ],
             [
              0.4392156862745098,
              "rgb(177,22,88)"
             ],
             [
              0.5019607843137255,
              "rgb(203,26,79)"
             ],
             [
              0.5647058823529412,
              "rgb(223,47,67)"
             ],
             [
              0.6274509803921569,
              "rgb(236,76,61)"
             ],
             [
              0.6901960784313725,
              "rgb(242,107,73)"
             ],
             [
              0.7529411764705882,
              "rgb(244,135,95)"
             ],
             [
              0.8156862745098039,
              "rgb(245,162,122)"
             ],
             [
              0.8784313725490196,
              "rgb(246,188,153)"
             ],
             [
              0.9411764705882353,
              "rgb(247,212,187)"
             ],
             [
              1,
              "rgb(250,234,220)"
             ]
            ],
            "type": "histogram2dcontour"
           }
          ],
          "mesh3d": [
           {
            "colorbar": {
             "outlinewidth": 0,
             "tickcolor": "rgb(36,36,36)",
             "ticklen": 8,
             "ticks": "outside",
             "tickwidth": 2
            },
            "type": "mesh3d"
           }
          ],
          "parcoords": [
           {
            "line": {
             "colorbar": {
              "outlinewidth": 0,
              "tickcolor": "rgb(36,36,36)",
              "ticklen": 8,
              "ticks": "outside",
              "tickwidth": 2
             }
            },
            "type": "parcoords"
           }
          ],
          "pie": [
           {
            "automargin": true,
            "type": "pie"
           }
          ],
          "scatter": [
           {
            "marker": {
             "colorbar": {
              "outlinewidth": 0,
              "tickcolor": "rgb(36,36,36)",
              "ticklen": 8,
              "ticks": "outside",
              "tickwidth": 2
             }
            },
            "type": "scatter"
           }
          ],
          "scatter3d": [
           {
            "line": {
             "colorbar": {
              "outlinewidth": 0,
              "tickcolor": "rgb(36,36,36)",
              "ticklen": 8,
              "ticks": "outside",
              "tickwidth": 2
             }
            },
            "marker": {
             "colorbar": {
              "outlinewidth": 0,
              "tickcolor": "rgb(36,36,36)",
              "ticklen": 8,
              "ticks": "outside",
              "tickwidth": 2
             }
            },
            "type": "scatter3d"
           }
          ],
          "scattercarpet": [
           {
            "marker": {
             "colorbar": {
              "outlinewidth": 0,
              "tickcolor": "rgb(36,36,36)",
              "ticklen": 8,
              "ticks": "outside",
              "tickwidth": 2
             }
            },
            "type": "scattercarpet"
           }
          ],
          "scattergeo": [
           {
            "marker": {
             "colorbar": {
              "outlinewidth": 0,
              "tickcolor": "rgb(36,36,36)",
              "ticklen": 8,
              "ticks": "outside",
              "tickwidth": 2
             }
            },
            "type": "scattergeo"
           }
          ],
          "scattergl": [
           {
            "marker": {
             "colorbar": {
              "outlinewidth": 0,
              "tickcolor": "rgb(36,36,36)",
              "ticklen": 8,
              "ticks": "outside",
              "tickwidth": 2
             }
            },
            "type": "scattergl"
           }
          ],
          "scattermapbox": [
           {
            "marker": {
             "colorbar": {
              "outlinewidth": 0,
              "tickcolor": "rgb(36,36,36)",
              "ticklen": 8,
              "ticks": "outside",
              "tickwidth": 2
             }
            },
            "type": "scattermapbox"
           }
          ],
          "scatterpolar": [
           {
            "marker": {
             "colorbar": {
              "outlinewidth": 0,
              "tickcolor": "rgb(36,36,36)",
              "ticklen": 8,
              "ticks": "outside",
              "tickwidth": 2
             }
            },
            "type": "scatterpolar"
           }
          ],
          "scatterpolargl": [
           {
            "marker": {
             "colorbar": {
              "outlinewidth": 0,
              "tickcolor": "rgb(36,36,36)",
              "ticklen": 8,
              "ticks": "outside",
              "tickwidth": 2
             }
            },
            "type": "scatterpolargl"
           }
          ],
          "scatterternary": [
           {
            "marker": {
             "colorbar": {
              "outlinewidth": 0,
              "tickcolor": "rgb(36,36,36)",
              "ticklen": 8,
              "ticks": "outside",
              "tickwidth": 2
             }
            },
            "type": "scatterternary"
           }
          ],
          "surface": [
           {
            "colorbar": {
             "outlinewidth": 0,
             "tickcolor": "rgb(36,36,36)",
             "ticklen": 8,
             "ticks": "outside",
             "tickwidth": 2
            },
            "colorscale": [
             [
              0,
              "rgb(2,4,25)"
             ],
             [
              0.06274509803921569,
              "rgb(24,15,41)"
             ],
             [
              0.12549019607843137,
              "rgb(47,23,57)"
             ],
             [
              0.18823529411764706,
              "rgb(71,28,72)"
             ],
             [
              0.25098039215686274,
              "rgb(97,30,82)"
             ],
             [
              0.3137254901960784,
              "rgb(123,30,89)"
             ],
             [
              0.3764705882352941,
              "rgb(150,27,91)"
             ],
             [
              0.4392156862745098,
              "rgb(177,22,88)"
             ],
             [
              0.5019607843137255,
              "rgb(203,26,79)"
             ],
             [
              0.5647058823529412,
              "rgb(223,47,67)"
             ],
             [
              0.6274509803921569,
              "rgb(236,76,61)"
             ],
             [
              0.6901960784313725,
              "rgb(242,107,73)"
             ],
             [
              0.7529411764705882,
              "rgb(244,135,95)"
             ],
             [
              0.8156862745098039,
              "rgb(245,162,122)"
             ],
             [
              0.8784313725490196,
              "rgb(246,188,153)"
             ],
             [
              0.9411764705882353,
              "rgb(247,212,187)"
             ],
             [
              1,
              "rgb(250,234,220)"
             ]
            ],
            "type": "surface"
           }
          ],
          "table": [
           {
            "cells": {
             "fill": {
              "color": "rgb(231,231,240)"
             },
             "line": {
              "color": "white"
             }
            },
            "header": {
             "fill": {
              "color": "rgb(183,183,191)"
             },
             "line": {
              "color": "white"
             }
            },
            "type": "table"
           }
          ]
         },
         "layout": {
          "annotationdefaults": {
           "arrowcolor": "rgb(67,103,167)"
          },
          "autotypenumbers": "strict",
          "coloraxis": {
           "colorbar": {
            "outlinewidth": 0,
            "tickcolor": "rgb(36,36,36)",
            "ticklen": 8,
            "ticks": "outside",
            "tickwidth": 2
           }
          },
          "colorscale": {
           "sequential": [
            [
             0,
             "rgb(2,4,25)"
            ],
            [
             0.06274509803921569,
             "rgb(24,15,41)"
            ],
            [
             0.12549019607843137,
             "rgb(47,23,57)"
            ],
            [
             0.18823529411764706,
             "rgb(71,28,72)"
            ],
            [
             0.25098039215686274,
             "rgb(97,30,82)"
            ],
            [
             0.3137254901960784,
             "rgb(123,30,89)"
            ],
            [
             0.3764705882352941,
             "rgb(150,27,91)"
            ],
            [
             0.4392156862745098,
             "rgb(177,22,88)"
            ],
            [
             0.5019607843137255,
             "rgb(203,26,79)"
            ],
            [
             0.5647058823529412,
             "rgb(223,47,67)"
            ],
            [
             0.6274509803921569,
             "rgb(236,76,61)"
            ],
            [
             0.6901960784313725,
             "rgb(242,107,73)"
            ],
            [
             0.7529411764705882,
             "rgb(244,135,95)"
            ],
            [
             0.8156862745098039,
             "rgb(245,162,122)"
            ],
            [
             0.8784313725490196,
             "rgb(246,188,153)"
            ],
            [
             0.9411764705882353,
             "rgb(247,212,187)"
            ],
            [
             1,
             "rgb(250,234,220)"
            ]
           ],
           "sequentialminus": [
            [
             0,
             "rgb(2,4,25)"
            ],
            [
             0.06274509803921569,
             "rgb(24,15,41)"
            ],
            [
             0.12549019607843137,
             "rgb(47,23,57)"
            ],
            [
             0.18823529411764706,
             "rgb(71,28,72)"
            ],
            [
             0.25098039215686274,
             "rgb(97,30,82)"
            ],
            [
             0.3137254901960784,
             "rgb(123,30,89)"
            ],
            [
             0.3764705882352941,
             "rgb(150,27,91)"
            ],
            [
             0.4392156862745098,
             "rgb(177,22,88)"
            ],
            [
             0.5019607843137255,
             "rgb(203,26,79)"
            ],
            [
             0.5647058823529412,
             "rgb(223,47,67)"
            ],
            [
             0.6274509803921569,
             "rgb(236,76,61)"
            ],
            [
             0.6901960784313725,
             "rgb(242,107,73)"
            ],
            [
             0.7529411764705882,
             "rgb(244,135,95)"
            ],
            [
             0.8156862745098039,
             "rgb(245,162,122)"
            ],
            [
             0.8784313725490196,
             "rgb(246,188,153)"
            ],
            [
             0.9411764705882353,
             "rgb(247,212,187)"
            ],
            [
             1,
             "rgb(250,234,220)"
            ]
           ]
          },
          "colorway": [
           "rgb(76,114,176)",
           "rgb(221,132,82)",
           "rgb(85,168,104)",
           "rgb(196,78,82)",
           "rgb(129,114,179)",
           "rgb(147,120,96)",
           "rgb(218,139,195)",
           "rgb(140,140,140)",
           "rgb(204,185,116)",
           "rgb(100,181,205)"
          ],
          "font": {
           "color": "rgb(36,36,36)"
          },
          "geo": {
           "bgcolor": "white",
           "lakecolor": "white",
           "landcolor": "rgb(234,234,242)",
           "showlakes": true,
           "showland": true,
           "subunitcolor": "white"
          },
          "hoverlabel": {
           "align": "left"
          },
          "hovermode": "closest",
          "paper_bgcolor": "white",
          "plot_bgcolor": "rgb(234,234,242)",
          "polar": {
           "angularaxis": {
            "gridcolor": "white",
            "linecolor": "white",
            "showgrid": true,
            "ticks": ""
           },
           "bgcolor": "rgb(234,234,242)",
           "radialaxis": {
            "gridcolor": "white",
            "linecolor": "white",
            "showgrid": true,
            "ticks": ""
           }
          },
          "scene": {
           "xaxis": {
            "backgroundcolor": "rgb(234,234,242)",
            "gridcolor": "white",
            "gridwidth": 2,
            "linecolor": "white",
            "showbackground": true,
            "showgrid": true,
            "ticks": "",
            "zerolinecolor": "white"
           },
           "yaxis": {
            "backgroundcolor": "rgb(234,234,242)",
            "gridcolor": "white",
            "gridwidth": 2,
            "linecolor": "white",
            "showbackground": true,
            "showgrid": true,
            "ticks": "",
            "zerolinecolor": "white"
           },
           "zaxis": {
            "backgroundcolor": "rgb(234,234,242)",
            "gridcolor": "white",
            "gridwidth": 2,
            "linecolor": "white",
            "showbackground": true,
            "showgrid": true,
            "ticks": "",
            "zerolinecolor": "white"
           }
          },
          "shapedefaults": {
           "fillcolor": "rgb(67,103,167)",
           "line": {
            "width": 0
           },
           "opacity": 0.5
          },
          "ternary": {
           "aaxis": {
            "gridcolor": "white",
            "linecolor": "white",
            "showgrid": true,
            "ticks": ""
           },
           "baxis": {
            "gridcolor": "white",
            "linecolor": "white",
            "showgrid": true,
            "ticks": ""
           },
           "bgcolor": "rgb(234,234,242)",
           "caxis": {
            "gridcolor": "white",
            "linecolor": "white",
            "showgrid": true,
            "ticks": ""
           }
          },
          "xaxis": {
           "automargin": true,
           "gridcolor": "white",
           "linecolor": "white",
           "showgrid": true,
           "ticks": "",
           "title": {
            "standoff": 15
           },
           "zerolinecolor": "white"
          },
          "yaxis": {
           "automargin": true,
           "gridcolor": "white",
           "linecolor": "white",
           "showgrid": true,
           "ticks": "",
           "title": {
            "standoff": 15
           },
           "zerolinecolor": "white"
          }
         }
        },
        "title": {
         "text": "Malaria Cases reported per country"
        },
        "updatemenus": [
         {
          "buttons": [
           {
            "args": [
             null,
             {
              "frame": {
               "duration": 500,
               "redraw": true
              },
              "fromcurrent": true,
              "mode": "immediate",
              "transition": {
               "duration": 500,
               "easing": "linear"
              }
             }
            ],
            "label": "&#9654;",
            "method": "animate"
           },
           {
            "args": [
             [
              null
             ],
             {
              "frame": {
               "duration": 0,
               "redraw": true
              },
              "fromcurrent": true,
              "mode": "immediate",
              "transition": {
               "duration": 0,
               "easing": "linear"
              }
             }
            ],
            "label": "&#9724;",
            "method": "animate"
           }
          ],
          "direction": "left",
          "pad": {
           "r": 10,
           "t": 70
          },
          "showactive": false,
          "type": "buttons",
          "x": 0.1,
          "xanchor": "right",
          "y": 0,
          "yanchor": "top"
         }
        ]
       }
      },
      "text/html": [
       "<div>                            <div id=\"d63c1be5-6bf9-43d7-9197-d371840174f3\" class=\"plotly-graph-div\" style=\"height:525px; width:100%;\"></div>            <script type=\"text/javascript\">                require([\"plotly\"], function(Plotly) {                    window.PLOTLYENV=window.PLOTLYENV || {};                                    if (document.getElementById(\"d63c1be5-6bf9-43d7-9197-d371840174f3\")) {                    Plotly.newPlot(                        \"d63c1be5-6bf9-43d7-9197-d371840174f3\",                        [{\"coloraxis\":\"coloraxis\",\"geo\":\"geo\",\"hovertemplate\":\"<b>%{hovertext}</b><br><br>Year=2007<br>CountryCode=%{location}<br>MalariaCasesReported=%{z}<extra></extra>\",\"hovertext\":[\"Algeria\",\"Angola\",\"Benin\",\"Botswana\",\"Burkina Faso\",\"Burundi\",\"Cabo Verde\",\"Cameroon\",\"Central African Republic\",\"Chad\",\"Comoros\",\"Congo, Dem. Rep.\",\"Congo, Rep.\",\"Cote d'Ivoire\",\"Djibouti\",\"Egypt, Arab Rep.\",\"Equatorial Guinea\",\"Eritrea\",\"Eswatini\",\"Ethiopia\",\"Gabon\",\"Gambia, The\",\"Ghana\",\"Guinea\",\"Guinea-Bissau\",\"Kenya\",\"Lesotho\",\"Liberia\",\"Libya\",\"Madagascar\",\"Malawi\",\"Mali\",\"Mauritania\",\"Mauritius\",\"Morocco\",\"Mozambique\",\"Namibia\",\"Niger\",\"Nigeria\",\"Rwanda\",\"Sao Tome and Principe\",\"Senegal\",\"Seychelles\",\"Sierra Leone\",\"Somalia\",\"South Africa\",\"South Sudan\",\"Sudan\",\"Tanzania\",\"Togo\",\"Tunisia\",\"Uganda\",\"Zambia\",\"Zimbabwe\"],\"locationmode\":\"ISO-3\",\"locations\":[\"DZA\",\"AGO\",\"BEN\",\"BWA\",\"BFA\",\"BDI\",\"CPV\",\"CMR\",\"CAF\",\"TCD\",\"COM\",\"COD\",\"COG\",\"CIV\",\"DJI\",\"EGY\",\"GNQ\",\"ERI\",\"SWZ\",\"ETH\",\"GAB\",\"GMB\",\"GHA\",\"GIN\",\"GNB\",\"KEN\",\"LSO\",\"LBR\",\"LBY\",\"MDG\",\"MWI\",\"MLI\",\"MRT\",\"MUS\",\"MAR\",\"MOZ\",\"NAM\",\"NER\",\"NGA\",\"RWA\",\"STP\",\"SEN\",\"SYC\",\"SLE\",\"SOM\",\"ZAF\",\"SSD\",\"SDN\",\"TZA\",\"TGO\",\"TUN\",\"UGA\",\"ZMB\",\"ZWE\"],\"name\":\"\",\"z\":[26.0,1533485.0,0.0,390.0,44246.0,1101644.0,18.0,0.0,0.0,48288.0,38913.0,740858.0,103213.0,0.0,2320.0,0.0,6287.0,15565.0,84.0,451816.0,45186.0,0.0,476484.0,44518.0,14284.0,0.0,null,492272.0,0.0,48497.0,0.0,0.0,0.0,null,0.0,141663.0,4242.0,268164.0,0.0,382686.0,2421.0,118332.0,null,0.0,16675.0,6327.0,0.0,686908.0,1845917.0,258716.0,null,1045378.0,0.0,116518.0],\"type\":\"choropleth\"}],                        {\"template\":{\"data\":{\"barpolar\":[{\"marker\":{\"line\":{\"color\":\"rgb(234,234,242)\",\"width\":0.5},\"pattern\":{\"fillmode\":\"overlay\",\"size\":10,\"solidity\":0.2}},\"type\":\"barpolar\"}],\"bar\":[{\"error_x\":{\"color\":\"rgb(36,36,36)\"},\"error_y\":{\"color\":\"rgb(36,36,36)\"},\"marker\":{\"line\":{\"color\":\"rgb(234,234,242)\",\"width\":0.5},\"pattern\":{\"fillmode\":\"overlay\",\"size\":10,\"solidity\":0.2}},\"type\":\"bar\"}],\"carpet\":[{\"aaxis\":{\"endlinecolor\":\"rgb(36,36,36)\",\"gridcolor\":\"white\",\"linecolor\":\"white\",\"minorgridcolor\":\"white\",\"startlinecolor\":\"rgb(36,36,36)\"},\"baxis\":{\"endlinecolor\":\"rgb(36,36,36)\",\"gridcolor\":\"white\",\"linecolor\":\"white\",\"minorgridcolor\":\"white\",\"startlinecolor\":\"rgb(36,36,36)\"},\"type\":\"carpet\"}],\"choropleth\":[{\"colorbar\":{\"outlinewidth\":0,\"tickcolor\":\"rgb(36,36,36)\",\"ticklen\":8,\"ticks\":\"outside\",\"tickwidth\":2},\"type\":\"choropleth\"}],\"contourcarpet\":[{\"colorbar\":{\"outlinewidth\":0,\"tickcolor\":\"rgb(36,36,36)\",\"ticklen\":8,\"ticks\":\"outside\",\"tickwidth\":2},\"type\":\"contourcarpet\"}],\"contour\":[{\"colorbar\":{\"outlinewidth\":0,\"tickcolor\":\"rgb(36,36,36)\",\"ticklen\":8,\"ticks\":\"outside\",\"tickwidth\":2},\"colorscale\":[[0.0,\"rgb(2,4,25)\"],[0.06274509803921569,\"rgb(24,15,41)\"],[0.12549019607843137,\"rgb(47,23,57)\"],[0.18823529411764706,\"rgb(71,28,72)\"],[0.25098039215686274,\"rgb(97,30,82)\"],[0.3137254901960784,\"rgb(123,30,89)\"],[0.3764705882352941,\"rgb(150,27,91)\"],[0.4392156862745098,\"rgb(177,22,88)\"],[0.5019607843137255,\"rgb(203,26,79)\"],[0.5647058823529412,\"rgb(223,47,67)\"],[0.6274509803921569,\"rgb(236,76,61)\"],[0.6901960784313725,\"rgb(242,107,73)\"],[0.7529411764705882,\"rgb(244,135,95)\"],[0.8156862745098039,\"rgb(245,162,122)\"],[0.8784313725490196,\"rgb(246,188,153)\"],[0.9411764705882353,\"rgb(247,212,187)\"],[1.0,\"rgb(250,234,220)\"]],\"type\":\"contour\"}],\"heatmapgl\":[{\"colorbar\":{\"outlinewidth\":0,\"tickcolor\":\"rgb(36,36,36)\",\"ticklen\":8,\"ticks\":\"outside\",\"tickwidth\":2},\"colorscale\":[[0.0,\"rgb(2,4,25)\"],[0.06274509803921569,\"rgb(24,15,41)\"],[0.12549019607843137,\"rgb(47,23,57)\"],[0.18823529411764706,\"rgb(71,28,72)\"],[0.25098039215686274,\"rgb(97,30,82)\"],[0.3137254901960784,\"rgb(123,30,89)\"],[0.3764705882352941,\"rgb(150,27,91)\"],[0.4392156862745098,\"rgb(177,22,88)\"],[0.5019607843137255,\"rgb(203,26,79)\"],[0.5647058823529412,\"rgb(223,47,67)\"],[0.6274509803921569,\"rgb(236,76,61)\"],[0.6901960784313725,\"rgb(242,107,73)\"],[0.7529411764705882,\"rgb(244,135,95)\"],[0.8156862745098039,\"rgb(245,162,122)\"],[0.8784313725490196,\"rgb(246,188,153)\"],[0.9411764705882353,\"rgb(247,212,187)\"],[1.0,\"rgb(250,234,220)\"]],\"type\":\"heatmapgl\"}],\"heatmap\":[{\"colorbar\":{\"outlinewidth\":0,\"tickcolor\":\"rgb(36,36,36)\",\"ticklen\":8,\"ticks\":\"outside\",\"tickwidth\":2},\"colorscale\":[[0.0,\"rgb(2,4,25)\"],[0.06274509803921569,\"rgb(24,15,41)\"],[0.12549019607843137,\"rgb(47,23,57)\"],[0.18823529411764706,\"rgb(71,28,72)\"],[0.25098039215686274,\"rgb(97,30,82)\"],[0.3137254901960784,\"rgb(123,30,89)\"],[0.3764705882352941,\"rgb(150,27,91)\"],[0.4392156862745098,\"rgb(177,22,88)\"],[0.5019607843137255,\"rgb(203,26,79)\"],[0.5647058823529412,\"rgb(223,47,67)\"],[0.6274509803921569,\"rgb(236,76,61)\"],[0.6901960784313725,\"rgb(242,107,73)\"],[0.7529411764705882,\"rgb(244,135,95)\"],[0.8156862745098039,\"rgb(245,162,122)\"],[0.8784313725490196,\"rgb(246,188,153)\"],[0.9411764705882353,\"rgb(247,212,187)\"],[1.0,\"rgb(250,234,220)\"]],\"type\":\"heatmap\"}],\"histogram2dcontour\":[{\"colorbar\":{\"outlinewidth\":0,\"tickcolor\":\"rgb(36,36,36)\",\"ticklen\":8,\"ticks\":\"outside\",\"tickwidth\":2},\"colorscale\":[[0.0,\"rgb(2,4,25)\"],[0.06274509803921569,\"rgb(24,15,41)\"],[0.12549019607843137,\"rgb(47,23,57)\"],[0.18823529411764706,\"rgb(71,28,72)\"],[0.25098039215686274,\"rgb(97,30,82)\"],[0.3137254901960784,\"rgb(123,30,89)\"],[0.3764705882352941,\"rgb(150,27,91)\"],[0.4392156862745098,\"rgb(177,22,88)\"],[0.5019607843137255,\"rgb(203,26,79)\"],[0.5647058823529412,\"rgb(223,47,67)\"],[0.6274509803921569,\"rgb(236,76,61)\"],[0.6901960784313725,\"rgb(242,107,73)\"],[0.7529411764705882,\"rgb(244,135,95)\"],[0.8156862745098039,\"rgb(245,162,122)\"],[0.8784313725490196,\"rgb(246,188,153)\"],[0.9411764705882353,\"rgb(247,212,187)\"],[1.0,\"rgb(250,234,220)\"]],\"type\":\"histogram2dcontour\"}],\"histogram2d\":[{\"colorbar\":{\"outlinewidth\":0,\"tickcolor\":\"rgb(36,36,36)\",\"ticklen\":8,\"ticks\":\"outside\",\"tickwidth\":2},\"colorscale\":[[0.0,\"rgb(2,4,25)\"],[0.06274509803921569,\"rgb(24,15,41)\"],[0.12549019607843137,\"rgb(47,23,57)\"],[0.18823529411764706,\"rgb(71,28,72)\"],[0.25098039215686274,\"rgb(97,30,82)\"],[0.3137254901960784,\"rgb(123,30,89)\"],[0.3764705882352941,\"rgb(150,27,91)\"],[0.4392156862745098,\"rgb(177,22,88)\"],[0.5019607843137255,\"rgb(203,26,79)\"],[0.5647058823529412,\"rgb(223,47,67)\"],[0.6274509803921569,\"rgb(236,76,61)\"],[0.6901960784313725,\"rgb(242,107,73)\"],[0.7529411764705882,\"rgb(244,135,95)\"],[0.8156862745098039,\"rgb(245,162,122)\"],[0.8784313725490196,\"rgb(246,188,153)\"],[0.9411764705882353,\"rgb(247,212,187)\"],[1.0,\"rgb(250,234,220)\"]],\"type\":\"histogram2d\"}],\"histogram\":[{\"marker\":{\"pattern\":{\"fillmode\":\"overlay\",\"size\":10,\"solidity\":0.2}},\"type\":\"histogram\"}],\"mesh3d\":[{\"colorbar\":{\"outlinewidth\":0,\"tickcolor\":\"rgb(36,36,36)\",\"ticklen\":8,\"ticks\":\"outside\",\"tickwidth\":2},\"type\":\"mesh3d\"}],\"parcoords\":[{\"line\":{\"colorbar\":{\"outlinewidth\":0,\"tickcolor\":\"rgb(36,36,36)\",\"ticklen\":8,\"ticks\":\"outside\",\"tickwidth\":2}},\"type\":\"parcoords\"}],\"pie\":[{\"automargin\":true,\"type\":\"pie\"}],\"scatter3d\":[{\"line\":{\"colorbar\":{\"outlinewidth\":0,\"tickcolor\":\"rgb(36,36,36)\",\"ticklen\":8,\"ticks\":\"outside\",\"tickwidth\":2}},\"marker\":{\"colorbar\":{\"outlinewidth\":0,\"tickcolor\":\"rgb(36,36,36)\",\"ticklen\":8,\"ticks\":\"outside\",\"tickwidth\":2}},\"type\":\"scatter3d\"}],\"scattercarpet\":[{\"marker\":{\"colorbar\":{\"outlinewidth\":0,\"tickcolor\":\"rgb(36,36,36)\",\"ticklen\":8,\"ticks\":\"outside\",\"tickwidth\":2}},\"type\":\"scattercarpet\"}],\"scattergeo\":[{\"marker\":{\"colorbar\":{\"outlinewidth\":0,\"tickcolor\":\"rgb(36,36,36)\",\"ticklen\":8,\"ticks\":\"outside\",\"tickwidth\":2}},\"type\":\"scattergeo\"}],\"scattergl\":[{\"marker\":{\"colorbar\":{\"outlinewidth\":0,\"tickcolor\":\"rgb(36,36,36)\",\"ticklen\":8,\"ticks\":\"outside\",\"tickwidth\":2}},\"type\":\"scattergl\"}],\"scattermapbox\":[{\"marker\":{\"colorbar\":{\"outlinewidth\":0,\"tickcolor\":\"rgb(36,36,36)\",\"ticklen\":8,\"ticks\":\"outside\",\"tickwidth\":2}},\"type\":\"scattermapbox\"}],\"scatterpolargl\":[{\"marker\":{\"colorbar\":{\"outlinewidth\":0,\"tickcolor\":\"rgb(36,36,36)\",\"ticklen\":8,\"ticks\":\"outside\",\"tickwidth\":2}},\"type\":\"scatterpolargl\"}],\"scatterpolar\":[{\"marker\":{\"colorbar\":{\"outlinewidth\":0,\"tickcolor\":\"rgb(36,36,36)\",\"ticklen\":8,\"ticks\":\"outside\",\"tickwidth\":2}},\"type\":\"scatterpolar\"}],\"scatter\":[{\"marker\":{\"colorbar\":{\"outlinewidth\":0,\"tickcolor\":\"rgb(36,36,36)\",\"ticklen\":8,\"ticks\":\"outside\",\"tickwidth\":2}},\"type\":\"scatter\"}],\"scatterternary\":[{\"marker\":{\"colorbar\":{\"outlinewidth\":0,\"tickcolor\":\"rgb(36,36,36)\",\"ticklen\":8,\"ticks\":\"outside\",\"tickwidth\":2}},\"type\":\"scatterternary\"}],\"surface\":[{\"colorbar\":{\"outlinewidth\":0,\"tickcolor\":\"rgb(36,36,36)\",\"ticklen\":8,\"ticks\":\"outside\",\"tickwidth\":2},\"colorscale\":[[0.0,\"rgb(2,4,25)\"],[0.06274509803921569,\"rgb(24,15,41)\"],[0.12549019607843137,\"rgb(47,23,57)\"],[0.18823529411764706,\"rgb(71,28,72)\"],[0.25098039215686274,\"rgb(97,30,82)\"],[0.3137254901960784,\"rgb(123,30,89)\"],[0.3764705882352941,\"rgb(150,27,91)\"],[0.4392156862745098,\"rgb(177,22,88)\"],[0.5019607843137255,\"rgb(203,26,79)\"],[0.5647058823529412,\"rgb(223,47,67)\"],[0.6274509803921569,\"rgb(236,76,61)\"],[0.6901960784313725,\"rgb(242,107,73)\"],[0.7529411764705882,\"rgb(244,135,95)\"],[0.8156862745098039,\"rgb(245,162,122)\"],[0.8784313725490196,\"rgb(246,188,153)\"],[0.9411764705882353,\"rgb(247,212,187)\"],[1.0,\"rgb(250,234,220)\"]],\"type\":\"surface\"}],\"table\":[{\"cells\":{\"fill\":{\"color\":\"rgb(231,231,240)\"},\"line\":{\"color\":\"white\"}},\"header\":{\"fill\":{\"color\":\"rgb(183,183,191)\"},\"line\":{\"color\":\"white\"}},\"type\":\"table\"}]},\"layout\":{\"annotationdefaults\":{\"arrowcolor\":\"rgb(67,103,167)\"},\"autotypenumbers\":\"strict\",\"coloraxis\":{\"colorbar\":{\"outlinewidth\":0,\"tickcolor\":\"rgb(36,36,36)\",\"ticklen\":8,\"ticks\":\"outside\",\"tickwidth\":2}},\"colorscale\":{\"sequential\":[[0.0,\"rgb(2,4,25)\"],[0.06274509803921569,\"rgb(24,15,41)\"],[0.12549019607843137,\"rgb(47,23,57)\"],[0.18823529411764706,\"rgb(71,28,72)\"],[0.25098039215686274,\"rgb(97,30,82)\"],[0.3137254901960784,\"rgb(123,30,89)\"],[0.3764705882352941,\"rgb(150,27,91)\"],[0.4392156862745098,\"rgb(177,22,88)\"],[0.5019607843137255,\"rgb(203,26,79)\"],[0.5647058823529412,\"rgb(223,47,67)\"],[0.6274509803921569,\"rgb(236,76,61)\"],[0.6901960784313725,\"rgb(242,107,73)\"],[0.7529411764705882,\"rgb(244,135,95)\"],[0.8156862745098039,\"rgb(245,162,122)\"],[0.8784313725490196,\"rgb(246,188,153)\"],[0.9411764705882353,\"rgb(247,212,187)\"],[1.0,\"rgb(250,234,220)\"]],\"sequentialminus\":[[0.0,\"rgb(2,4,25)\"],[0.06274509803921569,\"rgb(24,15,41)\"],[0.12549019607843137,\"rgb(47,23,57)\"],[0.18823529411764706,\"rgb(71,28,72)\"],[0.25098039215686274,\"rgb(97,30,82)\"],[0.3137254901960784,\"rgb(123,30,89)\"],[0.3764705882352941,\"rgb(150,27,91)\"],[0.4392156862745098,\"rgb(177,22,88)\"],[0.5019607843137255,\"rgb(203,26,79)\"],[0.5647058823529412,\"rgb(223,47,67)\"],[0.6274509803921569,\"rgb(236,76,61)\"],[0.6901960784313725,\"rgb(242,107,73)\"],[0.7529411764705882,\"rgb(244,135,95)\"],[0.8156862745098039,\"rgb(245,162,122)\"],[0.8784313725490196,\"rgb(246,188,153)\"],[0.9411764705882353,\"rgb(247,212,187)\"],[1.0,\"rgb(250,234,220)\"]]},\"colorway\":[\"rgb(76,114,176)\",\"rgb(221,132,82)\",\"rgb(85,168,104)\",\"rgb(196,78,82)\",\"rgb(129,114,179)\",\"rgb(147,120,96)\",\"rgb(218,139,195)\",\"rgb(140,140,140)\",\"rgb(204,185,116)\",\"rgb(100,181,205)\"],\"font\":{\"color\":\"rgb(36,36,36)\"},\"geo\":{\"bgcolor\":\"white\",\"lakecolor\":\"white\",\"landcolor\":\"rgb(234,234,242)\",\"showlakes\":true,\"showland\":true,\"subunitcolor\":\"white\"},\"hoverlabel\":{\"align\":\"left\"},\"hovermode\":\"closest\",\"paper_bgcolor\":\"white\",\"plot_bgcolor\":\"rgb(234,234,242)\",\"polar\":{\"angularaxis\":{\"gridcolor\":\"white\",\"linecolor\":\"white\",\"showgrid\":true,\"ticks\":\"\"},\"bgcolor\":\"rgb(234,234,242)\",\"radialaxis\":{\"gridcolor\":\"white\",\"linecolor\":\"white\",\"showgrid\":true,\"ticks\":\"\"}},\"scene\":{\"xaxis\":{\"backgroundcolor\":\"rgb(234,234,242)\",\"gridcolor\":\"white\",\"gridwidth\":2,\"linecolor\":\"white\",\"showbackground\":true,\"showgrid\":true,\"ticks\":\"\",\"zerolinecolor\":\"white\"},\"yaxis\":{\"backgroundcolor\":\"rgb(234,234,242)\",\"gridcolor\":\"white\",\"gridwidth\":2,\"linecolor\":\"white\",\"showbackground\":true,\"showgrid\":true,\"ticks\":\"\",\"zerolinecolor\":\"white\"},\"zaxis\":{\"backgroundcolor\":\"rgb(234,234,242)\",\"gridcolor\":\"white\",\"gridwidth\":2,\"linecolor\":\"white\",\"showbackground\":true,\"showgrid\":true,\"ticks\":\"\",\"zerolinecolor\":\"white\"}},\"shapedefaults\":{\"fillcolor\":\"rgb(67,103,167)\",\"line\":{\"width\":0},\"opacity\":0.5},\"ternary\":{\"aaxis\":{\"gridcolor\":\"white\",\"linecolor\":\"white\",\"showgrid\":true,\"ticks\":\"\"},\"baxis\":{\"gridcolor\":\"white\",\"linecolor\":\"white\",\"showgrid\":true,\"ticks\":\"\"},\"bgcolor\":\"rgb(234,234,242)\",\"caxis\":{\"gridcolor\":\"white\",\"linecolor\":\"white\",\"showgrid\":true,\"ticks\":\"\"}},\"xaxis\":{\"automargin\":true,\"gridcolor\":\"white\",\"linecolor\":\"white\",\"showgrid\":true,\"ticks\":\"\",\"title\":{\"standoff\":15},\"zerolinecolor\":\"white\"},\"yaxis\":{\"automargin\":true,\"gridcolor\":\"white\",\"linecolor\":\"white\",\"showgrid\":true,\"ticks\":\"\",\"title\":{\"standoff\":15},\"zerolinecolor\":\"white\"}}},\"geo\":{\"domain\":{\"x\":[0.0,1.0],\"y\":[0.0,1.0]},\"center\":{},\"scope\":\"africa\"},\"coloraxis\":{\"colorbar\":{\"title\":{\"text\":\"MalariaCasesReported\"}},\"colorscale\":[[0.0,\"rgb(2,4,25)\"],[0.0625,\"rgb(24,15,41)\"],[0.125,\"rgb(47,23,57)\"],[0.1875,\"rgb(71,28,72)\"],[0.25,\"rgb(97,30,82)\"],[0.3125,\"rgb(123,30,89)\"],[0.375,\"rgb(150,27,91)\"],[0.4375,\"rgb(177,22,88)\"],[0.5,\"rgb(203,26,79)\"],[0.5625,\"rgb(223,47,67)\"],[0.625,\"rgb(236,76,61)\"],[0.6875,\"rgb(242,107,73)\"],[0.75,\"rgb(244,135,95)\"],[0.8125,\"rgb(245,162,122)\"],[0.875,\"rgb(246,188,153)\"],[0.9375,\"rgb(247,212,187)\"],[1.0,\"rgb(250,234,220)\"]]},\"legend\":{\"tracegroupgap\":0},\"title\":{\"text\":\"Malaria Cases reported per country\"},\"updatemenus\":[{\"buttons\":[{\"args\":[null,{\"frame\":{\"duration\":500,\"redraw\":true},\"mode\":\"immediate\",\"fromcurrent\":true,\"transition\":{\"duration\":500,\"easing\":\"linear\"}}],\"label\":\"&#9654;\",\"method\":\"animate\"},{\"args\":[[null],{\"frame\":{\"duration\":0,\"redraw\":true},\"mode\":\"immediate\",\"fromcurrent\":true,\"transition\":{\"duration\":0,\"easing\":\"linear\"}}],\"label\":\"&#9724;\",\"method\":\"animate\"}],\"direction\":\"left\",\"pad\":{\"r\":10,\"t\":70},\"showactive\":false,\"type\":\"buttons\",\"x\":0.1,\"xanchor\":\"right\",\"y\":0,\"yanchor\":\"top\"}],\"sliders\":[{\"active\":0,\"currentvalue\":{\"prefix\":\"Year=\"},\"len\":0.9,\"pad\":{\"b\":10,\"t\":60},\"steps\":[{\"args\":[[\"2007\"],{\"frame\":{\"duration\":0,\"redraw\":true},\"mode\":\"immediate\",\"fromcurrent\":true,\"transition\":{\"duration\":0,\"easing\":\"linear\"}}],\"label\":\"2007\",\"method\":\"animate\"},{\"args\":[[\"2008\"],{\"frame\":{\"duration\":0,\"redraw\":true},\"mode\":\"immediate\",\"fromcurrent\":true,\"transition\":{\"duration\":0,\"easing\":\"linear\"}}],\"label\":\"2008\",\"method\":\"animate\"},{\"args\":[[\"2009\"],{\"frame\":{\"duration\":0,\"redraw\":true},\"mode\":\"immediate\",\"fromcurrent\":true,\"transition\":{\"duration\":0,\"easing\":\"linear\"}}],\"label\":\"2009\",\"method\":\"animate\"},{\"args\":[[\"2010\"],{\"frame\":{\"duration\":0,\"redraw\":true},\"mode\":\"immediate\",\"fromcurrent\":true,\"transition\":{\"duration\":0,\"easing\":\"linear\"}}],\"label\":\"2010\",\"method\":\"animate\"},{\"args\":[[\"2011\"],{\"frame\":{\"duration\":0,\"redraw\":true},\"mode\":\"immediate\",\"fromcurrent\":true,\"transition\":{\"duration\":0,\"easing\":\"linear\"}}],\"label\":\"2011\",\"method\":\"animate\"},{\"args\":[[\"2012\"],{\"frame\":{\"duration\":0,\"redraw\":true},\"mode\":\"immediate\",\"fromcurrent\":true,\"transition\":{\"duration\":0,\"easing\":\"linear\"}}],\"label\":\"2012\",\"method\":\"animate\"},{\"args\":[[\"2013\"],{\"frame\":{\"duration\":0,\"redraw\":true},\"mode\":\"immediate\",\"fromcurrent\":true,\"transition\":{\"duration\":0,\"easing\":\"linear\"}}],\"label\":\"2013\",\"method\":\"animate\"},{\"args\":[[\"2014\"],{\"frame\":{\"duration\":0,\"redraw\":true},\"mode\":\"immediate\",\"fromcurrent\":true,\"transition\":{\"duration\":0,\"easing\":\"linear\"}}],\"label\":\"2014\",\"method\":\"animate\"},{\"args\":[[\"2015\"],{\"frame\":{\"duration\":0,\"redraw\":true},\"mode\":\"immediate\",\"fromcurrent\":true,\"transition\":{\"duration\":0,\"easing\":\"linear\"}}],\"label\":\"2015\",\"method\":\"animate\"},{\"args\":[[\"2016\"],{\"frame\":{\"duration\":0,\"redraw\":true},\"mode\":\"immediate\",\"fromcurrent\":true,\"transition\":{\"duration\":0,\"easing\":\"linear\"}}],\"label\":\"2016\",\"method\":\"animate\"},{\"args\":[[\"2017\"],{\"frame\":{\"duration\":0,\"redraw\":true},\"mode\":\"immediate\",\"fromcurrent\":true,\"transition\":{\"duration\":0,\"easing\":\"linear\"}}],\"label\":\"2017\",\"method\":\"animate\"}],\"x\":0.1,\"xanchor\":\"left\",\"y\":0,\"yanchor\":\"top\"}]},                        {\"responsive\": true}                    ).then(function(){\n",
       "                            Plotly.addFrames('d63c1be5-6bf9-43d7-9197-d371840174f3', [{\"data\":[{\"coloraxis\":\"coloraxis\",\"geo\":\"geo\",\"hovertemplate\":\"<b>%{hovertext}</b><br><br>Year=2007<br>CountryCode=%{location}<br>MalariaCasesReported=%{z}<extra></extra>\",\"hovertext\":[\"Algeria\",\"Angola\",\"Benin\",\"Botswana\",\"Burkina Faso\",\"Burundi\",\"Cabo Verde\",\"Cameroon\",\"Central African Republic\",\"Chad\",\"Comoros\",\"Congo, Dem. Rep.\",\"Congo, Rep.\",\"Cote d'Ivoire\",\"Djibouti\",\"Egypt, Arab Rep.\",\"Equatorial Guinea\",\"Eritrea\",\"Eswatini\",\"Ethiopia\",\"Gabon\",\"Gambia, The\",\"Ghana\",\"Guinea\",\"Guinea-Bissau\",\"Kenya\",\"Lesotho\",\"Liberia\",\"Libya\",\"Madagascar\",\"Malawi\",\"Mali\",\"Mauritania\",\"Mauritius\",\"Morocco\",\"Mozambique\",\"Namibia\",\"Niger\",\"Nigeria\",\"Rwanda\",\"Sao Tome and Principe\",\"Senegal\",\"Seychelles\",\"Sierra Leone\",\"Somalia\",\"South Africa\",\"South Sudan\",\"Sudan\",\"Tanzania\",\"Togo\",\"Tunisia\",\"Uganda\",\"Zambia\",\"Zimbabwe\"],\"locationmode\":\"ISO-3\",\"locations\":[\"DZA\",\"AGO\",\"BEN\",\"BWA\",\"BFA\",\"BDI\",\"CPV\",\"CMR\",\"CAF\",\"TCD\",\"COM\",\"COD\",\"COG\",\"CIV\",\"DJI\",\"EGY\",\"GNQ\",\"ERI\",\"SWZ\",\"ETH\",\"GAB\",\"GMB\",\"GHA\",\"GIN\",\"GNB\",\"KEN\",\"LSO\",\"LBR\",\"LBY\",\"MDG\",\"MWI\",\"MLI\",\"MRT\",\"MUS\",\"MAR\",\"MOZ\",\"NAM\",\"NER\",\"NGA\",\"RWA\",\"STP\",\"SEN\",\"SYC\",\"SLE\",\"SOM\",\"ZAF\",\"SSD\",\"SDN\",\"TZA\",\"TGO\",\"TUN\",\"UGA\",\"ZMB\",\"ZWE\"],\"name\":\"\",\"z\":[26.0,1533485.0,0.0,390.0,44246.0,1101644.0,18.0,0.0,0.0,48288.0,38913.0,740858.0,103213.0,0.0,2320.0,0.0,6287.0,15565.0,84.0,451816.0,45186.0,0.0,476484.0,44518.0,14284.0,0.0,null,492272.0,0.0,48497.0,0.0,0.0,0.0,null,0.0,141663.0,4242.0,268164.0,0.0,382686.0,2421.0,118332.0,null,0.0,16675.0,6327.0,0.0,686908.0,1845917.0,258716.0,null,1045378.0,0.0,116518.0],\"type\":\"choropleth\"}],\"name\":\"2007\"},{\"data\":[{\"coloraxis\":\"coloraxis\",\"geo\":\"geo\",\"hovertemplate\":\"<b>%{hovertext}</b><br><br>Year=2008<br>CountryCode=%{location}<br>MalariaCasesReported=%{z}<extra></extra>\",\"hovertext\":[\"Algeria\",\"Angola\",\"Benin\",\"Botswana\",\"Burkina Faso\",\"Burundi\",\"Cabo Verde\",\"Cameroon\",\"Central African Republic\",\"Comoros\",\"Chad\",\"Congo, Dem. Rep.\",\"Congo, Rep.\",\"Cote d'Ivoire\",\"Djibouti\",\"Egypt, Arab Rep.\",\"Equatorial Guinea\",\"Eritrea\",\"Eswatini\",\"Ethiopia\",\"Gabon\",\"Gambia, The\",\"Ghana\",\"Guinea\",\"Guinea-Bissau\",\"Kenya\",\"Lesotho\",\"Liberia\",\"Libya\",\"Madagascar\",\"Malawi\",\"Mali\",\"Mauritania\",\"Mauritius\",\"Morocco\",\"Mozambique\",\"Namibia\",\"Niger\",\"Nigeria\",\"Rwanda\",\"Sao Tome and Principe\",\"Senegal\",\"Seychelles\",\"Sierra Leone\",\"Somalia\",\"South Africa\",\"South Sudan\",\"Sudan\",\"Tanzania\",\"Togo\",\"Tunisia\",\"Uganda\",\"Zambia\",\"Zimbabwe\"],\"locationmode\":\"ISO-3\",\"locations\":[\"DZA\",\"AGO\",\"BEN\",\"BWA\",\"BFA\",\"BDI\",\"CPV\",\"CMR\",\"CAF\",\"COM\",\"TCD\",\"COD\",\"COG\",\"CIV\",\"DJI\",\"EGY\",\"GNQ\",\"ERI\",\"SWZ\",\"ETH\",\"GAB\",\"GMB\",\"GHA\",\"GIN\",\"GNB\",\"KEN\",\"LSO\",\"LBR\",\"LBY\",\"MDG\",\"MWI\",\"MLI\",\"MRT\",\"MUS\",\"MAR\",\"MOZ\",\"NAM\",\"NER\",\"NGA\",\"RWA\",\"STP\",\"SEN\",\"SYC\",\"SLE\",\"SOM\",\"ZAF\",\"SSD\",\"SDN\",\"TZA\",\"TGO\",\"TUN\",\"UGA\",\"ZMB\",\"ZWE\"],\"name\":\"\",\"z\":[3.0,1377992.0,0.0,927.0,36514.0,876741.0,35.0,0.0,0.0,38917.0,47757.0,2270.0,117291.0,3527.0,2289.0,0.0,9503.0,8764.0,58.0,458561.0,40701.0,39164.0,1094483.0,33405.0,11299.0,839903.0,null,606952.0,0.0,93234.0,0.0,0.0,302.0,null,0.0,120259.0,1092.0,682685.0,143079.0,316242.0,6258.0,241926.0,null,176356.0,36905.0,7796.0,52011.0,569296.0,4508.0,397283.0,null,979298.0,0.0,32788.0],\"type\":\"choropleth\"}],\"name\":\"2008\"},{\"data\":[{\"coloraxis\":\"coloraxis\",\"geo\":\"geo\",\"hovertemplate\":\"<b>%{hovertext}</b><br><br>Year=2009<br>CountryCode=%{location}<br>MalariaCasesReported=%{z}<extra></extra>\",\"hovertext\":[\"Algeria\",\"Angola\",\"Benin\",\"Botswana\",\"Burkina Faso\",\"Burundi\",\"Cabo Verde\",\"Cameroon\",\"Central African Republic\",\"Chad\",\"Comoros\",\"Congo, Dem. Rep.\",\"Congo, Rep.\",\"Cote d'Ivoire\",\"Djibouti\",\"Egypt, Arab Rep.\",\"Equatorial Guinea\",\"Eritrea\",\"Eswatini\",\"Ethiopia\",\"Gabon\",\"Gambia, The\",\"Ghana\",\"Guinea\",\"Guinea-Bissau\",\"Kenya\",\"Lesotho\",\"Liberia\",\"Libya\",\"Madagascar\",\"Malawi\",\"Mali\",\"Mauritania\",\"Mauritius\",\"Morocco\",\"Mozambique\",\"Namibia\",\"Niger\",\"Nigeria\",\"Rwanda\",\"Sao Tome and Principe\",\"Senegal\",\"Seychelles\",\"Sierra Leone\",\"Somalia\",\"South Africa\",\"South Sudan\",\"Sudan\",\"Tanzania\",\"Togo\",\"Tunisia\",\"Uganda\",\"Zambia\",\"Zimbabwe\"],\"locationmode\":\"ISO-3\",\"locations\":[\"DZA\",\"AGO\",\"BEN\",\"BWA\",\"BFA\",\"BDI\",\"CPV\",\"CMR\",\"CAF\",\"TCD\",\"COM\",\"COD\",\"COG\",\"CIV\",\"DJI\",\"EGY\",\"GNQ\",\"ERI\",\"SWZ\",\"ETH\",\"GAB\",\"GMB\",\"GHA\",\"GIN\",\"GNB\",\"KEN\",\"LSO\",\"LBR\",\"LBY\",\"MDG\",\"MWI\",\"MLI\",\"MRT\",\"MUS\",\"MAR\",\"MOZ\",\"NAM\",\"NER\",\"NGA\",\"RWA\",\"STP\",\"SEN\",\"SYC\",\"SLE\",\"SOM\",\"ZAF\",\"SSD\",\"SDN\",\"TZA\",\"TGO\",\"TUN\",\"UGA\",\"ZMB\",\"ZWE\"],\"name\":\"\",\"z\":[0.0,1573422.0,889597.0,1024.0,182527.0,1185622.0,65.0,0.0,0.0,0.0,38920.0,1879694.0,92855.0,7388.0,2686.0,0.0,14184.0,11759.0,106.0,1144640.0,660.0,50378.0,1104370.0,35841.0,11757.0,0.0,null,839581.0,0.0,215110.0,0.0,0.0,940.0,null,0.0,93874.0,505.0,309675.0,479845.0,698745.0,6182.0,165933.0,null,646808.0,25202.0,6072.0,0.0,711462.0,211.0,571611.0,null,1301337.0,0.0,114028.0],\"type\":\"choropleth\"}],\"name\":\"2009\"},{\"data\":[{\"coloraxis\":\"coloraxis\",\"geo\":\"geo\",\"hovertemplate\":\"<b>%{hovertext}</b><br><br>Year=2010<br>CountryCode=%{location}<br>MalariaCasesReported=%{z}<extra></extra>\",\"hovertext\":[\"Algeria\",\"Angola\",\"Benin\",\"Botswana\",\"Burkina Faso\",\"Burundi\",\"Cabo Verde\",\"Cameroon\",\"Central African Republic\",\"Chad\",\"Comoros\",\"Congo, Dem. Rep.\",\"Congo, Rep.\",\"Cote d'Ivoire\",\"Djibouti\",\"Egypt, Arab Rep.\",\"Equatorial Guinea\",\"Eritrea\",\"Eswatini\",\"Ethiopia\",\"Gabon\",\"Gambia, The\",\"Ghana\",\"Guinea\",\"Guinea-Bissau\",\"Kenya\",\"Lesotho\",\"Liberia\",\"Libya\",\"Madagascar\",\"Malawi\",\"Mali\",\"Mauritania\",\"Mauritius\",\"Morocco\",\"Mozambique\",\"Namibia\",\"Niger\",\"Nigeria\",\"Rwanda\",\"Sao Tome and Principe\",\"Senegal\",\"Seychelles\",\"Sierra Leone\",\"Somalia\",\"South Africa\",\"South Sudan\",\"Sudan\",\"Tanzania\",\"Togo\",\"Tunisia\",\"Uganda\",\"Zambia\",\"Zimbabwe\"],\"locationmode\":\"ISO-3\",\"locations\":[\"DZA\",\"AGO\",\"BEN\",\"BWA\",\"BFA\",\"BDI\",\"CPV\",\"CMR\",\"CAF\",\"TCD\",\"COM\",\"COD\",\"COG\",\"CIV\",\"DJI\",\"EGY\",\"GNQ\",\"ERI\",\"SWZ\",\"ETH\",\"GAB\",\"GMB\",\"GHA\",\"GIN\",\"GNB\",\"KEN\",\"LSO\",\"LBR\",\"LBY\",\"MDG\",\"MWI\",\"MLI\",\"MRT\",\"MUS\",\"MAR\",\"MOZ\",\"NAM\",\"NER\",\"NGA\",\"RWA\",\"STP\",\"SEN\",\"SYC\",\"SLE\",\"SOM\",\"ZAF\",\"SSD\",\"SDN\",\"TZA\",\"TGO\",\"TUN\",\"UGA\",\"ZMB\",\"ZWE\"],\"name\":\"\",\"z\":[1.0,1682870.0,0.0,1046.0,804539.0,1763447.0,47.0,0.0,0.0,200448.0,36538.0,2417780.0,0.0,62726.0,1010.0,0.0,53813.0,35982.0,268.0,1158197.0,13936.0,116353.0,1071637.0,20936.0,50391.0,898531.0,null,922173.0,0.0,202450.0,0.0,239787.0,6367.0,null,0.0,1522577.0,556.0,642774.0,551187.0,669322.0,2740.0,330331.0,null,934028.0,24833.0,8060.0,900283.0,720557.0,1278998.0,1006702.0,null,1581160.0,0.0,249379.0],\"type\":\"choropleth\"}],\"name\":\"2010\"},{\"data\":[{\"coloraxis\":\"coloraxis\",\"geo\":\"geo\",\"hovertemplate\":\"<b>%{hovertext}</b><br><br>Year=2011<br>CountryCode=%{location}<br>MalariaCasesReported=%{z}<extra></extra>\",\"hovertext\":[\"Algeria\",\"Angola\",\"Benin\",\"Botswana\",\"Burkina Faso\",\"Burundi\",\"Cabo Verde\",\"Cameroon\",\"Central African Republic\",\"Chad\",\"Comoros\",\"Congo, Dem. Rep.\",\"Congo, Rep.\",\"Cote d'Ivoire\",\"Djibouti\",\"Egypt, Arab Rep.\",\"Equatorial Guinea\",\"Eritrea\",\"Eswatini\",\"Ethiopia\",\"Gabon\",\"Gambia, The\",\"Ghana\",\"Guinea\",\"Guinea-Bissau\",\"Kenya\",\"Lesotho\",\"Liberia\",\"Libya\",\"Madagascar\",\"Malawi\",\"Mali\",\"Mauritania\",\"Mauritius\",\"Morocco\",\"Mozambique\",\"Namibia\",\"Niger\",\"Nigeria\",\"Rwanda\",\"Sao Tome and Principe\",\"Senegal\",\"Seychelles\",\"Sierra Leone\",\"Somalia\",\"South Africa\",\"South Sudan\",\"Sudan\",\"Tanzania\",\"Togo\",\"Tunisia\",\"Uganda\",\"Zambia\",\"Zimbabwe\"],\"locationmode\":\"ISO-3\",\"locations\":[\"DZA\",\"AGO\",\"BEN\",\"BWA\",\"BFA\",\"BDI\",\"CPV\",\"CMR\",\"CAF\",\"TCD\",\"COM\",\"COD\",\"COG\",\"CIV\",\"DJI\",\"EGY\",\"GNQ\",\"ERI\",\"SWZ\",\"ETH\",\"GAB\",\"GMB\",\"GHA\",\"GIN\",\"GNB\",\"KEN\",\"LSO\",\"LBR\",\"LBY\",\"MDG\",\"MWI\",\"MLI\",\"MRT\",\"MUS\",\"MAR\",\"MOZ\",\"NAM\",\"NER\",\"NGA\",\"RWA\",\"STP\",\"SEN\",\"SYC\",\"SLE\",\"SOM\",\"ZAF\",\"SSD\",\"SDN\",\"TZA\",\"TGO\",\"TUN\",\"UGA\",\"ZMB\",\"ZWE\"],\"name\":\"\",\"z\":[1.0,1632282.0,68745.0,432.0,428113.0,1575237.0,7.0,33086.0,0.0,181126.0,24856.0,4561981.0,37744.0,29976.0,2189.0,0.0,22466.0,34848.0,549.0,1480306.0,0.0,268020.0,1041260.0,95574.0,71982.0,1002805.0,null,1921159.0,0.0,224498.0,304499.0,307035.0,5991.0,null,0.0,1756874.0,1860.0,838585.0,0.0,273293.0,8442.0,274119.0,null,638859.0,3351.0,9866.0,112024.0,506806.0,2150761.0,519450.0,null,231873.0,0.0,319935.0],\"type\":\"choropleth\"}],\"name\":\"2011\"},{\"data\":[{\"coloraxis\":\"coloraxis\",\"geo\":\"geo\",\"hovertemplate\":\"<b>%{hovertext}</b><br><br>Year=2012<br>CountryCode=%{location}<br>MalariaCasesReported=%{z}<extra></extra>\",\"hovertext\":[\"Algeria\",\"Angola\",\"Benin\",\"Botswana\",\"Burkina Faso\",\"Burundi\",\"Cabo Verde\",\"Cameroon\",\"Central African Republic\",\"Chad\",\"Comoros\",\"Congo, Dem. Rep.\",\"Congo, Rep.\",\"Cote d'Ivoire\",\"Djibouti\",\"Egypt, Arab Rep.\",\"Equatorial Guinea\",\"Eritrea\",\"Eswatini\",\"Ethiopia\",\"Gabon\",\"Gambia, The\",\"Ghana\",\"Guinea\",\"Guinea-Bissau\",\"Kenya\",\"Lesotho\",\"Liberia\",\"Libya\",\"Madagascar\",\"Malawi\",\"Mali\",\"Mauritania\",\"Mauritius\",\"Morocco\",\"Mozambique\",\"Namibia\",\"Niger\",\"Nigeria\",\"Rwanda\",\"Sao Tome and Principe\",\"Senegal\",\"Seychelles\",\"Sierra Leone\",\"Somalia\",\"South Africa\",\"South Sudan\",\"Sudan\",\"Tanzania\",\"Togo\",\"Tunisia\",\"Uganda\",\"Zambia\",\"Zimbabwe\"],\"locationmode\":\"ISO-3\",\"locations\":[\"DZA\",\"AGO\",\"BEN\",\"BWA\",\"BFA\",\"BDI\",\"CPV\",\"CMR\",\"CAF\",\"TCD\",\"COM\",\"COD\",\"COG\",\"CIV\",\"DJI\",\"EGY\",\"GNQ\",\"ERI\",\"SWZ\",\"ETH\",\"GAB\",\"GMB\",\"GHA\",\"GIN\",\"GNB\",\"KEN\",\"LSO\",\"LBR\",\"LBY\",\"MDG\",\"MWI\",\"MLI\",\"MRT\",\"MUS\",\"MAR\",\"MOZ\",\"NAM\",\"NER\",\"NGA\",\"RWA\",\"STP\",\"SEN\",\"SYC\",\"SLE\",\"SOM\",\"ZAF\",\"SSD\",\"SDN\",\"TZA\",\"TGO\",\"TUN\",\"UGA\",\"ZMB\",\"ZWE\"],\"name\":\"\",\"z\":[55.0,1496834.0,705839.0,193.0,3858046.0,2166690.0,1.0,66656.0,87566.0,7710.0,49840.0,4791598.0,120319.0,1140627.0,2153.0,0.0,15169.0,21815.0,562.0,1692578.0,19753.0,313469.0,3755166.0,340258.0,50381.0,1453471.0,null,1412629.0,0.0,402900.0,1564984.0,968136.0,9037.0,null,0.0,1853276.0,194.0,2329260.0,0.0,563852.0,10701.0,280241.0,null,1537322.0,35712.0,6621.0,225371.0,526931.0,1986955.0,909129.0,null,2662258.0,0.0,276963.0],\"type\":\"choropleth\"}],\"name\":\"2012\"},{\"data\":[{\"coloraxis\":\"coloraxis\",\"geo\":\"geo\",\"hovertemplate\":\"<b>%{hovertext}</b><br><br>Year=2013<br>CountryCode=%{location}<br>MalariaCasesReported=%{z}<extra></extra>\",\"hovertext\":[\"Algeria\",\"Angola\",\"Benin\",\"Botswana\",\"Burkina Faso\",\"Burundi\",\"Cabo Verde\",\"Cameroon\",\"Central African Republic\",\"Chad\",\"Comoros\",\"Congo, Dem. Rep.\",\"Congo, Rep.\",\"Cote d'Ivoire\",\"Djibouti\",\"Egypt, Arab Rep.\",\"Equatorial Guinea\",\"Eritrea\",\"Eswatini\",\"Ethiopia\",\"Gabon\",\"Gambia, The\",\"Ghana\",\"Guinea\",\"Guinea-Bissau\",\"Kenya\",\"Lesotho\",\"Liberia\",\"Libya\",\"Madagascar\",\"Malawi\",\"Mali\",\"Mauritania\",\"Mauritius\",\"Morocco\",\"Mozambique\",\"Namibia\",\"Niger\",\"Nigeria\",\"Rwanda\",\"Sao Tome and Principe\",\"Senegal\",\"Seychelles\",\"Sierra Leone\",\"Somalia\",\"South Africa\",\"South Sudan\",\"Sudan\",\"Tanzania\",\"Togo\",\"Tunisia\",\"Uganda\",\"Zambia\",\"Zimbabwe\"],\"locationmode\":\"ISO-3\",\"locations\":[\"DZA\",\"AGO\",\"BEN\",\"BWA\",\"BFA\",\"BDI\",\"CPV\",\"CMR\",\"CAF\",\"TCD\",\"COM\",\"COD\",\"COG\",\"CIV\",\"DJI\",\"EGY\",\"GNQ\",\"ERI\",\"SWZ\",\"ETH\",\"GAB\",\"GMB\",\"GHA\",\"GIN\",\"GNB\",\"KEN\",\"LSO\",\"LBR\",\"LBY\",\"MDG\",\"MWI\",\"MLI\",\"MRT\",\"MUS\",\"MAR\",\"MOZ\",\"NAM\",\"NER\",\"NGA\",\"RWA\",\"STP\",\"SEN\",\"SYC\",\"SLE\",\"SOM\",\"ZAF\",\"SSD\",\"SDN\",\"TZA\",\"TGO\",\"TUN\",\"UGA\",\"ZMB\",\"ZWE\"],\"name\":\"\",\"z\":[8.0,1999868.0,1090602.0,456.0,3769051.0,4178338.0,22.0,69232.0,163701.0,754565.0,53156.0,6719887.0,43232.0,2524326.0,1684.0,0.0,16405.0,21317.0,962.0,2645454.0,28982.0,242513.0,1639451.0,211257.0,54584.0,2375129.0,null,1244220.0,0.0,433450.0,1280892.0,1506940.0,13085.0,null,0.0,3282172.0,4911.0,2373591.0,0.0,1040557.0,9243.0,366687.0,null,1701958.0,8944.0,8645.0,262520.0,592383.0,1550250.0,965334.0,null,1502362.0,0.0,422633.0],\"type\":\"choropleth\"}],\"name\":\"2013\"},{\"data\":[{\"coloraxis\":\"coloraxis\",\"geo\":\"geo\",\"hovertemplate\":\"<b>%{hovertext}</b><br><br>Year=2014<br>CountryCode=%{location}<br>MalariaCasesReported=%{z}<extra></extra>\",\"hovertext\":[\"Algeria\",\"Angola\",\"Benin\",\"Botswana\",\"Burkina Faso\",\"Burundi\",\"Cabo Verde\",\"Cameroon\",\"Central African Republic\",\"Chad\",\"Comoros\",\"Congo, Dem. Rep.\",\"Congo, Rep.\",\"Cote d'Ivoire\",\"Djibouti\",\"Egypt, Arab Rep.\",\"Equatorial Guinea\",\"Eritrea\",\"Eswatini\",\"Ethiopia\",\"Gabon\",\"Gambia, The\",\"Ghana\",\"Guinea\",\"Guinea-Bissau\",\"Kenya\",\"Lesotho\",\"Liberia\",\"Libya\",\"Madagascar\",\"Malawi\",\"Mali\",\"Mauritania\",\"Mauritius\",\"Morocco\",\"Mozambique\",\"Namibia\",\"Niger\",\"Nigeria\",\"Rwanda\",\"Sao Tome and Principe\",\"Senegal\",\"Seychelles\",\"Sierra Leone\",\"Somalia\",\"South Africa\",\"South Sudan\",\"Sudan\",\"Tanzania\",\"Togo\",\"Tunisia\",\"Uganda\",\"Zambia\",\"Zimbabwe\"],\"locationmode\":\"ISO-3\",\"locations\":[\"DZA\",\"AGO\",\"BEN\",\"BWA\",\"BFA\",\"BDI\",\"CPV\",\"CMR\",\"CAF\",\"TCD\",\"COM\",\"COD\",\"COG\",\"CIV\",\"DJI\",\"EGY\",\"GNQ\",\"ERI\",\"SWZ\",\"ETH\",\"GAB\",\"GMB\",\"GHA\",\"GIN\",\"GNB\",\"KEN\",\"LSO\",\"LBR\",\"LBY\",\"MDG\",\"MWI\",\"MLI\",\"MRT\",\"MUS\",\"MAR\",\"MOZ\",\"NAM\",\"NER\",\"NGA\",\"RWA\",\"STP\",\"SEN\",\"SYC\",\"SLE\",\"SOM\",\"ZAF\",\"SSD\",\"SDN\",\"TZA\",\"TGO\",\"TUN\",\"UGA\",\"ZMB\",\"ZWE\"],\"name\":\"\",\"z\":[0.0,2298979.0,1130558.0,1346.0,5428655.0,4726299.0,26.0,0.0,295088.0,914032.0,2203.0,10288519.0,66323.0,3712831.0,9439.0,0.0,20417.0,50534.0,711.0,2118815.0,31900.0,168256.0,3415912.0,660207.0,93431.0,2851555.0,null,881224.0,0.0,468743.0,2905310.0,2220956.0,15835.0,null,0.0,7407175.0,15914.0,2010489.0,7826954.0,1719904.0,1754.0,268912.0,null,1374476.0,11001.0,11705.0,71377.0,1068506.0,680442.0,1524339.0,null,3631939.0,4077547.0,548276.0],\"type\":\"choropleth\"}],\"name\":\"2014\"},{\"data\":[{\"coloraxis\":\"coloraxis\",\"geo\":\"geo\",\"hovertemplate\":\"<b>%{hovertext}</b><br><br>Year=2015<br>CountryCode=%{location}<br>MalariaCasesReported=%{z}<extra></extra>\",\"hovertext\":[\"Algeria\",\"Angola\",\"Benin\",\"Botswana\",\"Burkina Faso\",\"Burundi\",\"Cabo Verde\",\"Cameroon\",\"Central African Republic\",\"Chad\",\"Comoros\",\"Congo, Dem. Rep.\",\"Congo, Rep.\",\"Cote d'Ivoire\",\"Djibouti\",\"Egypt, Arab Rep.\",\"Equatorial Guinea\",\"Eritrea\",\"Eswatini\",\"Ethiopia\",\"Gabon\",\"Gambia, The\",\"Ghana\",\"Guinea\",\"Guinea-Bissau\",\"Kenya\",\"Lesotho\",\"Liberia\",\"Libya\",\"Madagascar\",\"Malawi\",\"Mali\",\"Mauritania\",\"Mauritius\",\"Morocco\",\"Mozambique\",\"Namibia\",\"Niger\",\"Nigeria\",\"Rwanda\",\"Sao Tome and Principe\",\"Senegal\",\"Seychelles\",\"Sierra Leone\",\"Somalia\",\"South Africa\",\"South Sudan\",\"Sudan\",\"Tanzania\",\"Togo\",\"Tunisia\",\"Uganda\",\"Zambia\",\"Zimbabwe\"],\"locationmode\":\"ISO-3\",\"locations\":[\"DZA\",\"AGO\",\"BEN\",\"BWA\",\"BFA\",\"BDI\",\"CPV\",\"CMR\",\"CAF\",\"TCD\",\"COM\",\"COD\",\"COG\",\"CIV\",\"DJI\",\"EGY\",\"GNQ\",\"ERI\",\"SWZ\",\"ETH\",\"GAB\",\"GMB\",\"GHA\",\"GIN\",\"GNB\",\"KEN\",\"LSO\",\"LBR\",\"LBY\",\"MDG\",\"MWI\",\"MLI\",\"MRT\",\"MUS\",\"MAR\",\"MOZ\",\"NAM\",\"NER\",\"NGA\",\"RWA\",\"STP\",\"SEN\",\"SYC\",\"SLE\",\"SOM\",\"ZAF\",\"SSD\",\"SDN\",\"TZA\",\"TGO\",\"TUN\",\"UGA\",\"ZMB\",\"ZWE\"],\"name\":\"\",\"z\":[0.0,2769305.0,1524739.0,326.0,7015446.0,5428710.0,7.0,1193281.0,598833.0,787046.0,1300.0,12538805.0,51529.0,3375904.0,9473.0,0.0,15142.0,28036.0,157.0,1867059.0,23867.0,245435.0,4319919.0,810979.0,146027.0,1581168.0,null,941711.0,0.0,937241.0,3661238.0,2454508.0,22631.0,null,0.0,8222814.0,12168.0,2392108.0,7131972.0,2694566.0,2058.0,492253.0,null,1483376.0,20953.0,1157.0,24371.0,586827.0,4241364.0,1508015.0,null,7137662.0,4184661.0,482379.0],\"type\":\"choropleth\"}],\"name\":\"2015\"},{\"data\":[{\"coloraxis\":\"coloraxis\",\"geo\":\"geo\",\"hovertemplate\":\"<b>%{hovertext}</b><br><br>Year=2016<br>CountryCode=%{location}<br>MalariaCasesReported=%{z}<extra></extra>\",\"hovertext\":[\"Algeria\",\"Angola\",\"Benin\",\"Botswana\",\"Burkina Faso\",\"Burundi\",\"Cabo Verde\",\"Cameroon\",\"Central African Republic\",\"Chad\",\"Comoros\",\"Congo, Dem. Rep.\",\"Congo, Rep.\",\"Cote d'Ivoire\",\"Djibouti\",\"Egypt, Arab Rep.\",\"Equatorial Guinea\",\"Eritrea\",\"Eswatini\",\"Ethiopia\",\"Gabon\",\"Gambia, The\",\"Ghana\",\"Guinea\",\"Guinea-Bissau\",\"Kenya\",\"Lesotho\",\"Liberia\",\"Libya\",\"Madagascar\",\"Malawi\",\"Mali\",\"Mauritania\",\"Mauritius\",\"Morocco\",\"Mozambique\",\"Namibia\",\"Niger\",\"Nigeria\",\"Rwanda\",\"Sao Tome and Principe\",\"Senegal\",\"Seychelles\",\"Sierra Leone\",\"Somalia\",\"South Africa\",\"South Sudan\",\"Sudan\",\"Tanzania\",\"Togo\",\"Tunisia\",\"Uganda\",\"Zambia\",\"Zimbabwe\"],\"locationmode\":\"ISO-3\",\"locations\":[\"DZA\",\"AGO\",\"BEN\",\"BWA\",\"BFA\",\"BDI\",\"CPV\",\"CMR\",\"CAF\",\"TCD\",\"COM\",\"COD\",\"COG\",\"CIV\",\"DJI\",\"EGY\",\"GNQ\",\"ERI\",\"SWZ\",\"ETH\",\"GAB\",\"GMB\",\"GHA\",\"GIN\",\"GNB\",\"KEN\",\"LSO\",\"LBR\",\"LBY\",\"MDG\",\"MWI\",\"MLI\",\"MRT\",\"MUS\",\"MAR\",\"MOZ\",\"NAM\",\"NER\",\"NGA\",\"RWA\",\"STP\",\"SEN\",\"SYC\",\"SLE\",\"SOM\",\"ZAF\",\"SSD\",\"SDN\",\"TZA\",\"TGO\",\"TUN\",\"UGA\",\"ZMB\",\"ZWE\"],\"name\":\"\",\"z\":[0.0,3794253.0,1395618.0,716.0,9779411.0,8793176.0,48.0,1694002.0,1032764.0,1294768.0,1143.0,16821130.0,171847.0,3645081.0,13804.0,0.0,147714.0,24251.0,350.0,1718504.0,23915.0,159997.0,4505442.0,992146.0,152404.0,2931406.0,null,1191137.0,0.0,655480.0,4827373.0,2311098.0,23042.0,null,0.0,9690873.0,25198.0,4258110.0,12293820.0,4725577.0,2238.0,349540.0,null,1775306.0,35628.0,4323.0,7619.0,575015.0,5188863.0,1746234.0,null,9385132.0,4851319.0,314003.0],\"type\":\"choropleth\"}],\"name\":\"2016\"},{\"data\":[{\"coloraxis\":\"coloraxis\",\"geo\":\"geo\",\"hovertemplate\":\"<b>%{hovertext}</b><br><br>Year=2017<br>CountryCode=%{location}<br>MalariaCasesReported=%{z}<extra></extra>\",\"hovertext\":[\"Algeria\",\"Angola\",\"Benin\",\"Botswana\",\"Burkina Faso\",\"Burundi\",\"Cabo Verde\",\"Cameroon\",\"Central African Republic\",\"Chad\",\"Comoros\",\"Congo, Dem. Rep.\",\"Congo, Rep.\",\"Cote d'Ivoire\",\"Djibouti\",\"Egypt, Arab Rep.\",\"Equatorial Guinea\",\"Eritrea\",\"Eswatini\",\"Ethiopia\",\"Gabon\",\"Gambia, The\",\"Ghana\",\"Guinea\",\"Guinea-Bissau\",\"Kenya\",\"Lesotho\",\"Liberia\",\"Libya\",\"Madagascar\",\"Malawi\",\"Mali\",\"Mauritania\",\"Mauritius\",\"Morocco\",\"Mozambique\",\"Namibia\",\"Niger\",\"Nigeria\",\"Rwanda\",\"Sao Tome and Principe\",\"Senegal\",\"Seychelles\",\"Sierra Leone\",\"Somalia\",\"South Africa\",\"South Sudan\",\"Sudan\",\"Tanzania\",\"Togo\",\"Tunisia\",\"Uganda\",\"Zambia\",\"Zimbabwe\"],\"locationmode\":\"ISO-3\",\"locations\":[\"DZA\",\"AGO\",\"BEN\",\"BWA\",\"BFA\",\"BDI\",\"CPV\",\"CMR\",\"CAF\",\"TCD\",\"COM\",\"COD\",\"COG\",\"CIV\",\"DJI\",\"EGY\",\"GNQ\",\"ERI\",\"SWZ\",\"ETH\",\"GAB\",\"GMB\",\"GHA\",\"GIN\",\"GNB\",\"KEN\",\"LSO\",\"LBR\",\"LBY\",\"MDG\",\"MWI\",\"MLI\",\"MRT\",\"MUS\",\"MAR\",\"MOZ\",\"NAM\",\"NER\",\"NGA\",\"RWA\",\"STP\",\"SEN\",\"SYC\",\"SLE\",\"SOM\",\"ZAF\",\"SSD\",\"SDN\",\"TZA\",\"TGO\",\"TUN\",\"UGA\",\"ZMB\",\"ZWE\"],\"name\":\"\",\"z\":[0.0,3874892.0,1774022.0,1900.0,10255415.0,8453810.0,423.0,1317371.0,383309.0,1962372.0,3230.0,16793002.0,127939.0,3475953.0,14671.0,0.0,15725.0,54005.0,724.0,1530739.0,35244.0,72412.0,5584185.0,1335323.0,92846.0,3419883.0,null,1783968.0,0.0,935229.0,4901344.0,2097797.0,20105.0,null,0.0,9892601.0,54268.0,2761268.0,11639713.0,4413473.0,2239.0,395706.0,null,1651236.0,35138.0,22517.0,1488005.0,720879.0,5354819.0,1755577.0,null,11667831.0,5505639.0,467508.0],\"type\":\"choropleth\"}],\"name\":\"2017\"}]);\n",
       "                        }).then(function(){\n",
       "                            \n",
       "var gd = document.getElementById('d63c1be5-6bf9-43d7-9197-d371840174f3');\n",
       "var x = new MutationObserver(function (mutations, observer) {{\n",
       "        var display = window.getComputedStyle(gd).display;\n",
       "        if (!display || display === 'none') {{\n",
       "            console.log([gd, 'removed!']);\n",
       "            Plotly.purge(gd);\n",
       "            observer.disconnect();\n",
       "        }}\n",
       "}});\n",
       "\n",
       "// Listen for the removal of the full notebook cells\n",
       "var notebookContainer = gd.closest('#notebook-container');\n",
       "if (notebookContainer) {{\n",
       "    x.observe(notebookContainer, {childList: true});\n",
       "}}\n",
       "\n",
       "// Listen for the clearing of the current output cell\n",
       "var outputEl = gd.closest('.output');\n",
       "if (outputEl) {{\n",
       "    x.observe(outputEl, {childList: true});\n",
       "}}\n",
       "\n",
       "                        })                };                });            </script>        </div>"
      ]
     },
     "metadata": {},
     "output_type": "display_data"
    }
   ],
   "source": [
    "fig_1 = px.choropleth(malaria_data,locations=\"CountryCode\",locationmode=\"ISO-3\",animation_frame='Year',\n",
    "                      title=\"Malaria Cases reported per country\",\n",
    "                    color=\"MalariaCasesReported\", \n",
    "                    hover_name=\"CountryName\", scope='africa',template ='seaborn'\n",
    "                    )\n",
    "fig_1.show()"
   ]
  },
  {
   "cell_type": "markdown",
   "id": "43fe64b5",
   "metadata": {},
   "source": [
    "### \tDrop rows with missing values for no incidence of Malaria and  malaria cases reported"
   ]
  },
  {
   "cell_type": "code",
   "execution_count": 89,
   "id": "1417f676",
   "metadata": {},
   "outputs": [
    {
     "data": {
      "text/plain": [
       "44"
      ]
     },
     "execution_count": 89,
     "metadata": {},
     "output_type": "execute_result"
    }
   ],
   "source": [
    "#count the number of missing incidence of malaria\n",
    "malaria_data['IncidenceOfMalaria'].isna().sum()"
   ]
  },
  {
   "cell_type": "code",
   "execution_count": 90,
   "id": "16c569ee",
   "metadata": {},
   "outputs": [
    {
     "data": {
      "text/plain": [
       "44"
      ]
     },
     "execution_count": 90,
     "metadata": {},
     "output_type": "execute_result"
    }
   ],
   "source": [
    "#count the number of missing malaria cases reported\n",
    "malaria_data['MalariaCasesReported'].isna().sum()"
   ]
  },
  {
   "cell_type": "code",
   "execution_count": 91,
   "id": "2595f047",
   "metadata": {
    "scrolled": true
   },
   "outputs": [
    {
     "data": {
      "text/html": [
       "<div>\n",
       "<style scoped>\n",
       "    .dataframe tbody tr th:only-of-type {\n",
       "        vertical-align: middle;\n",
       "    }\n",
       "\n",
       "    .dataframe tbody tr th {\n",
       "        vertical-align: top;\n",
       "    }\n",
       "\n",
       "    .dataframe thead th {\n",
       "        text-align: right;\n",
       "    }\n",
       "</style>\n",
       "<table border=\"1\" class=\"dataframe\">\n",
       "  <thead>\n",
       "    <tr style=\"text-align: right;\">\n",
       "      <th></th>\n",
       "      <th>CountryName</th>\n",
       "      <th>Year</th>\n",
       "      <th>CountryCode</th>\n",
       "      <th>IncidenceOfMalaria</th>\n",
       "      <th>MalariaCasesReported</th>\n",
       "      <th>UseOfInsecticideTreatedBedNets</th>\n",
       "      <th>ChildrenWithFeverReceivingAntimalarialDrugs</th>\n",
       "      <th>IPTofMalariaInPregnancy</th>\n",
       "      <th>PUSMDWS(%oOfpopulation)</th>\n",
       "      <th>PUSMDWS(%oOfRuralpopulation)</th>\n",
       "      <th>...</th>\n",
       "      <th>UrbanPopulationGrowth</th>\n",
       "      <th>PUABDWS(%oOfpopulation)</th>\n",
       "      <th>PUABDWS(%oOfRuralpopulation)</th>\n",
       "      <th>PUABDWS(%oOfUrbanpopulation)</th>\n",
       "      <th>PUABSS(%oOfpopulation)</th>\n",
       "      <th>PUABSS(%oOfRuralpopulation)</th>\n",
       "      <th>PUABSS(%oOfUrbanpopulation)</th>\n",
       "      <th>Latitude</th>\n",
       "      <th>Longitude</th>\n",
       "      <th>Geometry</th>\n",
       "    </tr>\n",
       "  </thead>\n",
       "  <tbody>\n",
       "    <tr>\n",
       "      <th>0</th>\n",
       "      <td>Algeria</td>\n",
       "      <td>2007</td>\n",
       "      <td>DZA</td>\n",
       "      <td>0.01</td>\n",
       "      <td>26.0</td>\n",
       "      <td>NaN</td>\n",
       "      <td>NaN</td>\n",
       "      <td>NaN</td>\n",
       "      <td>NaN</td>\n",
       "      <td>NaN</td>\n",
       "      <td>...</td>\n",
       "      <td>2.71</td>\n",
       "      <td>91.68</td>\n",
       "      <td>85.83</td>\n",
       "      <td>94.78</td>\n",
       "      <td>85.85</td>\n",
       "      <td>76.94</td>\n",
       "      <td>90.57</td>\n",
       "      <td>28.033886</td>\n",
       "      <td>1.659626</td>\n",
       "      <td>POINT (28.033886 1.659626)</td>\n",
       "    </tr>\n",
       "    <tr>\n",
       "      <th>1</th>\n",
       "      <td>Angola</td>\n",
       "      <td>2007</td>\n",
       "      <td>AGO</td>\n",
       "      <td>286.72</td>\n",
       "      <td>1533485.0</td>\n",
       "      <td>18.0</td>\n",
       "      <td>29.8</td>\n",
       "      <td>1.5</td>\n",
       "      <td>NaN</td>\n",
       "      <td>NaN</td>\n",
       "      <td>...</td>\n",
       "      <td>5.01</td>\n",
       "      <td>47.96</td>\n",
       "      <td>23.77</td>\n",
       "      <td>65.83</td>\n",
       "      <td>37.26</td>\n",
       "      <td>14.00</td>\n",
       "      <td>54.44</td>\n",
       "      <td>-11.202692</td>\n",
       "      <td>17.873887</td>\n",
       "      <td>POINT (-11.202692 17.873887)</td>\n",
       "    </tr>\n",
       "    <tr>\n",
       "      <th>2</th>\n",
       "      <td>Benin</td>\n",
       "      <td>2007</td>\n",
       "      <td>BEN</td>\n",
       "      <td>480.24</td>\n",
       "      <td>0.0</td>\n",
       "      <td>NaN</td>\n",
       "      <td>NaN</td>\n",
       "      <td>NaN</td>\n",
       "      <td>NaN</td>\n",
       "      <td>NaN</td>\n",
       "      <td>...</td>\n",
       "      <td>4.09</td>\n",
       "      <td>63.78</td>\n",
       "      <td>54.92</td>\n",
       "      <td>76.24</td>\n",
       "      <td>11.80</td>\n",
       "      <td>4.29</td>\n",
       "      <td>22.36</td>\n",
       "      <td>9.307690</td>\n",
       "      <td>2.315834</td>\n",
       "      <td>POINT (9.307689999999999 2.315834)</td>\n",
       "    </tr>\n",
       "    <tr>\n",
       "      <th>3</th>\n",
       "      <td>Botswana</td>\n",
       "      <td>2007</td>\n",
       "      <td>BWA</td>\n",
       "      <td>1.03</td>\n",
       "      <td>390.0</td>\n",
       "      <td>NaN</td>\n",
       "      <td>NaN</td>\n",
       "      <td>NaN</td>\n",
       "      <td>NaN</td>\n",
       "      <td>NaN</td>\n",
       "      <td>...</td>\n",
       "      <td>4.80</td>\n",
       "      <td>78.89</td>\n",
       "      <td>57.60</td>\n",
       "      <td>94.35</td>\n",
       "      <td>61.60</td>\n",
       "      <td>39.99</td>\n",
       "      <td>77.30</td>\n",
       "      <td>-22.328474</td>\n",
       "      <td>24.684866</td>\n",
       "      <td>POINT (-22.328474 24.684866)</td>\n",
       "    </tr>\n",
       "    <tr>\n",
       "      <th>4</th>\n",
       "      <td>Burkina Faso</td>\n",
       "      <td>2007</td>\n",
       "      <td>BFA</td>\n",
       "      <td>503.80</td>\n",
       "      <td>44246.0</td>\n",
       "      <td>NaN</td>\n",
       "      <td>NaN</td>\n",
       "      <td>NaN</td>\n",
       "      <td>NaN</td>\n",
       "      <td>NaN</td>\n",
       "      <td>...</td>\n",
       "      <td>5.91</td>\n",
       "      <td>52.27</td>\n",
       "      <td>45.13</td>\n",
       "      <td>76.15</td>\n",
       "      <td>15.60</td>\n",
       "      <td>6.38</td>\n",
       "      <td>46.49</td>\n",
       "      <td>12.238333</td>\n",
       "      <td>-1.561593</td>\n",
       "      <td>POINT (12.238333 -1.561593)</td>\n",
       "    </tr>\n",
       "    <tr>\n",
       "      <th>...</th>\n",
       "      <td>...</td>\n",
       "      <td>...</td>\n",
       "      <td>...</td>\n",
       "      <td>...</td>\n",
       "      <td>...</td>\n",
       "      <td>...</td>\n",
       "      <td>...</td>\n",
       "      <td>...</td>\n",
       "      <td>...</td>\n",
       "      <td>...</td>\n",
       "      <td>...</td>\n",
       "      <td>...</td>\n",
       "      <td>...</td>\n",
       "      <td>...</td>\n",
       "      <td>...</td>\n",
       "      <td>...</td>\n",
       "      <td>...</td>\n",
       "      <td>...</td>\n",
       "      <td>...</td>\n",
       "      <td>...</td>\n",
       "      <td>...</td>\n",
       "    </tr>\n",
       "    <tr>\n",
       "      <th>545</th>\n",
       "      <td>Tanzania</td>\n",
       "      <td>2017</td>\n",
       "      <td>TZA</td>\n",
       "      <td>123.96</td>\n",
       "      <td>5354819.0</td>\n",
       "      <td>54.6</td>\n",
       "      <td>36.2</td>\n",
       "      <td>25.8</td>\n",
       "      <td>NaN</td>\n",
       "      <td>NaN</td>\n",
       "      <td>...</td>\n",
       "      <td>5.20</td>\n",
       "      <td>56.73</td>\n",
       "      <td>42.50</td>\n",
       "      <td>85.54</td>\n",
       "      <td>29.91</td>\n",
       "      <td>23.66</td>\n",
       "      <td>42.57</td>\n",
       "      <td>-6.369028</td>\n",
       "      <td>34.888822</td>\n",
       "      <td>POINT (-6.369028 34.888822)</td>\n",
       "    </tr>\n",
       "    <tr>\n",
       "      <th>546</th>\n",
       "      <td>Togo</td>\n",
       "      <td>2017</td>\n",
       "      <td>TGO</td>\n",
       "      <td>278.20</td>\n",
       "      <td>1755577.0</td>\n",
       "      <td>69.7</td>\n",
       "      <td>31.1</td>\n",
       "      <td>41.7</td>\n",
       "      <td>NaN</td>\n",
       "      <td>NaN</td>\n",
       "      <td>...</td>\n",
       "      <td>3.79</td>\n",
       "      <td>65.13</td>\n",
       "      <td>48.39</td>\n",
       "      <td>89.06</td>\n",
       "      <td>16.13</td>\n",
       "      <td>7.40</td>\n",
       "      <td>28.61</td>\n",
       "      <td>8.619543</td>\n",
       "      <td>0.824782</td>\n",
       "      <td>POINT (8.619543 0.824782)</td>\n",
       "    </tr>\n",
       "    <tr>\n",
       "      <th>547</th>\n",
       "      <td>Uganda</td>\n",
       "      <td>2017</td>\n",
       "      <td>UGA</td>\n",
       "      <td>336.76</td>\n",
       "      <td>11667831.0</td>\n",
       "      <td>NaN</td>\n",
       "      <td>NaN</td>\n",
       "      <td>NaN</td>\n",
       "      <td>7.07</td>\n",
       "      <td>4.46</td>\n",
       "      <td>...</td>\n",
       "      <td>6.25</td>\n",
       "      <td>49.10</td>\n",
       "      <td>41.25</td>\n",
       "      <td>75.11</td>\n",
       "      <td>18.47</td>\n",
       "      <td>16.17</td>\n",
       "      <td>26.11</td>\n",
       "      <td>1.373333</td>\n",
       "      <td>32.290275</td>\n",
       "      <td>POINT (1.373333 32.290275)</td>\n",
       "    </tr>\n",
       "    <tr>\n",
       "      <th>548</th>\n",
       "      <td>Zambia</td>\n",
       "      <td>2017</td>\n",
       "      <td>ZMB</td>\n",
       "      <td>160.05</td>\n",
       "      <td>5505639.0</td>\n",
       "      <td>NaN</td>\n",
       "      <td>NaN</td>\n",
       "      <td>NaN</td>\n",
       "      <td>NaN</td>\n",
       "      <td>NaN</td>\n",
       "      <td>...</td>\n",
       "      <td>4.21</td>\n",
       "      <td>59.96</td>\n",
       "      <td>41.95</td>\n",
       "      <td>83.86</td>\n",
       "      <td>26.37</td>\n",
       "      <td>18.93</td>\n",
       "      <td>36.24</td>\n",
       "      <td>-13.133897</td>\n",
       "      <td>27.849332</td>\n",
       "      <td>POINT (-13.133897 27.849332)</td>\n",
       "    </tr>\n",
       "    <tr>\n",
       "      <th>549</th>\n",
       "      <td>Zimbabwe</td>\n",
       "      <td>2017</td>\n",
       "      <td>ZWE</td>\n",
       "      <td>108.55</td>\n",
       "      <td>467508.0</td>\n",
       "      <td>NaN</td>\n",
       "      <td>NaN</td>\n",
       "      <td>NaN</td>\n",
       "      <td>NaN</td>\n",
       "      <td>NaN</td>\n",
       "      <td>...</td>\n",
       "      <td>1.28</td>\n",
       "      <td>64.05</td>\n",
       "      <td>49.80</td>\n",
       "      <td>94.00</td>\n",
       "      <td>36.22</td>\n",
       "      <td>31.47</td>\n",
       "      <td>46.22</td>\n",
       "      <td>-19.015438</td>\n",
       "      <td>29.154857</td>\n",
       "      <td>POINT (-19.015438 29.154857)</td>\n",
       "    </tr>\n",
       "  </tbody>\n",
       "</table>\n",
       "<p>550 rows × 27 columns</p>\n",
       "</div>"
      ],
      "text/plain": [
       "      CountryName  Year CountryCode  IncidenceOfMalaria  MalariaCasesReported  \\\n",
       "0         Algeria  2007         DZA                0.01                  26.0   \n",
       "1          Angola  2007         AGO              286.72             1533485.0   \n",
       "2           Benin  2007         BEN              480.24                   0.0   \n",
       "3        Botswana  2007         BWA                1.03                 390.0   \n",
       "4    Burkina Faso  2007         BFA              503.80               44246.0   \n",
       "..            ...   ...         ...                 ...                   ...   \n",
       "545      Tanzania  2017         TZA              123.96             5354819.0   \n",
       "546          Togo  2017         TGO              278.20             1755577.0   \n",
       "547        Uganda  2017         UGA              336.76            11667831.0   \n",
       "548        Zambia  2017         ZMB              160.05             5505639.0   \n",
       "549      Zimbabwe  2017         ZWE              108.55              467508.0   \n",
       "\n",
       "     UseOfInsecticideTreatedBedNets  \\\n",
       "0                               NaN   \n",
       "1                              18.0   \n",
       "2                               NaN   \n",
       "3                               NaN   \n",
       "4                               NaN   \n",
       "..                              ...   \n",
       "545                            54.6   \n",
       "546                            69.7   \n",
       "547                             NaN   \n",
       "548                             NaN   \n",
       "549                             NaN   \n",
       "\n",
       "     ChildrenWithFeverReceivingAntimalarialDrugs  IPTofMalariaInPregnancy  \\\n",
       "0                                            NaN                      NaN   \n",
       "1                                           29.8                      1.5   \n",
       "2                                            NaN                      NaN   \n",
       "3                                            NaN                      NaN   \n",
       "4                                            NaN                      NaN   \n",
       "..                                           ...                      ...   \n",
       "545                                         36.2                     25.8   \n",
       "546                                         31.1                     41.7   \n",
       "547                                          NaN                      NaN   \n",
       "548                                          NaN                      NaN   \n",
       "549                                          NaN                      NaN   \n",
       "\n",
       "     PUSMDWS(%oOfpopulation)  PUSMDWS(%oOfRuralpopulation)  ...  \\\n",
       "0                        NaN                           NaN  ...   \n",
       "1                        NaN                           NaN  ...   \n",
       "2                        NaN                           NaN  ...   \n",
       "3                        NaN                           NaN  ...   \n",
       "4                        NaN                           NaN  ...   \n",
       "..                       ...                           ...  ...   \n",
       "545                      NaN                           NaN  ...   \n",
       "546                      NaN                           NaN  ...   \n",
       "547                     7.07                          4.46  ...   \n",
       "548                      NaN                           NaN  ...   \n",
       "549                      NaN                           NaN  ...   \n",
       "\n",
       "     UrbanPopulationGrowth  PUABDWS(%oOfpopulation)  \\\n",
       "0                     2.71                    91.68   \n",
       "1                     5.01                    47.96   \n",
       "2                     4.09                    63.78   \n",
       "3                     4.80                    78.89   \n",
       "4                     5.91                    52.27   \n",
       "..                     ...                      ...   \n",
       "545                   5.20                    56.73   \n",
       "546                   3.79                    65.13   \n",
       "547                   6.25                    49.10   \n",
       "548                   4.21                    59.96   \n",
       "549                   1.28                    64.05   \n",
       "\n",
       "     PUABDWS(%oOfRuralpopulation)  PUABDWS(%oOfUrbanpopulation)  \\\n",
       "0                           85.83                         94.78   \n",
       "1                           23.77                         65.83   \n",
       "2                           54.92                         76.24   \n",
       "3                           57.60                         94.35   \n",
       "4                           45.13                         76.15   \n",
       "..                            ...                           ...   \n",
       "545                         42.50                         85.54   \n",
       "546                         48.39                         89.06   \n",
       "547                         41.25                         75.11   \n",
       "548                         41.95                         83.86   \n",
       "549                         49.80                         94.00   \n",
       "\n",
       "     PUABSS(%oOfpopulation)  PUABSS(%oOfRuralpopulation)  \\\n",
       "0                     85.85                        76.94   \n",
       "1                     37.26                        14.00   \n",
       "2                     11.80                         4.29   \n",
       "3                     61.60                        39.99   \n",
       "4                     15.60                         6.38   \n",
       "..                      ...                          ...   \n",
       "545                   29.91                        23.66   \n",
       "546                   16.13                         7.40   \n",
       "547                   18.47                        16.17   \n",
       "548                   26.37                        18.93   \n",
       "549                   36.22                        31.47   \n",
       "\n",
       "     PUABSS(%oOfUrbanpopulation)   Latitude  Longitude  \\\n",
       "0                          90.57  28.033886   1.659626   \n",
       "1                          54.44 -11.202692  17.873887   \n",
       "2                          22.36   9.307690   2.315834   \n",
       "3                          77.30 -22.328474  24.684866   \n",
       "4                          46.49  12.238333  -1.561593   \n",
       "..                           ...        ...        ...   \n",
       "545                        42.57  -6.369028  34.888822   \n",
       "546                        28.61   8.619543   0.824782   \n",
       "547                        26.11   1.373333  32.290275   \n",
       "548                        36.24 -13.133897  27.849332   \n",
       "549                        46.22 -19.015438  29.154857   \n",
       "\n",
       "                               Geometry  \n",
       "0            POINT (28.033886 1.659626)  \n",
       "1          POINT (-11.202692 17.873887)  \n",
       "2    POINT (9.307689999999999 2.315834)  \n",
       "3          POINT (-22.328474 24.684866)  \n",
       "4           POINT (12.238333 -1.561593)  \n",
       "..                                  ...  \n",
       "545         POINT (-6.369028 34.888822)  \n",
       "546           POINT (8.619543 0.824782)  \n",
       "547          POINT (1.373333 32.290275)  \n",
       "548        POINT (-13.133897 27.849332)  \n",
       "549        POINT (-19.015438 29.154857)  \n",
       "\n",
       "[550 rows x 27 columns]"
      ]
     },
     "execution_count": 91,
     "metadata": {},
     "output_type": "execute_result"
    }
   ],
   "source": [
    "# drop rows with missing values for incidence of malaria and malaria cases reported\n",
    "malaria_data = malaria_data.dropna(subset=['IncidenceOfMalaria','MalariaCasesReported'])\n",
    "malaria_data.reset_index(drop=True) # reset the index of the dataframe after dropping some rows"
   ]
  },
  {
   "cell_type": "code",
   "execution_count": 92,
   "id": "c5a7854a",
   "metadata": {},
   "outputs": [
    {
     "data": {
      "text/plain": [
       "CountryName                                      0\n",
       "Year                                             0\n",
       "CountryCode                                      0\n",
       "IncidenceOfMalaria                               0\n",
       "MalariaCasesReported                             0\n",
       "UseOfInsecticideTreatedBedNets                 418\n",
       "ChildrenWithFeverReceivingAntimalarialDrugs    428\n",
       "IPTofMalariaInPregnancy                        444\n",
       "PUSMDWS(%oOfpopulation)                        462\n",
       "PUSMDWS(%oOfRuralpopulation)                   462\n",
       "PUSMDWS(%oOfUrbanpopulation)                   374\n",
       "PUSMSS(%oOfpopulation)                         429\n",
       "PUSMSS(%oOfRuralpopulation)                    440\n",
       "PUSMSS(%oOfUrbanpopulation)                    429\n",
       "RuralPopulation                                  6\n",
       "RuralPopulationGrowth                            6\n",
       "UrbanPopulation                                  6\n",
       "UrbanPopulationGrowth                            6\n",
       "PUABDWS(%oOfpopulation)                          6\n",
       "PUABDWS(%oOfRuralpopulation)                    17\n",
       "PUABDWS(%oOfUrbanpopulation)                    17\n",
       "PUABSS(%oOfpopulation)                           6\n",
       "PUABSS(%oOfRuralpopulation)                     17\n",
       "PUABSS(%oOfUrbanpopulation)                     17\n",
       "Latitude                                         0\n",
       "Longitude                                        0\n",
       "Geometry                                         0\n",
       "dtype: int64"
      ]
     },
     "execution_count": 92,
     "metadata": {},
     "output_type": "execute_result"
    }
   ],
   "source": [
    "# check if rows were dropped\n",
    "malaria_data.isna().sum()"
   ]
  },
  {
   "cell_type": "markdown",
   "id": "0f3fc722",
   "metadata": {},
   "source": [
    "## Filling some columns of interest\n",
    "### Filling UseOfInsecticideTreatedBedNets column\n",
    "\n",
    "\n"
   ]
  },
  {
   "cell_type": "code",
   "execution_count": 93,
   "id": "97aad21f",
   "metadata": {},
   "outputs": [
    {
     "name": "stderr",
     "output_type": "stream",
     "text": [
      "C:\\Users\\DC\\AppData\\Local\\Temp\\ipykernel_18160\\1973813570.py:2: SettingWithCopyWarning:\n",
      "\n",
      "\n",
      "A value is trying to be set on a copy of a slice from a DataFrame.\n",
      "Try using .loc[row_indexer,col_indexer] = value instead\n",
      "\n",
      "See the caveats in the documentation: https://pandas.pydata.org/pandas-docs/stable/user_guide/indexing.html#returning-a-view-versus-a-copy\n",
      "\n"
     ]
    }
   ],
   "source": [
    "# assuming the worst case for all countries and filling the nan values with the min[column value] for each country \n",
    "malaria_data['UseOfInsecticideTreatedBedNets']=malaria_data.groupby('CountryName')['UseOfInsecticideTreatedBedNets'].apply(lambda gp : gp.fillna(gp.min()))"
   ]
  },
  {
   "cell_type": "code",
   "execution_count": 94,
   "id": "dcea6af1",
   "metadata": {},
   "outputs": [
    {
     "data": {
      "text/plain": [
       "77"
      ]
     },
     "execution_count": 94,
     "metadata": {},
     "output_type": "execute_result"
    }
   ],
   "source": [
    "malaria_data['UseOfInsecticideTreatedBedNets'].isna().sum()"
   ]
  },
  {
   "cell_type": "markdown",
   "id": "4752b390",
   "metadata": {},
   "source": [
    "### Filling  ChildrenWithFeverReceivingAntimalarialDrugs "
   ]
  },
  {
   "cell_type": "code",
   "execution_count": 95,
   "id": "12f6be29",
   "metadata": {},
   "outputs": [
    {
     "name": "stderr",
     "output_type": "stream",
     "text": [
      "C:\\Users\\DC\\AppData\\Local\\Temp\\ipykernel_18160\\636415334.py:1: SettingWithCopyWarning:\n",
      "\n",
      "\n",
      "A value is trying to be set on a copy of a slice from a DataFrame.\n",
      "Try using .loc[row_indexer,col_indexer] = value instead\n",
      "\n",
      "See the caveats in the documentation: https://pandas.pydata.org/pandas-docs/stable/user_guide/indexing.html#returning-a-view-versus-a-copy\n",
      "\n"
     ]
    }
   ],
   "source": [
    "malaria_data['ChildrenWithFeverReceivingAntimalarialDrugs']=malaria_data.groupby('CountryName')['ChildrenWithFeverReceivingAntimalarialDrugs'].apply(lambda gp : gp.fillna(gp.min()))"
   ]
  },
  {
   "cell_type": "code",
   "execution_count": 96,
   "id": "6c52bdbe",
   "metadata": {},
   "outputs": [
    {
     "data": {
      "text/plain": [
       "77"
      ]
     },
     "execution_count": 96,
     "metadata": {},
     "output_type": "execute_result"
    }
   ],
   "source": [
    "malaria_data['ChildrenWithFeverReceivingAntimalarialDrugs'].isna().sum()"
   ]
  },
  {
   "cell_type": "markdown",
   "id": "ea0ec135",
   "metadata": {},
   "source": [
    "### Deleting columns with too many missing values\n",
    "Columns with too many missing values are unworkable with, hence we drop them.\n"
   ]
  },
  {
   "cell_type": "code",
   "execution_count": 99,
   "id": "886c05c1",
   "metadata": {},
   "outputs": [
    {
     "ename": "KeyError",
     "evalue": "\"['IPTofMalariaInPregnancy', 'PUSMDWS(%oOfpopulation)', 'PUSMSS(%oOfpopulation)', 'PUSMDWS(%oOfRuralpopulation)', 'PUSMDWS(%oOfUrbanpopulation)', 'PUSMSS(%oOfRuralpopulation)', 'PUSMSS(%oOfUrbanpopulation)'] not found in axis\"",
     "output_type": "error",
     "traceback": [
      "\u001b[1;31m---------------------------------------------------------------------------\u001b[0m",
      "\u001b[1;31mKeyError\u001b[0m                                  Traceback (most recent call last)",
      "Input \u001b[1;32mIn [99]\u001b[0m, in \u001b[0;36m<cell line: 1>\u001b[1;34m()\u001b[0m\n\u001b[1;32m----> 1\u001b[0m malaria_data\u001b[38;5;241m=\u001b[39m\u001b[43mmalaria_data\u001b[49m\u001b[38;5;241;43m.\u001b[39;49m\u001b[43mdrop\u001b[49m\u001b[43m(\u001b[49m\u001b[43mcolumns\u001b[49m\u001b[38;5;241;43m=\u001b[39;49m\u001b[43m[\u001b[49m\u001b[38;5;124;43m'\u001b[39;49m\u001b[38;5;124;43mIPTofMalariaInPregnancy\u001b[39;49m\u001b[38;5;124;43m'\u001b[39;49m\u001b[43m,\u001b[49m\u001b[38;5;124;43m'\u001b[39;49m\u001b[38;5;124;43mPUSMDWS(\u001b[39;49m\u001b[38;5;132;43;01m%o\u001b[39;49;00m\u001b[38;5;124;43mOfpopulation)\u001b[39;49m\u001b[38;5;124;43m'\u001b[39;49m\u001b[43m,\u001b[49m\u001b[38;5;124;43m'\u001b[39;49m\u001b[38;5;124;43mPUSMSS(\u001b[39;49m\u001b[38;5;132;43;01m%o\u001b[39;49;00m\u001b[38;5;124;43mOfpopulation)\u001b[39;49m\u001b[38;5;124;43m'\u001b[39;49m\u001b[43m,\u001b[49m\n\u001b[0;32m      2\u001b[0m \u001b[43m                                       \u001b[49m\u001b[38;5;124;43m'\u001b[39;49m\u001b[38;5;124;43mPUSMDWS(\u001b[39;49m\u001b[38;5;132;43;01m%o\u001b[39;49;00m\u001b[38;5;124;43mOfRuralpopulation)\u001b[39;49m\u001b[38;5;124;43m'\u001b[39;49m\u001b[43m,\u001b[49m\u001b[38;5;124;43m'\u001b[39;49m\u001b[38;5;124;43mPUSMDWS(\u001b[39;49m\u001b[38;5;132;43;01m%o\u001b[39;49;00m\u001b[38;5;124;43mOfUrbanpopulation)\u001b[39;49m\u001b[38;5;124;43m'\u001b[39;49m\u001b[43m,\u001b[49m\n\u001b[0;32m      3\u001b[0m \u001b[43m                                       \u001b[49m\u001b[38;5;124;43m'\u001b[39;49m\u001b[38;5;124;43mPUSMSS(\u001b[39;49m\u001b[38;5;132;43;01m%o\u001b[39;49;00m\u001b[38;5;124;43mOfRuralpopulation)\u001b[39;49m\u001b[38;5;124;43m'\u001b[39;49m\u001b[43m,\u001b[49m\u001b[38;5;124;43m'\u001b[39;49m\u001b[38;5;124;43mPUSMSS(\u001b[39;49m\u001b[38;5;132;43;01m%o\u001b[39;49;00m\u001b[38;5;124;43mOfUrbanpopulation)\u001b[39;49m\u001b[38;5;124;43m'\u001b[39;49m\u001b[43m]\u001b[49m\u001b[43m)\u001b[49m\n",
      "File \u001b[1;32m~\\anaconda3\\lib\\site-packages\\pandas\\util\\_decorators.py:311\u001b[0m, in \u001b[0;36mdeprecate_nonkeyword_arguments.<locals>.decorate.<locals>.wrapper\u001b[1;34m(*args, **kwargs)\u001b[0m\n\u001b[0;32m    305\u001b[0m \u001b[38;5;28;01mif\u001b[39;00m \u001b[38;5;28mlen\u001b[39m(args) \u001b[38;5;241m>\u001b[39m num_allow_args:\n\u001b[0;32m    306\u001b[0m     warnings\u001b[38;5;241m.\u001b[39mwarn(\n\u001b[0;32m    307\u001b[0m         msg\u001b[38;5;241m.\u001b[39mformat(arguments\u001b[38;5;241m=\u001b[39marguments),\n\u001b[0;32m    308\u001b[0m         \u001b[38;5;167;01mFutureWarning\u001b[39;00m,\n\u001b[0;32m    309\u001b[0m         stacklevel\u001b[38;5;241m=\u001b[39mstacklevel,\n\u001b[0;32m    310\u001b[0m     )\n\u001b[1;32m--> 311\u001b[0m \u001b[38;5;28;01mreturn\u001b[39;00m func(\u001b[38;5;241m*\u001b[39margs, \u001b[38;5;241m*\u001b[39m\u001b[38;5;241m*\u001b[39mkwargs)\n",
      "File \u001b[1;32m~\\anaconda3\\lib\\site-packages\\pandas\\core\\frame.py:4954\u001b[0m, in \u001b[0;36mDataFrame.drop\u001b[1;34m(self, labels, axis, index, columns, level, inplace, errors)\u001b[0m\n\u001b[0;32m   4806\u001b[0m \u001b[38;5;129m@deprecate_nonkeyword_arguments\u001b[39m(version\u001b[38;5;241m=\u001b[39m\u001b[38;5;28;01mNone\u001b[39;00m, allowed_args\u001b[38;5;241m=\u001b[39m[\u001b[38;5;124m\"\u001b[39m\u001b[38;5;124mself\u001b[39m\u001b[38;5;124m\"\u001b[39m, \u001b[38;5;124m\"\u001b[39m\u001b[38;5;124mlabels\u001b[39m\u001b[38;5;124m\"\u001b[39m])\n\u001b[0;32m   4807\u001b[0m \u001b[38;5;28;01mdef\u001b[39;00m \u001b[38;5;21mdrop\u001b[39m(\n\u001b[0;32m   4808\u001b[0m     \u001b[38;5;28mself\u001b[39m,\n\u001b[1;32m   (...)\u001b[0m\n\u001b[0;32m   4815\u001b[0m     errors: \u001b[38;5;28mstr\u001b[39m \u001b[38;5;241m=\u001b[39m \u001b[38;5;124m\"\u001b[39m\u001b[38;5;124mraise\u001b[39m\u001b[38;5;124m\"\u001b[39m,\n\u001b[0;32m   4816\u001b[0m ):\n\u001b[0;32m   4817\u001b[0m     \u001b[38;5;124;03m\"\"\"\u001b[39;00m\n\u001b[0;32m   4818\u001b[0m \u001b[38;5;124;03m    Drop specified labels from rows or columns.\u001b[39;00m\n\u001b[0;32m   4819\u001b[0m \n\u001b[1;32m   (...)\u001b[0m\n\u001b[0;32m   4952\u001b[0m \u001b[38;5;124;03m            weight  1.0     0.8\u001b[39;00m\n\u001b[0;32m   4953\u001b[0m \u001b[38;5;124;03m    \"\"\"\u001b[39;00m\n\u001b[1;32m-> 4954\u001b[0m     \u001b[38;5;28;01mreturn\u001b[39;00m \u001b[38;5;28;43msuper\u001b[39;49m\u001b[43m(\u001b[49m\u001b[43m)\u001b[49m\u001b[38;5;241;43m.\u001b[39;49m\u001b[43mdrop\u001b[49m\u001b[43m(\u001b[49m\n\u001b[0;32m   4955\u001b[0m \u001b[43m        \u001b[49m\u001b[43mlabels\u001b[49m\u001b[38;5;241;43m=\u001b[39;49m\u001b[43mlabels\u001b[49m\u001b[43m,\u001b[49m\n\u001b[0;32m   4956\u001b[0m \u001b[43m        \u001b[49m\u001b[43maxis\u001b[49m\u001b[38;5;241;43m=\u001b[39;49m\u001b[43maxis\u001b[49m\u001b[43m,\u001b[49m\n\u001b[0;32m   4957\u001b[0m \u001b[43m        \u001b[49m\u001b[43mindex\u001b[49m\u001b[38;5;241;43m=\u001b[39;49m\u001b[43mindex\u001b[49m\u001b[43m,\u001b[49m\n\u001b[0;32m   4958\u001b[0m \u001b[43m        \u001b[49m\u001b[43mcolumns\u001b[49m\u001b[38;5;241;43m=\u001b[39;49m\u001b[43mcolumns\u001b[49m\u001b[43m,\u001b[49m\n\u001b[0;32m   4959\u001b[0m \u001b[43m        \u001b[49m\u001b[43mlevel\u001b[49m\u001b[38;5;241;43m=\u001b[39;49m\u001b[43mlevel\u001b[49m\u001b[43m,\u001b[49m\n\u001b[0;32m   4960\u001b[0m \u001b[43m        \u001b[49m\u001b[43minplace\u001b[49m\u001b[38;5;241;43m=\u001b[39;49m\u001b[43minplace\u001b[49m\u001b[43m,\u001b[49m\n\u001b[0;32m   4961\u001b[0m \u001b[43m        \u001b[49m\u001b[43merrors\u001b[49m\u001b[38;5;241;43m=\u001b[39;49m\u001b[43merrors\u001b[49m\u001b[43m,\u001b[49m\n\u001b[0;32m   4962\u001b[0m \u001b[43m    \u001b[49m\u001b[43m)\u001b[49m\n",
      "File \u001b[1;32m~\\anaconda3\\lib\\site-packages\\pandas\\core\\generic.py:4267\u001b[0m, in \u001b[0;36mNDFrame.drop\u001b[1;34m(self, labels, axis, index, columns, level, inplace, errors)\u001b[0m\n\u001b[0;32m   4265\u001b[0m \u001b[38;5;28;01mfor\u001b[39;00m axis, labels \u001b[38;5;129;01min\u001b[39;00m axes\u001b[38;5;241m.\u001b[39mitems():\n\u001b[0;32m   4266\u001b[0m     \u001b[38;5;28;01mif\u001b[39;00m labels \u001b[38;5;129;01mis\u001b[39;00m \u001b[38;5;129;01mnot\u001b[39;00m \u001b[38;5;28;01mNone\u001b[39;00m:\n\u001b[1;32m-> 4267\u001b[0m         obj \u001b[38;5;241m=\u001b[39m \u001b[43mobj\u001b[49m\u001b[38;5;241;43m.\u001b[39;49m\u001b[43m_drop_axis\u001b[49m\u001b[43m(\u001b[49m\u001b[43mlabels\u001b[49m\u001b[43m,\u001b[49m\u001b[43m \u001b[49m\u001b[43maxis\u001b[49m\u001b[43m,\u001b[49m\u001b[43m \u001b[49m\u001b[43mlevel\u001b[49m\u001b[38;5;241;43m=\u001b[39;49m\u001b[43mlevel\u001b[49m\u001b[43m,\u001b[49m\u001b[43m \u001b[49m\u001b[43merrors\u001b[49m\u001b[38;5;241;43m=\u001b[39;49m\u001b[43merrors\u001b[49m\u001b[43m)\u001b[49m\n\u001b[0;32m   4269\u001b[0m \u001b[38;5;28;01mif\u001b[39;00m inplace:\n\u001b[0;32m   4270\u001b[0m     \u001b[38;5;28mself\u001b[39m\u001b[38;5;241m.\u001b[39m_update_inplace(obj)\n",
      "File \u001b[1;32m~\\anaconda3\\lib\\site-packages\\pandas\\core\\generic.py:4311\u001b[0m, in \u001b[0;36mNDFrame._drop_axis\u001b[1;34m(self, labels, axis, level, errors, consolidate, only_slice)\u001b[0m\n\u001b[0;32m   4309\u001b[0m         new_axis \u001b[38;5;241m=\u001b[39m axis\u001b[38;5;241m.\u001b[39mdrop(labels, level\u001b[38;5;241m=\u001b[39mlevel, errors\u001b[38;5;241m=\u001b[39merrors)\n\u001b[0;32m   4310\u001b[0m     \u001b[38;5;28;01melse\u001b[39;00m:\n\u001b[1;32m-> 4311\u001b[0m         new_axis \u001b[38;5;241m=\u001b[39m \u001b[43maxis\u001b[49m\u001b[38;5;241;43m.\u001b[39;49m\u001b[43mdrop\u001b[49m\u001b[43m(\u001b[49m\u001b[43mlabels\u001b[49m\u001b[43m,\u001b[49m\u001b[43m \u001b[49m\u001b[43merrors\u001b[49m\u001b[38;5;241;43m=\u001b[39;49m\u001b[43merrors\u001b[49m\u001b[43m)\u001b[49m\n\u001b[0;32m   4312\u001b[0m     indexer \u001b[38;5;241m=\u001b[39m axis\u001b[38;5;241m.\u001b[39mget_indexer(new_axis)\n\u001b[0;32m   4314\u001b[0m \u001b[38;5;66;03m# Case for non-unique axis\u001b[39;00m\n\u001b[0;32m   4315\u001b[0m \u001b[38;5;28;01melse\u001b[39;00m:\n",
      "File \u001b[1;32m~\\anaconda3\\lib\\site-packages\\pandas\\core\\indexes\\base.py:6644\u001b[0m, in \u001b[0;36mIndex.drop\u001b[1;34m(self, labels, errors)\u001b[0m\n\u001b[0;32m   6642\u001b[0m \u001b[38;5;28;01mif\u001b[39;00m mask\u001b[38;5;241m.\u001b[39many():\n\u001b[0;32m   6643\u001b[0m     \u001b[38;5;28;01mif\u001b[39;00m errors \u001b[38;5;241m!=\u001b[39m \u001b[38;5;124m\"\u001b[39m\u001b[38;5;124mignore\u001b[39m\u001b[38;5;124m\"\u001b[39m:\n\u001b[1;32m-> 6644\u001b[0m         \u001b[38;5;28;01mraise\u001b[39;00m \u001b[38;5;167;01mKeyError\u001b[39;00m(\u001b[38;5;124mf\u001b[39m\u001b[38;5;124m\"\u001b[39m\u001b[38;5;132;01m{\u001b[39;00m\u001b[38;5;28mlist\u001b[39m(labels[mask])\u001b[38;5;132;01m}\u001b[39;00m\u001b[38;5;124m not found in axis\u001b[39m\u001b[38;5;124m\"\u001b[39m)\n\u001b[0;32m   6645\u001b[0m     indexer \u001b[38;5;241m=\u001b[39m indexer[\u001b[38;5;241m~\u001b[39mmask]\n\u001b[0;32m   6646\u001b[0m \u001b[38;5;28;01mreturn\u001b[39;00m \u001b[38;5;28mself\u001b[39m\u001b[38;5;241m.\u001b[39mdelete(indexer)\n",
      "\u001b[1;31mKeyError\u001b[0m: \"['IPTofMalariaInPregnancy', 'PUSMDWS(%oOfpopulation)', 'PUSMSS(%oOfpopulation)', 'PUSMDWS(%oOfRuralpopulation)', 'PUSMDWS(%oOfUrbanpopulation)', 'PUSMSS(%oOfRuralpopulation)', 'PUSMSS(%oOfUrbanpopulation)'] not found in axis\""
     ]
    }
   ],
   "source": [
    "malaria_data=malaria_data.drop(columns=['IPTofMalariaInPregnancy','PUSMDWS(%oOfpopulation)','PUSMSS(%oOfpopulation)',\n",
    "                                       'PUSMDWS(%oOfRuralpopulation)','PUSMDWS(%oOfUrbanpopulation)',\n",
    "                                       'PUSMSS(%oOfRuralpopulation)','PUSMSS(%oOfUrbanpopulation)'])\n"
   ]
  },
  {
   "cell_type": "code",
   "execution_count": null,
   "id": "f7db2fe1",
   "metadata": {
    "scrolled": false
   },
   "outputs": [],
   "source": [
    "# further data exploration\n",
    "malaria_data[\"UseOfInsecticideTreatedBedNets\"].isna().groupby(malaria_data['CountryName']).sum()\n"
   ]
  },
  {
   "cell_type": "code",
   "execution_count": null,
   "id": "629df7f4",
   "metadata": {},
   "outputs": [],
   "source": [
    "# check if above result is true\n",
    "# check if the min use insecticide treated bed nets in Cameroon is 21\n",
    "cameroon_data = malaria_data[malaria_data['CountryName']=='Cameroon']\n",
    "cameroon_data"
   ]
  },
  {
   "cell_type": "code",
   "execution_count": null,
   "id": "fd9b3e3a",
   "metadata": {
    "scrolled": true
   },
   "outputs": [],
   "source": [
    "cameroon_data[['CountryName','UseOfInsecticideTreatedBedNets']].min()"
   ]
  },
  {
   "cell_type": "markdown",
   "id": "a32956e7",
   "metadata": {},
   "source": [
    "## Checking for any casual or direct  relationship  between malaria cases reported and some attributes"
   ]
  },
  {
   "cell_type": "code",
   "execution_count": null,
   "id": "354b226f",
   "metadata": {},
   "outputs": [],
   "source": [
    "import matplotlib.pyplot as plt\n",
    "import seaborn as sns\n",
    "sns.set()"
   ]
  },
  {
   "cell_type": "code",
   "execution_count": 102,
   "id": "b8cdc5ea",
   "metadata": {
    "scrolled": true
   },
   "outputs": [
    {
     "data": {
      "image/png": "[encoded data removed]",
      "text/plain": [
       "<Figure size 576x360 with 1 Axes>"
      ]
     },
     "metadata": {},
     "output_type": "display_data"
    }
   ],
   "source": [
    "plt.figure(figsize = (8, 5))\n",
    "sns.regplot(y = \"MalariaCasesReported\", \n",
    "            x = \"UseOfInsecticideTreatedBedNets\", \n",
    "            data = malaria_data[malaria_data.notna()], \n",
    "            scatter_kws = {'color': 'k'}, # color for the points\n",
    "            line_kws = {'color': 'red'}) # color for the regression line\n",
    "plt.xlabel(\"UseOfInsecticideTreatedBedNets(% of under 5 population)\")\n",
    "plt.ylabel(\"MalariaCasesReported\")\n",
    "plt.title(\"Regression plot of MalariaCasesReported vs UseOfInsecticideTreatedBedNets(% of under 5 population) \", fontsize = 14, weight = \"bold\")\n",
    "plt.show()"
   ]
  },
  {
   "cell_type": "code",
   "execution_count": 103,
   "id": "e6c25f5e",
   "metadata": {
    "scrolled": true
   },
   "outputs": [
    {
     "data": {
      "image/png": "[encoded data removed]",
      "text/plain": [
       "<Figure size 576x360 with 1 Axes>"
      ]
     },
     "metadata": {},
     "output_type": "display_data"
    }
   ],
   "source": [
    "# malaria cases vs children taking antimalarial\n",
    "plt.figure(figsize = (8, 5))\n",
    "sns.regplot(y = \"MalariaCasesReported\", \n",
    "            x = \"ChildrenWithFeverReceivingAntimalarialDrugs\", \n",
    "            data = malaria_data[malaria_data.notna()], \n",
    "            scatter_kws = {'color': 'k'}, # color for the points\n",
    "            line_kws = {'color': 'red'}) # color for the regression line\n",
    "plt.xlabel(\"ChildrenWithFeverReceivingAntimalarialDrugs(% of under-5 with fever)\")\n",
    "plt.ylabel(\"MalariaCasesReported\")\n",
    "plt.title(\"Regression plot of MalariaCasesReported vs ChildrenWithFeverReceivingAntimalarialDrugs(% of under 5 with fever) \", fontsize = 14, weight = \"bold\")\n",
    "plt.show()"
   ]
  },
  {
   "cell_type": "markdown",
   "id": "d060edbe",
   "metadata": {},
   "source": [
    "### Checking for any casual or direct relationship between the Incidence of malaria (per 1000 population at risk) and some attributes¶"
   ]
  },
  {
   "cell_type": "code",
   "execution_count": 104,
   "id": "79797315",
   "metadata": {
    "scrolled": true
   },
   "outputs": [
    {
     "data": {
      "image/png": "[encoded data removed]",
      "text/plain": [
       "<Figure size 432x288 with 1 Axes>"
      ]
     },
     "metadata": {},
     "output_type": "display_data"
    }
   ],
   "source": [
    "#Incidence of malaria vs ChildrenWithFeverReceivingAntimalarialDrugs (% of under-5 with fever)\n",
    "sns.regplot(y = \"IncidenceOfMalaria\", \n",
    "            x = \"ChildrenWithFeverReceivingAntimalarialDrugs\", \n",
    "            data = malaria_data[malaria_data.notna()], \n",
    "            scatter_kws = {'color': 'k'}, # color for the points\n",
    "            line_kws = {'color': 'red'}) # color for the regression line\n",
    "plt.xlabel(\"ChildrenWithFeverReceivingAntimalarialDrugs(% of under-5 with fever)\")\n",
    "plt.ylabel(\"IncidenceOfMalaria\")\n",
    "plt.title(\"Regression plot of IncidenceOfMalaria per 1000 population at risk vs ChildrenWithFeverReceivingAntimalarialDrugs(% of under 5 with fever) \", fontsize = 14, weight = \"bold\")\n",
    "plt.show()"
   ]
  },
  {
   "cell_type": "code",
   "execution_count": 107,
   "id": "03cc9e6a",
   "metadata": {},
   "outputs": [
    {
     "data": {
      "image/png": "[encoded data removed]",
      "text/plain": [
       "<Figure size 432x288 with 1 Axes>"
      ]
     },
     "metadata": {},
     "output_type": "display_data"
    }
   ],
   "source": [
    "# Incidence of malaria vs Rural Population\n",
    "sns.regplot(y = \"IncidenceOfMalaria\", \n",
    "            x = \"RuralPopulation\", \n",
    "            data = malaria_data[malaria_data.notna()], \n",
    "            scatter_kws = {'color': 'k'}, # color for the points\n",
    "            line_kws = {'color': 'red'}) # color for the regression line\n",
    "plt.xlabel(\"Rural Population(% of total population)\")\n",
    "plt.ylabel(\"IncidenceOfMalaria\")\n",
    "plt.title(\"Regression plot of IncidenceOfMalaria per 1000 population at risk vs Rural Population(% of total population) \", fontsize = 14, weight = \"bold\")\n",
    "plt.show()"
   ]
  },
  {
   "cell_type": "code",
   "execution_count": 109,
   "id": "c5c61ad5",
   "metadata": {},
   "outputs": [
    {
     "data": {
      "image/png": "[encoded data removed]",
      "text/plain": [
       "<Figure size 432x288 with 1 Axes>"
      ]
     },
     "metadata": {},
     "output_type": "display_data"
    }
   ],
   "source": [
    "# Incidence of malaria vs  People using at least basic drinking water services (% of population)\n",
    "sns.regplot(y = \"IncidenceOfMalaria\", \n",
    "            x = \"PUABDWS(%oOfpopulation)\", \n",
    "            data = malaria_data[malaria_data.notna()], \n",
    "            scatter_kws = {'color': 'k'}, # color for the points\n",
    "            line_kws = {'color': 'red'}) # color for the regression line\n",
    "plt.xlabel(\" People using at least basic drinking water services (% of population)\")\n",
    "plt.ylabel(\"IncidenceOfMalaria\")\n",
    "plt.title(\"Regression plot of IncidenceOfMalaria per 1000 population at risk vs People using at least basic drinking water services (% of population) \", fontsize = 14, weight = \"bold\")\n",
    "plt.show()"
   ]
  },
  {
   "cell_type": "code",
   "execution_count": 110,
   "id": "38c98876",
   "metadata": {},
   "outputs": [
    {
     "data": {
      "image/png": "[encoded data removed]",
      "text/plain": [
       "<Figure size 432x288 with 1 Axes>"
      ]
     },
     "metadata": {},
     "output_type": "display_data"
    }
   ],
   "source": [
    "# Incidence of malaria vs  People using at least basic sanitation services (% of population)\n",
    "sns.regplot(y = \"IncidenceOfMalaria\", \n",
    "            x = \"PUABSS(%oOfpopulation)\", \n",
    "            data = malaria_data[malaria_data.notna()], \n",
    "            scatter_kws = {'color': 'k'}, # color for the points\n",
    "            line_kws = {'color': 'red'}) # color for the regression line\n",
    "plt.xlabel(\" People using at least basic sanitation services (% of population)\")\n",
    "plt.ylabel(\"IncidenceOfMalaria\")\n",
    "plt.title(\"Regression plot of IncidenceOfMalaria per 1000 population at risk vs People using at least basic sanitation services (% of population)\", fontsize = 14, weight = \"bold\")\n",
    "plt.show()"
   ]
  },
  {
   "cell_type": "markdown",
   "id": "0b0a8e28",
   "metadata": {},
   "source": [
    "### Trend of Malaria Cases Reported  in Africa"
   ]
  },
  {
   "cell_type": "code",
   "execution_count": 111,
   "id": "c4f19f35",
   "metadata": {},
   "outputs": [
    {
     "data": {
      "image/png": "[encoded data removed]",
      "text/plain": [
       "<Figure size 576x360 with 1 Axes>"
      ]
     },
     "metadata": {},
     "output_type": "display_data"
    }
   ],
   "source": [
    "plt.figure(figsize = (8, 5))\n",
    "sns.lineplot(y = \"MalariaCasesReported\", \n",
    "            x = \"Year\", \n",
    "            data =malaria_data[malaria_data.notna()],)\n",
    "plt.xlabel(\"Year\")\n",
    "plt.ylabel(\"MalariaCasesReported\")\n",
    "plt.title(\"Trend of Malaria Cases reported in Africa between 2007 and 2017  \", fontsize = 14, weight = \"bold\")\n",
    "plt.show()"
   ]
  },
  {
   "cell_type": "markdown",
   "id": "d7547fd8",
   "metadata": {},
   "source": [
    "### Trend of IncidenceOfMalaria( per 1000 of population at risk) in Africa between 2007 and 2017"
   ]
  },
  {
   "cell_type": "code",
   "execution_count": 114,
   "id": "58c20e09",
   "metadata": {},
   "outputs": [
    {
     "data": {
      "image/png": "[encoded data removed]",
      "text/plain": [
       "<Figure size 576x360 with 1 Axes>"
      ]
     },
     "metadata": {},
     "output_type": "display_data"
    }
   ],
   "source": [
    "plt.figure(figsize = (8, 5))\n",
    "sns.lineplot(y = \"IncidenceOfMalaria\", \n",
    "            x = \"Year\", \n",
    "            data =malaria_data[malaria_data.notna()],)\n",
    "plt.xlabel(\"Year\")\n",
    "plt.ylabel(\"IncidenceOfMalaria\")\n",
    "plt.title(\"Trend of IncidenceOfMalaria( per 1000 of population at risk) in Africa between 2007 and 2017  \", fontsize = 15, weight = \"bold\")\n",
    "plt.show()"
   ]
  }
 ],
 "metadata": {
  "kernelspec": {
   "display_name": "Python 3 (ipykernel)",
   "language": "python",
   "name": "python3"
  },
  "language_info": {
   "codemirror_mode": {
    "name": "ipython",
    "version": 3
   },
   "file_extension": ".py",
   "mimetype": "text/x-python",
   "name": "python",
   "nbconvert_exporter": "python",
   "pygments_lexer": "ipython3",
   "version": "3.9.12"
  }
 },
 "nbformat": 4,
 "nbformat_minor": 5
}
